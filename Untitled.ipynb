{
 "cells": [
  {
   "cell_type": "code",
   "execution_count": 1,
   "id": "0d524992",
   "metadata": {
    "ExecuteTime": {
     "end_time": "2021-08-27T08:33:59.295884Z",
     "start_time": "2021-08-27T08:33:58.812846Z"
    }
   },
   "outputs": [],
   "source": [
    "import pandas as pd"
   ]
  },
  {
   "cell_type": "code",
   "execution_count": 2,
   "id": "0cc1e81a",
   "metadata": {
    "ExecuteTime": {
     "end_time": "2021-08-27T08:34:18.135730Z",
     "start_time": "2021-08-27T08:34:16.518172Z"
    }
   },
   "outputs": [
    {
     "name": "stderr",
     "output_type": "stream",
     "text": [
      "/Users/raphaelmenguy/.pyenv/versions/3.8.6/envs/lewagon/lib/python3.8/site-packages/IPython/core/interactiveshell.py:3169: DtypeWarning: Columns (0) have mixed types.Specify dtype option on import or set low_memory=False.\n",
      "  has_raised = await self.run_ast_nodes(code_ast.body, cell_name,\n"
     ]
    }
   ],
   "source": [
    "df = pd.read_csv('https://static.data.gouv.fr/resources/taux-dincidence-de-lepidemie-de-covid-19/20210826-190514/sp-pe-tb-quot-dep-2021-08-26-19h05.csv',sep=';')"
   ]
  },
  {
   "cell_type": "code",
   "execution_count": 3,
   "id": "4499e520",
   "metadata": {
    "ExecuteTime": {
     "end_time": "2021-08-27T08:34:19.871904Z",
     "start_time": "2021-08-27T08:34:19.843490Z"
    }
   },
   "outputs": [
    {
     "data": {
      "text/html": [
       "<div>\n",
       "<style scoped>\n",
       "    .dataframe tbody tr th:only-of-type {\n",
       "        vertical-align: middle;\n",
       "    }\n",
       "\n",
       "    .dataframe tbody tr th {\n",
       "        vertical-align: top;\n",
       "    }\n",
       "\n",
       "    .dataframe thead th {\n",
       "        text-align: right;\n",
       "    }\n",
       "</style>\n",
       "<table border=\"1\" class=\"dataframe\">\n",
       "  <thead>\n",
       "    <tr style=\"text-align: right;\">\n",
       "      <th></th>\n",
       "      <th>dep</th>\n",
       "      <th>jour</th>\n",
       "      <th>P</th>\n",
       "      <th>cl_age90</th>\n",
       "      <th>pop</th>\n",
       "    </tr>\n",
       "  </thead>\n",
       "  <tbody>\n",
       "    <tr>\n",
       "      <th>0</th>\n",
       "      <td>1</td>\n",
       "      <td>2020-05-13</td>\n",
       "      <td>0</td>\n",
       "      <td>9</td>\n",
       "      <td>83001.000000</td>\n",
       "    </tr>\n",
       "    <tr>\n",
       "      <th>1</th>\n",
       "      <td>1</td>\n",
       "      <td>2020-05-13</td>\n",
       "      <td>1</td>\n",
       "      <td>19</td>\n",
       "      <td>84665.000000</td>\n",
       "    </tr>\n",
       "    <tr>\n",
       "      <th>2</th>\n",
       "      <td>1</td>\n",
       "      <td>2020-05-13</td>\n",
       "      <td>0</td>\n",
       "      <td>29</td>\n",
       "      <td>65496.000000</td>\n",
       "    </tr>\n",
       "    <tr>\n",
       "      <th>3</th>\n",
       "      <td>1</td>\n",
       "      <td>2020-05-13</td>\n",
       "      <td>1</td>\n",
       "      <td>39</td>\n",
       "      <td>85588.000000</td>\n",
       "    </tr>\n",
       "    <tr>\n",
       "      <th>4</th>\n",
       "      <td>1</td>\n",
       "      <td>2020-05-13</td>\n",
       "      <td>0</td>\n",
       "      <td>49</td>\n",
       "      <td>89678.000000</td>\n",
       "    </tr>\n",
       "    <tr>\n",
       "      <th>...</th>\n",
       "      <td>...</td>\n",
       "      <td>...</td>\n",
       "      <td>...</td>\n",
       "      <td>...</td>\n",
       "      <td>...</td>\n",
       "    </tr>\n",
       "    <tr>\n",
       "      <th>535387</th>\n",
       "      <td>978</td>\n",
       "      <td>2021-08-23</td>\n",
       "      <td>8</td>\n",
       "      <td>69</td>\n",
       "      <td>3060.024992</td>\n",
       "    </tr>\n",
       "    <tr>\n",
       "      <th>535388</th>\n",
       "      <td>978</td>\n",
       "      <td>2021-08-23</td>\n",
       "      <td>0</td>\n",
       "      <td>79</td>\n",
       "      <td>1152.934377</td>\n",
       "    </tr>\n",
       "    <tr>\n",
       "      <th>535389</th>\n",
       "      <td>978</td>\n",
       "      <td>2021-08-23</td>\n",
       "      <td>0</td>\n",
       "      <td>89</td>\n",
       "      <td>346.012162</td>\n",
       "    </tr>\n",
       "    <tr>\n",
       "      <th>535390</th>\n",
       "      <td>978</td>\n",
       "      <td>2021-08-23</td>\n",
       "      <td>0</td>\n",
       "      <td>90</td>\n",
       "      <td>70.655167</td>\n",
       "    </tr>\n",
       "    <tr>\n",
       "      <th>535391</th>\n",
       "      <td>978</td>\n",
       "      <td>2021-08-23</td>\n",
       "      <td>51</td>\n",
       "      <td>0</td>\n",
       "      <td>35334.000000</td>\n",
       "    </tr>\n",
       "  </tbody>\n",
       "</table>\n",
       "<p>535392 rows × 5 columns</p>\n",
       "</div>"
      ],
      "text/plain": [
       "        dep        jour   P  cl_age90           pop\n",
       "0         1  2020-05-13   0         9  83001.000000\n",
       "1         1  2020-05-13   1        19  84665.000000\n",
       "2         1  2020-05-13   0        29  65496.000000\n",
       "3         1  2020-05-13   1        39  85588.000000\n",
       "4         1  2020-05-13   0        49  89678.000000\n",
       "...     ...         ...  ..       ...           ...\n",
       "535387  978  2021-08-23   8        69   3060.024992\n",
       "535388  978  2021-08-23   0        79   1152.934377\n",
       "535389  978  2021-08-23   0        89    346.012162\n",
       "535390  978  2021-08-23   0        90     70.655167\n",
       "535391  978  2021-08-23  51         0  35334.000000\n",
       "\n",
       "[535392 rows x 5 columns]"
      ]
     },
     "execution_count": 3,
     "metadata": {},
     "output_type": "execute_result"
    }
   ],
   "source": [
    "df"
   ]
  },
  {
   "cell_type": "code",
   "execution_count": null,
   "id": "bcc4a17d",
   "metadata": {},
   "outputs": [],
   "source": []
  }
 ],
 "metadata": {
  "kernelspec": {
   "display_name": "Python 3 (ipykernel)",
   "language": "python",
   "name": "python3"
  },
  "language_info": {
   "codemirror_mode": {
    "name": "ipython",
    "version": 3
   },
   "file_extension": ".py",
   "mimetype": "text/x-python",
   "name": "python",
   "nbconvert_exporter": "python",
   "pygments_lexer": "ipython3",
   "version": "3.8.6"
  },
  "toc": {
   "base_numbering": 1,
   "nav_menu": {},
   "number_sections": true,
   "sideBar": true,
   "skip_h1_title": false,
   "title_cell": "Table of Contents",
   "title_sidebar": "Contents",
   "toc_cell": false,
   "toc_position": {},
   "toc_section_display": true,
   "toc_window_display": false
  }
 },
 "nbformat": 4,
 "nbformat_minor": 5
}
