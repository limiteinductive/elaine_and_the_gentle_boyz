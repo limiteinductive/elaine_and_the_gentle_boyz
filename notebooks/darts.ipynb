{
 "cells": [
  {
   "cell_type": "code",
   "execution_count": 1,
   "metadata": {
    "ExecuteTime": {
     "end_time": "2021-08-27T08:22:18.020811Z",
     "start_time": "2021-08-27T08:22:17.482287Z"
    },
    "id": "OXdePhqshiPF"
   },
   "outputs": [],
   "source": [
    "import pandas as pd\n",
    "# ^^^ pyforest auto-imports - don't write above this line\n",
    "import sys\n",
    "import time\n",
    "import pandas as pd\n",
    "import numpy as np\n",
    "import matplotlib.pyplot as plt\n",
    "from datetime import datetime\n",
    "import xarray as xr\n",
    "\n",
    "\n",
    "import warnings\n",
    "warnings.filterwarnings(\"ignore\")\n",
    "import logging\n",
    "logging.disable(logging.CRITICAL)"
   ]
  },
  {
   "cell_type": "code",
   "execution_count": 2,
   "metadata": {
    "ExecuteTime": {
     "end_time": "2021-08-27T08:22:19.691239Z",
     "start_time": "2021-08-27T08:22:19.674132Z"
    }
   },
   "outputs": [],
   "source": [
    "%load_ext autoreload\n",
    "%autoreload 2"
   ]
  },
  {
   "cell_type": "code",
   "execution_count": 7,
   "metadata": {
    "ExecuteTime": {
     "end_time": "2021-08-27T08:22:44.642762Z",
     "start_time": "2021-08-27T08:22:44.624501Z"
    },
    "id": "W8Nw8sBCk27G"
   },
   "outputs": [],
   "source": [
    "# Dataset suivi https://www.data.gouv.fr/fr/datasets/synthese-des-indicateurs-de-suivi-de-lepidemie-covid-19/\n",
    "link = 'https://www.data.gouv.fr/fr/datasets/r/5c4e1452-3850-4b59-b11c-3dd51d7fb8b5'"
   ]
  },
  {
   "cell_type": "code",
   "execution_count": 48,
   "metadata": {
    "ExecuteTime": {
     "end_time": "2021-08-27T08:37:51.709573Z",
     "start_time": "2021-08-27T08:37:51.693959Z"
    }
   },
   "outputs": [],
   "source": [
    "from egbz.utils import *"
   ]
  },
  {
   "cell_type": "code",
   "execution_count": 8,
   "metadata": {
    "ExecuteTime": {
     "end_time": "2021-08-27T08:22:46.873810Z",
     "start_time": "2021-08-27T08:22:45.954228Z"
    }
   },
   "outputs": [],
   "source": [
    "df = pd.read_csv(link)"
   ]
  },
  {
   "cell_type": "code",
   "execution_count": 40,
   "metadata": {
    "ExecuteTime": {
     "end_time": "2021-08-27T08:34:02.360254Z",
     "start_time": "2021-08-27T08:34:02.339367Z"
    }
   },
   "outputs": [],
   "source": [
    "multi_df = df[['hosp', 'date', 'dep']].set_index(['dep', 'date'])"
   ]
  },
  {
   "cell_type": "code",
   "execution_count": 47,
   "metadata": {
    "ExecuteTime": {
     "end_time": "2021-08-27T08:35:22.758783Z",
     "start_time": "2021-08-27T08:35:22.511666Z"
    }
   },
   "outputs": [
    {
     "data": {
      "image/png": "[encoded data removed]",
      "text/plain": [
       "<Figure size 432x288 with 1 Axes>"
      ]
     },
     "metadata": {
      "needs_background": "light"
     },
     "output_type": "display_data"
    }
   ],
   "source": [
    "multi_df.to_xarray().hosp.loc[75, :].plot();"
   ]
  },
  {
   "cell_type": "code",
   "execution_count": 28,
   "metadata": {
    "ExecuteTime": {
     "end_time": "2021-08-27T08:27:30.808727Z",
     "start_time": "2021-08-27T08:27:30.777016Z"
    }
   },
   "outputs": [
    {
     "data": {
      "text/html": [
       "<div><svg style=\"position: absolute; width: 0; height: 0; overflow: hidden\">\n",
       "<defs>\n",
       "<symbol id=\"icon-database\" viewBox=\"0 0 32 32\">\n",
       "<path d=\"M16 0c-8.837 0-16 2.239-16 5v4c0 2.761 7.163 5 16 5s16-2.239 16-5v-4c0-2.761-7.163-5-16-5z\"></path>\n",
       "<path d=\"M16 17c-8.837 0-16-2.239-16-5v6c0 2.761 7.163 5 16 5s16-2.239 16-5v-6c0 2.761-7.163 5-16 5z\"></path>\n",
       "<path d=\"M16 26c-8.837 0-16-2.239-16-5v6c0 2.761 7.163 5 16 5s16-2.239 16-5v-6c0 2.761-7.163 5-16 5z\"></path>\n",
       "</symbol>\n",
       "<symbol id=\"icon-file-text2\" viewBox=\"0 0 32 32\">\n",
       "<path d=\"M28.681 7.159c-0.694-0.947-1.662-2.053-2.724-3.116s-2.169-2.030-3.116-2.724c-1.612-1.182-2.393-1.319-2.841-1.319h-15.5c-1.378 0-2.5 1.121-2.5 2.5v27c0 1.378 1.122 2.5 2.5 2.5h23c1.378 0 2.5-1.122 2.5-2.5v-19.5c0-0.448-0.137-1.23-1.319-2.841zM24.543 5.457c0.959 0.959 1.712 1.825 2.268 2.543h-4.811v-4.811c0.718 0.556 1.584 1.309 2.543 2.268zM28 29.5c0 0.271-0.229 0.5-0.5 0.5h-23c-0.271 0-0.5-0.229-0.5-0.5v-27c0-0.271 0.229-0.5 0.5-0.5 0 0 15.499-0 15.5 0v7c0 0.552 0.448 1 1 1h7v19.5z\"></path>\n",
       "<path d=\"M23 26h-14c-0.552 0-1-0.448-1-1s0.448-1 1-1h14c0.552 0 1 0.448 1 1s-0.448 1-1 1z\"></path>\n",
       "<path d=\"M23 22h-14c-0.552 0-1-0.448-1-1s0.448-1 1-1h14c0.552 0 1 0.448 1 1s-0.448 1-1 1z\"></path>\n",
       "<path d=\"M23 18h-14c-0.552 0-1-0.448-1-1s0.448-1 1-1h14c0.552 0 1 0.448 1 1s-0.448 1-1 1z\"></path>\n",
       "</symbol>\n",
       "</defs>\n",
       "</svg>\n",
       "<style>/* CSS stylesheet for displaying xarray objects in jupyterlab.\n",
       " *\n",
       " */\n",
       "\n",
       ":root {\n",
       "  --xr-font-color0: var(--jp-content-font-color0, rgba(0, 0, 0, 1));\n",
       "  --xr-font-color2: var(--jp-content-font-color2, rgba(0, 0, 0, 0.54));\n",
       "  --xr-font-color3: var(--jp-content-font-color3, rgba(0, 0, 0, 0.38));\n",
       "  --xr-border-color: var(--jp-border-color2, #e0e0e0);\n",
       "  --xr-disabled-color: var(--jp-layout-color3, #bdbdbd);\n",
       "  --xr-background-color: var(--jp-layout-color0, white);\n",
       "  --xr-background-color-row-even: var(--jp-layout-color1, white);\n",
       "  --xr-background-color-row-odd: var(--jp-layout-color2, #eeeeee);\n",
       "}\n",
       "\n",
       "html[theme=dark],\n",
       "body.vscode-dark {\n",
       "  --xr-font-color0: rgba(255, 255, 255, 1);\n",
       "  --xr-font-color2: rgba(255, 255, 255, 0.54);\n",
       "  --xr-font-color3: rgba(255, 255, 255, 0.38);\n",
       "  --xr-border-color: #1F1F1F;\n",
       "  --xr-disabled-color: #515151;\n",
       "  --xr-background-color: #111111;\n",
       "  --xr-background-color-row-even: #111111;\n",
       "  --xr-background-color-row-odd: #313131;\n",
       "}\n",
       "\n",
       ".xr-wrap {\n",
       "  display: block;\n",
       "  min-width: 300px;\n",
       "  max-width: 700px;\n",
       "}\n",
       "\n",
       ".xr-text-repr-fallback {\n",
       "  /* fallback to plain text repr when CSS is not injected (untrusted notebook) */\n",
       "  display: none;\n",
       "}\n",
       "\n",
       ".xr-header {\n",
       "  padding-top: 6px;\n",
       "  padding-bottom: 6px;\n",
       "  margin-bottom: 4px;\n",
       "  border-bottom: solid 1px var(--xr-border-color);\n",
       "}\n",
       "\n",
       ".xr-header > div,\n",
       ".xr-header > ul {\n",
       "  display: inline;\n",
       "  margin-top: 0;\n",
       "  margin-bottom: 0;\n",
       "}\n",
       "\n",
       ".xr-obj-type,\n",
       ".xr-array-name {\n",
       "  margin-left: 2px;\n",
       "  margin-right: 10px;\n",
       "}\n",
       "\n",
       ".xr-obj-type {\n",
       "  color: var(--xr-font-color2);\n",
       "}\n",
       "\n",
       ".xr-sections {\n",
       "  padding-left: 0 !important;\n",
       "  display: grid;\n",
       "  grid-template-columns: 150px auto auto 1fr 20px 20px;\n",
       "}\n",
       "\n",
       ".xr-section-item {\n",
       "  display: contents;\n",
       "}\n",
       "\n",
       ".xr-section-item input {\n",
       "  display: none;\n",
       "}\n",
       "\n",
       ".xr-section-item input + label {\n",
       "  color: var(--xr-disabled-color);\n",
       "}\n",
       "\n",
       ".xr-section-item input:enabled + label {\n",
       "  cursor: pointer;\n",
       "  color: var(--xr-font-color2);\n",
       "}\n",
       "\n",
       ".xr-section-item input:enabled + label:hover {\n",
       "  color: var(--xr-font-color0);\n",
       "}\n",
       "\n",
       ".xr-section-summary {\n",
       "  grid-column: 1;\n",
       "  color: var(--xr-font-color2);\n",
       "  font-weight: 500;\n",
       "}\n",
       "\n",
       ".xr-section-summary > span {\n",
       "  display: inline-block;\n",
       "  padding-left: 0.5em;\n",
       "}\n",
       "\n",
       ".xr-section-summary-in:disabled + label {\n",
       "  color: var(--xr-font-color2);\n",
       "}\n",
       "\n",
       ".xr-section-summary-in + label:before {\n",
       "  display: inline-block;\n",
       "  content: '►';\n",
       "  font-size: 11px;\n",
       "  width: 15px;\n",
       "  text-align: center;\n",
       "}\n",
       "\n",
       ".xr-section-summary-in:disabled + label:before {\n",
       "  color: var(--xr-disabled-color);\n",
       "}\n",
       "\n",
       ".xr-section-summary-in:checked + label:before {\n",
       "  content: '▼';\n",
       "}\n",
       "\n",
       ".xr-section-summary-in:checked + label > span {\n",
       "  display: none;\n",
       "}\n",
       "\n",
       ".xr-section-summary,\n",
       ".xr-section-inline-details {\n",
       "  padding-top: 4px;\n",
       "  padding-bottom: 4px;\n",
       "}\n",
       "\n",
       ".xr-section-inline-details {\n",
       "  grid-column: 2 / -1;\n",
       "}\n",
       "\n",
       ".xr-section-details {\n",
       "  display: none;\n",
       "  grid-column: 1 / -1;\n",
       "  margin-bottom: 5px;\n",
       "}\n",
       "\n",
       ".xr-section-summary-in:checked ~ .xr-section-details {\n",
       "  display: contents;\n",
       "}\n",
       "\n",
       ".xr-array-wrap {\n",
       "  grid-column: 1 / -1;\n",
       "  display: grid;\n",
       "  grid-template-columns: 20px auto;\n",
       "}\n",
       "\n",
       ".xr-array-wrap > label {\n",
       "  grid-column: 1;\n",
       "  vertical-align: top;\n",
       "}\n",
       "\n",
       ".xr-preview {\n",
       "  color: var(--xr-font-color3);\n",
       "}\n",
       "\n",
       ".xr-array-preview,\n",
       ".xr-array-data {\n",
       "  padding: 0 5px !important;\n",
       "  grid-column: 2;\n",
       "}\n",
       "\n",
       ".xr-array-data,\n",
       ".xr-array-in:checked ~ .xr-array-preview {\n",
       "  display: none;\n",
       "}\n",
       "\n",
       ".xr-array-in:checked ~ .xr-array-data,\n",
       ".xr-array-preview {\n",
       "  display: inline-block;\n",
       "}\n",
       "\n",
       ".xr-dim-list {\n",
       "  display: inline-block !important;\n",
       "  list-style: none;\n",
       "  padding: 0 !important;\n",
       "  margin: 0;\n",
       "}\n",
       "\n",
       ".xr-dim-list li {\n",
       "  display: inline-block;\n",
       "  padding: 0;\n",
       "  margin: 0;\n",
       "}\n",
       "\n",
       ".xr-dim-list:before {\n",
       "  content: '(';\n",
       "}\n",
       "\n",
       ".xr-dim-list:after {\n",
       "  content: ')';\n",
       "}\n",
       "\n",
       ".xr-dim-list li:not(:last-child):after {\n",
       "  content: ',';\n",
       "  padding-right: 5px;\n",
       "}\n",
       "\n",
       ".xr-has-index {\n",
       "  font-weight: bold;\n",
       "}\n",
       "\n",
       ".xr-var-list,\n",
       ".xr-var-item {\n",
       "  display: contents;\n",
       "}\n",
       "\n",
       ".xr-var-item > div,\n",
       ".xr-var-item label,\n",
       ".xr-var-item > .xr-var-name span {\n",
       "  background-color: var(--xr-background-color-row-even);\n",
       "  margin-bottom: 0;\n",
       "}\n",
       "\n",
       ".xr-var-item > .xr-var-name:hover span {\n",
       "  padding-right: 5px;\n",
       "}\n",
       "\n",
       ".xr-var-list > li:nth-child(odd) > div,\n",
       ".xr-var-list > li:nth-child(odd) > label,\n",
       ".xr-var-list > li:nth-child(odd) > .xr-var-name span {\n",
       "  background-color: var(--xr-background-color-row-odd);\n",
       "}\n",
       "\n",
       ".xr-var-name {\n",
       "  grid-column: 1;\n",
       "}\n",
       "\n",
       ".xr-var-dims {\n",
       "  grid-column: 2;\n",
       "}\n",
       "\n",
       ".xr-var-dtype {\n",
       "  grid-column: 3;\n",
       "  text-align: right;\n",
       "  color: var(--xr-font-color2);\n",
       "}\n",
       "\n",
       ".xr-var-preview {\n",
       "  grid-column: 4;\n",
       "}\n",
       "\n",
       ".xr-var-name,\n",
       ".xr-var-dims,\n",
       ".xr-var-dtype,\n",
       ".xr-preview,\n",
       ".xr-attrs dt {\n",
       "  white-space: nowrap;\n",
       "  overflow: hidden;\n",
       "  text-overflow: ellipsis;\n",
       "  padding-right: 10px;\n",
       "}\n",
       "\n",
       ".xr-var-name:hover,\n",
       ".xr-var-dims:hover,\n",
       ".xr-var-dtype:hover,\n",
       ".xr-attrs dt:hover {\n",
       "  overflow: visible;\n",
       "  width: auto;\n",
       "  z-index: 1;\n",
       "}\n",
       "\n",
       ".xr-var-attrs,\n",
       ".xr-var-data {\n",
       "  display: none;\n",
       "  background-color: var(--xr-background-color) !important;\n",
       "  padding-bottom: 5px !important;\n",
       "}\n",
       "\n",
       ".xr-var-attrs-in:checked ~ .xr-var-attrs,\n",
       ".xr-var-data-in:checked ~ .xr-var-data {\n",
       "  display: block;\n",
       "}\n",
       "\n",
       ".xr-var-data > table {\n",
       "  float: right;\n",
       "}\n",
       "\n",
       ".xr-var-name span,\n",
       ".xr-var-data,\n",
       ".xr-attrs {\n",
       "  padding-left: 25px !important;\n",
       "}\n",
       "\n",
       ".xr-attrs,\n",
       ".xr-var-attrs,\n",
       ".xr-var-data {\n",
       "  grid-column: 1 / -1;\n",
       "}\n",
       "\n",
       "dl.xr-attrs {\n",
       "  padding: 0;\n",
       "  margin: 0;\n",
       "  display: grid;\n",
       "  grid-template-columns: 125px auto;\n",
       "}\n",
       "\n",
       ".xr-attrs dt,\n",
       ".xr-attrs dd {\n",
       "  padding: 0;\n",
       "  margin: 0;\n",
       "  float: left;\n",
       "  padding-right: 10px;\n",
       "  width: auto;\n",
       "}\n",
       "\n",
       ".xr-attrs dt {\n",
       "  font-weight: normal;\n",
       "  grid-column: 1;\n",
       "}\n",
       "\n",
       ".xr-attrs dt:hover span {\n",
       "  display: inline-block;\n",
       "  background: var(--xr-background-color);\n",
       "  padding-right: 10px;\n",
       "}\n",
       "\n",
       ".xr-attrs dd {\n",
       "  grid-column: 2;\n",
       "  white-space: pre-wrap;\n",
       "  word-break: break-all;\n",
       "}\n",
       "\n",
       ".xr-icon-database,\n",
       ".xr-icon-file-text2 {\n",
       "  display: inline-block;\n",
       "  vertical-align: middle;\n",
       "  width: 1em;\n",
       "  height: 1.5em !important;\n",
       "  stroke-width: 0;\n",
       "  stroke: currentColor;\n",
       "  fill: currentColor;\n",
       "}\n",
       "</style><pre class='xr-text-repr-fallback'>&lt;xarray.DataArray &#x27;hosp&#x27; (dep: 102, date: 527)&gt;\n",
       "array([[ nan,  nan,  nan, ..., 140., 141., 139.],\n",
       "       [ 10.,   9.,   4., ...,  60.,  62.,  62.],\n",
       "       [  5.,   9.,   8., ..., 124., 115., 112.],\n",
       "       ...,\n",
       "       [ 94., 109., 123., ..., 129., 132., 134.],\n",
       "       [  4.,   2.,   3., ...,  37.,  38.,  40.],\n",
       "       [ 22.,  30.,  50., ...,  nan,  nan,  nan]])\n",
       "Coordinates:\n",
       "  * dep      (dep) object 62 63 64 65 66 67 68 ... &#x27;57&#x27; &#x27;58&#x27; &#x27;59&#x27; &#x27;60&#x27; &#x27;61&#x27; &#x27;62&#x27;\n",
       "  * date     (date) datetime64[ns] 2020-03-18 2020-03-19 ... 2021-08-26</pre><div class='xr-wrap' hidden><div class='xr-header'><div class='xr-obj-type'>xarray.DataArray</div><div class='xr-array-name'>'hosp'</div><ul class='xr-dim-list'><li><span class='xr-has-index'>dep</span>: 102</li><li><span class='xr-has-index'>date</span>: 527</li></ul></div><ul class='xr-sections'><li class='xr-section-item'><div class='xr-array-wrap'><input id='section-21c597a2-e1ce-4fdc-b309-322ca9ed9df0' class='xr-array-in' type='checkbox' checked><label for='section-21c597a2-e1ce-4fdc-b309-322ca9ed9df0' title='Show/hide data repr'><svg class='icon xr-icon-database'><use xlink:href='#icon-database'></use></svg></label><div class='xr-array-preview xr-preview'><span>nan nan nan nan nan nan nan nan ... nan nan nan nan nan nan nan nan</span></div><div class='xr-array-data'><pre>array([[ nan,  nan,  nan, ..., 140., 141., 139.],\n",
       "       [ 10.,   9.,   4., ...,  60.,  62.,  62.],\n",
       "       [  5.,   9.,   8., ..., 124., 115., 112.],\n",
       "       ...,\n",
       "       [ 94., 109., 123., ..., 129., 132., 134.],\n",
       "       [  4.,   2.,   3., ...,  37.,  38.,  40.],\n",
       "       [ 22.,  30.,  50., ...,  nan,  nan,  nan]])</pre></div></div></li><li class='xr-section-item'><input id='section-118f5fe6-1b61-42b8-bebf-f33626eb0103' class='xr-section-summary-in' type='checkbox'  checked><label for='section-118f5fe6-1b61-42b8-bebf-f33626eb0103' class='xr-section-summary' >Coordinates: <span>(2)</span></label><div class='xr-section-inline-details'></div><div class='xr-section-details'><ul class='xr-var-list'><li class='xr-var-item'><div class='xr-var-name'><span class='xr-has-index'>dep</span></div><div class='xr-var-dims'>(dep)</div><div class='xr-var-dtype'>object</div><div class='xr-var-preview xr-preview'>62 63 64 65 ... &#x27;59&#x27; &#x27;60&#x27; &#x27;61&#x27; &#x27;62&#x27;</div><input id='attrs-ecd05e37-8298-4a2b-9c3d-bbae4f6d8b84' class='xr-var-attrs-in' type='checkbox' disabled><label for='attrs-ecd05e37-8298-4a2b-9c3d-bbae4f6d8b84' title='Show/Hide attributes'><svg class='icon xr-icon-file-text2'><use xlink:href='#icon-file-text2'></use></svg></label><input id='data-7c550132-175a-456d-94bb-60e79866f4a7' class='xr-var-data-in' type='checkbox'><label for='data-7c550132-175a-456d-94bb-60e79866f4a7' title='Show/Hide data repr'><svg class='icon xr-icon-database'><use xlink:href='#icon-database'></use></svg></label><div class='xr-var-attrs'><dl class='xr-attrs'></dl></div><div class='xr-var-data'><pre>array([62, 63, 64, 65, 66, 67, 68, 69, 70, 71, 72, 73, 74, 75, 76, 77, 78, 79,\n",
       "       80, 81, 82, 83, 84, 85, 86, 87, 88, 89, 90, 91, 92, 93, 94, 95, 971,\n",
       "       972, 973, 974, 976, &#x27;01&#x27;, &#x27;02&#x27;, &#x27;03&#x27;, &#x27;04&#x27;, &#x27;05&#x27;, &#x27;06&#x27;, &#x27;07&#x27;, &#x27;08&#x27;,\n",
       "       &#x27;09&#x27;, &#x27;10&#x27;, &#x27;11&#x27;, &#x27;12&#x27;, &#x27;13&#x27;, &#x27;14&#x27;, &#x27;15&#x27;, &#x27;16&#x27;, &#x27;17&#x27;, &#x27;18&#x27;, &#x27;19&#x27;, &#x27;21&#x27;,\n",
       "       &#x27;22&#x27;, &#x27;23&#x27;, &#x27;24&#x27;, &#x27;25&#x27;, &#x27;26&#x27;, &#x27;27&#x27;, &#x27;28&#x27;, &#x27;29&#x27;, &#x27;2A&#x27;, &#x27;2B&#x27;, &#x27;30&#x27;, &#x27;31&#x27;,\n",
       "       &#x27;32&#x27;, &#x27;33&#x27;, &#x27;34&#x27;, &#x27;35&#x27;, &#x27;36&#x27;, &#x27;37&#x27;, &#x27;38&#x27;, &#x27;39&#x27;, &#x27;40&#x27;, &#x27;41&#x27;, &#x27;42&#x27;, &#x27;43&#x27;,\n",
       "       &#x27;44&#x27;, &#x27;45&#x27;, &#x27;46&#x27;, &#x27;47&#x27;, &#x27;48&#x27;, &#x27;49&#x27;, &#x27;50&#x27;, &#x27;51&#x27;, &#x27;52&#x27;, &#x27;53&#x27;, &#x27;54&#x27;, &#x27;55&#x27;,\n",
       "       &#x27;56&#x27;, &#x27;57&#x27;, &#x27;58&#x27;, &#x27;59&#x27;, &#x27;60&#x27;, &#x27;61&#x27;, &#x27;62&#x27;], dtype=object)</pre></div></li><li class='xr-var-item'><div class='xr-var-name'><span class='xr-has-index'>date</span></div><div class='xr-var-dims'>(date)</div><div class='xr-var-dtype'>datetime64[ns]</div><div class='xr-var-preview xr-preview'>2020-03-18 ... 2021-08-26</div><input id='attrs-e3a498a4-f307-40c3-b970-66ea88d1ebe0' class='xr-var-attrs-in' type='checkbox' disabled><label for='attrs-e3a498a4-f307-40c3-b970-66ea88d1ebe0' title='Show/Hide attributes'><svg class='icon xr-icon-file-text2'><use xlink:href='#icon-file-text2'></use></svg></label><input id='data-32195ad1-d723-4750-b12a-5b44485cad6a' class='xr-var-data-in' type='checkbox'><label for='data-32195ad1-d723-4750-b12a-5b44485cad6a' title='Show/Hide data repr'><svg class='icon xr-icon-database'><use xlink:href='#icon-database'></use></svg></label><div class='xr-var-attrs'><dl class='xr-attrs'></dl></div><div class='xr-var-data'><pre>array([&#x27;2020-03-18T00:00:00.000000000&#x27;, &#x27;2020-03-19T00:00:00.000000000&#x27;,\n",
       "       &#x27;2020-03-20T00:00:00.000000000&#x27;, ..., &#x27;2021-08-24T00:00:00.000000000&#x27;,\n",
       "       &#x27;2021-08-25T00:00:00.000000000&#x27;, &#x27;2021-08-26T00:00:00.000000000&#x27;],\n",
       "      dtype=&#x27;datetime64[ns]&#x27;)</pre></div></li></ul></div></li><li class='xr-section-item'><input id='section-9c5a6a81-2dd7-4e60-b106-d991e8dba9f2' class='xr-section-summary-in' type='checkbox' disabled ><label for='section-9c5a6a81-2dd7-4e60-b106-d991e8dba9f2' class='xr-section-summary'  title='Expand/collapse section'>Attributes: <span>(0)</span></label><div class='xr-section-inline-details'></div><div class='xr-section-details'><dl class='xr-attrs'></dl></div></li></ul></div></div>"
      ],
      "text/plain": [
       "<xarray.DataArray 'hosp' (dep: 102, date: 527)>\n",
       "array([[ nan,  nan,  nan, ..., 140., 141., 139.],\n",
       "       [ 10.,   9.,   4., ...,  60.,  62.,  62.],\n",
       "       [  5.,   9.,   8., ..., 124., 115., 112.],\n",
       "       ...,\n",
       "       [ 94., 109., 123., ..., 129., 132., 134.],\n",
       "       [  4.,   2.,   3., ...,  37.,  38.,  40.],\n",
       "       [ 22.,  30.,  50., ...,  nan,  nan,  nan]])\n",
       "Coordinates:\n",
       "  * dep      (dep) object 62 63 64 65 66 67 68 ... '57' '58' '59' '60' '61' '62'\n",
       "  * date     (date) datetime64[ns] 2020-03-18 2020-03-19 ... 2021-08-26"
      ]
     },
     "execution_count": 28,
     "metadata": {},
     "output_type": "execute_result"
    }
   ],
   "source": [
    "df[['date','dep','hosp']].set_index(['dep', 'date'], verify_integrity=True).to_xarray().hosp"
   ]
  },
  {
   "cell_type": "code",
   "execution_count": 49,
   "metadata": {
    "ExecuteTime": {
     "end_time": "2021-08-27T08:37:54.706789Z",
     "start_time": "2021-08-27T08:37:54.661357Z"
    }
   },
   "outputs": [],
   "source": [
    "dataset = create_dataset(df, zone_col='dep', time_col='date', feat_cols='hosp')"
   ]
  },
  {
   "cell_type": "code",
   "execution_count": 50,
   "metadata": {
    "ExecuteTime": {
     "end_time": "2021-08-27T08:37:56.597952Z",
     "start_time": "2021-08-27T08:37:56.578756Z"
    }
   },
   "outputs": [
    {
     "data": {
      "text/html": [
       "<div><svg style=\"position: absolute; width: 0; height: 0; overflow: hidden\">\n",
       "<defs>\n",
       "<symbol id=\"icon-database\" viewBox=\"0 0 32 32\">\n",
       "<path d=\"M16 0c-8.837 0-16 2.239-16 5v4c0 2.761 7.163 5 16 5s16-2.239 16-5v-4c0-2.761-7.163-5-16-5z\"></path>\n",
       "<path d=\"M16 17c-8.837 0-16-2.239-16-5v6c0 2.761 7.163 5 16 5s16-2.239 16-5v-6c0 2.761-7.163 5-16 5z\"></path>\n",
       "<path d=\"M16 26c-8.837 0-16-2.239-16-5v6c0 2.761 7.163 5 16 5s16-2.239 16-5v-6c0 2.761-7.163 5-16 5z\"></path>\n",
       "</symbol>\n",
       "<symbol id=\"icon-file-text2\" viewBox=\"0 0 32 32\">\n",
       "<path d=\"M28.681 7.159c-0.694-0.947-1.662-2.053-2.724-3.116s-2.169-2.030-3.116-2.724c-1.612-1.182-2.393-1.319-2.841-1.319h-15.5c-1.378 0-2.5 1.121-2.5 2.5v27c0 1.378 1.122 2.5 2.5 2.5h23c1.378 0 2.5-1.122 2.5-2.5v-19.5c0-0.448-0.137-1.23-1.319-2.841zM24.543 5.457c0.959 0.959 1.712 1.825 2.268 2.543h-4.811v-4.811c0.718 0.556 1.584 1.309 2.543 2.268zM28 29.5c0 0.271-0.229 0.5-0.5 0.5h-23c-0.271 0-0.5-0.229-0.5-0.5v-27c0-0.271 0.229-0.5 0.5-0.5 0 0 15.499-0 15.5 0v7c0 0.552 0.448 1 1 1h7v19.5z\"></path>\n",
       "<path d=\"M23 26h-14c-0.552 0-1-0.448-1-1s0.448-1 1-1h14c0.552 0 1 0.448 1 1s-0.448 1-1 1z\"></path>\n",
       "<path d=\"M23 22h-14c-0.552 0-1-0.448-1-1s0.448-1 1-1h14c0.552 0 1 0.448 1 1s-0.448 1-1 1z\"></path>\n",
       "<path d=\"M23 18h-14c-0.552 0-1-0.448-1-1s0.448-1 1-1h14c0.552 0 1 0.448 1 1s-0.448 1-1 1z\"></path>\n",
       "</symbol>\n",
       "</defs>\n",
       "</svg>\n",
       "<style>/* CSS stylesheet for displaying xarray objects in jupyterlab.\n",
       " *\n",
       " */\n",
       "\n",
       ":root {\n",
       "  --xr-font-color0: var(--jp-content-font-color0, rgba(0, 0, 0, 1));\n",
       "  --xr-font-color2: var(--jp-content-font-color2, rgba(0, 0, 0, 0.54));\n",
       "  --xr-font-color3: var(--jp-content-font-color3, rgba(0, 0, 0, 0.38));\n",
       "  --xr-border-color: var(--jp-border-color2, #e0e0e0);\n",
       "  --xr-disabled-color: var(--jp-layout-color3, #bdbdbd);\n",
       "  --xr-background-color: var(--jp-layout-color0, white);\n",
       "  --xr-background-color-row-even: var(--jp-layout-color1, white);\n",
       "  --xr-background-color-row-odd: var(--jp-layout-color2, #eeeeee);\n",
       "}\n",
       "\n",
       "html[theme=dark],\n",
       "body.vscode-dark {\n",
       "  --xr-font-color0: rgba(255, 255, 255, 1);\n",
       "  --xr-font-color2: rgba(255, 255, 255, 0.54);\n",
       "  --xr-font-color3: rgba(255, 255, 255, 0.38);\n",
       "  --xr-border-color: #1F1F1F;\n",
       "  --xr-disabled-color: #515151;\n",
       "  --xr-background-color: #111111;\n",
       "  --xr-background-color-row-even: #111111;\n",
       "  --xr-background-color-row-odd: #313131;\n",
       "}\n",
       "\n",
       ".xr-wrap {\n",
       "  display: block;\n",
       "  min-width: 300px;\n",
       "  max-width: 700px;\n",
       "}\n",
       "\n",
       ".xr-text-repr-fallback {\n",
       "  /* fallback to plain text repr when CSS is not injected (untrusted notebook) */\n",
       "  display: none;\n",
       "}\n",
       "\n",
       ".xr-header {\n",
       "  padding-top: 6px;\n",
       "  padding-bottom: 6px;\n",
       "  margin-bottom: 4px;\n",
       "  border-bottom: solid 1px var(--xr-border-color);\n",
       "}\n",
       "\n",
       ".xr-header > div,\n",
       ".xr-header > ul {\n",
       "  display: inline;\n",
       "  margin-top: 0;\n",
       "  margin-bottom: 0;\n",
       "}\n",
       "\n",
       ".xr-obj-type,\n",
       ".xr-array-name {\n",
       "  margin-left: 2px;\n",
       "  margin-right: 10px;\n",
       "}\n",
       "\n",
       ".xr-obj-type {\n",
       "  color: var(--xr-font-color2);\n",
       "}\n",
       "\n",
       ".xr-sections {\n",
       "  padding-left: 0 !important;\n",
       "  display: grid;\n",
       "  grid-template-columns: 150px auto auto 1fr 20px 20px;\n",
       "}\n",
       "\n",
       ".xr-section-item {\n",
       "  display: contents;\n",
       "}\n",
       "\n",
       ".xr-section-item input {\n",
       "  display: none;\n",
       "}\n",
       "\n",
       ".xr-section-item input + label {\n",
       "  color: var(--xr-disabled-color);\n",
       "}\n",
       "\n",
       ".xr-section-item input:enabled + label {\n",
       "  cursor: pointer;\n",
       "  color: var(--xr-font-color2);\n",
       "}\n",
       "\n",
       ".xr-section-item input:enabled + label:hover {\n",
       "  color: var(--xr-font-color0);\n",
       "}\n",
       "\n",
       ".xr-section-summary {\n",
       "  grid-column: 1;\n",
       "  color: var(--xr-font-color2);\n",
       "  font-weight: 500;\n",
       "}\n",
       "\n",
       ".xr-section-summary > span {\n",
       "  display: inline-block;\n",
       "  padding-left: 0.5em;\n",
       "}\n",
       "\n",
       ".xr-section-summary-in:disabled + label {\n",
       "  color: var(--xr-font-color2);\n",
       "}\n",
       "\n",
       ".xr-section-summary-in + label:before {\n",
       "  display: inline-block;\n",
       "  content: '►';\n",
       "  font-size: 11px;\n",
       "  width: 15px;\n",
       "  text-align: center;\n",
       "}\n",
       "\n",
       ".xr-section-summary-in:disabled + label:before {\n",
       "  color: var(--xr-disabled-color);\n",
       "}\n",
       "\n",
       ".xr-section-summary-in:checked + label:before {\n",
       "  content: '▼';\n",
       "}\n",
       "\n",
       ".xr-section-summary-in:checked + label > span {\n",
       "  display: none;\n",
       "}\n",
       "\n",
       ".xr-section-summary,\n",
       ".xr-section-inline-details {\n",
       "  padding-top: 4px;\n",
       "  padding-bottom: 4px;\n",
       "}\n",
       "\n",
       ".xr-section-inline-details {\n",
       "  grid-column: 2 / -1;\n",
       "}\n",
       "\n",
       ".xr-section-details {\n",
       "  display: none;\n",
       "  grid-column: 1 / -1;\n",
       "  margin-bottom: 5px;\n",
       "}\n",
       "\n",
       ".xr-section-summary-in:checked ~ .xr-section-details {\n",
       "  display: contents;\n",
       "}\n",
       "\n",
       ".xr-array-wrap {\n",
       "  grid-column: 1 / -1;\n",
       "  display: grid;\n",
       "  grid-template-columns: 20px auto;\n",
       "}\n",
       "\n",
       ".xr-array-wrap > label {\n",
       "  grid-column: 1;\n",
       "  vertical-align: top;\n",
       "}\n",
       "\n",
       ".xr-preview {\n",
       "  color: var(--xr-font-color3);\n",
       "}\n",
       "\n",
       ".xr-array-preview,\n",
       ".xr-array-data {\n",
       "  padding: 0 5px !important;\n",
       "  grid-column: 2;\n",
       "}\n",
       "\n",
       ".xr-array-data,\n",
       ".xr-array-in:checked ~ .xr-array-preview {\n",
       "  display: none;\n",
       "}\n",
       "\n",
       ".xr-array-in:checked ~ .xr-array-data,\n",
       ".xr-array-preview {\n",
       "  display: inline-block;\n",
       "}\n",
       "\n",
       ".xr-dim-list {\n",
       "  display: inline-block !important;\n",
       "  list-style: none;\n",
       "  padding: 0 !important;\n",
       "  margin: 0;\n",
       "}\n",
       "\n",
       ".xr-dim-list li {\n",
       "  display: inline-block;\n",
       "  padding: 0;\n",
       "  margin: 0;\n",
       "}\n",
       "\n",
       ".xr-dim-list:before {\n",
       "  content: '(';\n",
       "}\n",
       "\n",
       ".xr-dim-list:after {\n",
       "  content: ')';\n",
       "}\n",
       "\n",
       ".xr-dim-list li:not(:last-child):after {\n",
       "  content: ',';\n",
       "  padding-right: 5px;\n",
       "}\n",
       "\n",
       ".xr-has-index {\n",
       "  font-weight: bold;\n",
       "}\n",
       "\n",
       ".xr-var-list,\n",
       ".xr-var-item {\n",
       "  display: contents;\n",
       "}\n",
       "\n",
       ".xr-var-item > div,\n",
       ".xr-var-item label,\n",
       ".xr-var-item > .xr-var-name span {\n",
       "  background-color: var(--xr-background-color-row-even);\n",
       "  margin-bottom: 0;\n",
       "}\n",
       "\n",
       ".xr-var-item > .xr-var-name:hover span {\n",
       "  padding-right: 5px;\n",
       "}\n",
       "\n",
       ".xr-var-list > li:nth-child(odd) > div,\n",
       ".xr-var-list > li:nth-child(odd) > label,\n",
       ".xr-var-list > li:nth-child(odd) > .xr-var-name span {\n",
       "  background-color: var(--xr-background-color-row-odd);\n",
       "}\n",
       "\n",
       ".xr-var-name {\n",
       "  grid-column: 1;\n",
       "}\n",
       "\n",
       ".xr-var-dims {\n",
       "  grid-column: 2;\n",
       "}\n",
       "\n",
       ".xr-var-dtype {\n",
       "  grid-column: 3;\n",
       "  text-align: right;\n",
       "  color: var(--xr-font-color2);\n",
       "}\n",
       "\n",
       ".xr-var-preview {\n",
       "  grid-column: 4;\n",
       "}\n",
       "\n",
       ".xr-var-name,\n",
       ".xr-var-dims,\n",
       ".xr-var-dtype,\n",
       ".xr-preview,\n",
       ".xr-attrs dt {\n",
       "  white-space: nowrap;\n",
       "  overflow: hidden;\n",
       "  text-overflow: ellipsis;\n",
       "  padding-right: 10px;\n",
       "}\n",
       "\n",
       ".xr-var-name:hover,\n",
       ".xr-var-dims:hover,\n",
       ".xr-var-dtype:hover,\n",
       ".xr-attrs dt:hover {\n",
       "  overflow: visible;\n",
       "  width: auto;\n",
       "  z-index: 1;\n",
       "}\n",
       "\n",
       ".xr-var-attrs,\n",
       ".xr-var-data {\n",
       "  display: none;\n",
       "  background-color: var(--xr-background-color) !important;\n",
       "  padding-bottom: 5px !important;\n",
       "}\n",
       "\n",
       ".xr-var-attrs-in:checked ~ .xr-var-attrs,\n",
       ".xr-var-data-in:checked ~ .xr-var-data {\n",
       "  display: block;\n",
       "}\n",
       "\n",
       ".xr-var-data > table {\n",
       "  float: right;\n",
       "}\n",
       "\n",
       ".xr-var-name span,\n",
       ".xr-var-data,\n",
       ".xr-attrs {\n",
       "  padding-left: 25px !important;\n",
       "}\n",
       "\n",
       ".xr-attrs,\n",
       ".xr-var-attrs,\n",
       ".xr-var-data {\n",
       "  grid-column: 1 / -1;\n",
       "}\n",
       "\n",
       "dl.xr-attrs {\n",
       "  padding: 0;\n",
       "  margin: 0;\n",
       "  display: grid;\n",
       "  grid-template-columns: 125px auto;\n",
       "}\n",
       "\n",
       ".xr-attrs dt,\n",
       ".xr-attrs dd {\n",
       "  padding: 0;\n",
       "  margin: 0;\n",
       "  float: left;\n",
       "  padding-right: 10px;\n",
       "  width: auto;\n",
       "}\n",
       "\n",
       ".xr-attrs dt {\n",
       "  font-weight: normal;\n",
       "  grid-column: 1;\n",
       "}\n",
       "\n",
       ".xr-attrs dt:hover span {\n",
       "  display: inline-block;\n",
       "  background: var(--xr-background-color);\n",
       "  padding-right: 10px;\n",
       "}\n",
       "\n",
       ".xr-attrs dd {\n",
       "  grid-column: 2;\n",
       "  white-space: pre-wrap;\n",
       "  word-break: break-all;\n",
       "}\n",
       "\n",
       ".xr-icon-database,\n",
       ".xr-icon-file-text2 {\n",
       "  display: inline-block;\n",
       "  vertical-align: middle;\n",
       "  width: 1em;\n",
       "  height: 1.5em !important;\n",
       "  stroke-width: 0;\n",
       "  stroke: currentColor;\n",
       "  fill: currentColor;\n",
       "}\n",
       "</style><pre class='xr-text-repr-fallback'>&lt;xarray.Dataset&gt;\n",
       "Dimensions:  (date: 527, dep: 101)\n",
       "Coordinates:\n",
       "  * dep      (dep) object &#x27;01&#x27; &#x27;02&#x27; &#x27;03&#x27; &#x27;04&#x27; &#x27;05&#x27; ... &#x27;972&#x27; &#x27;973&#x27; &#x27;974&#x27; &#x27;976&#x27;\n",
       "  * date     (date) datetime64[ns] 2020-03-18 2020-03-19 ... 2021-08-26\n",
       "Data variables:\n",
       "    hosp     (dep, date) int64 2 2 2 4 8 17 22 29 33 49 ... 1 1 1 1 1 1 1 1 1 1</pre><div class='xr-wrap' hidden><div class='xr-header'><div class='xr-obj-type'>xarray.Dataset</div></div><ul class='xr-sections'><li class='xr-section-item'><input id='section-2589fe74-7157-430f-8e9b-8613d3282a3e' class='xr-section-summary-in' type='checkbox' disabled ><label for='section-2589fe74-7157-430f-8e9b-8613d3282a3e' class='xr-section-summary'  title='Expand/collapse section'>Dimensions:</label><div class='xr-section-inline-details'><ul class='xr-dim-list'><li><span class='xr-has-index'>date</span>: 527</li><li><span class='xr-has-index'>dep</span>: 101</li></ul></div><div class='xr-section-details'></div></li><li class='xr-section-item'><input id='section-0ea166ae-c821-41f2-8580-14665e37e8aa' class='xr-section-summary-in' type='checkbox'  checked><label for='section-0ea166ae-c821-41f2-8580-14665e37e8aa' class='xr-section-summary' >Coordinates: <span>(2)</span></label><div class='xr-section-inline-details'></div><div class='xr-section-details'><ul class='xr-var-list'><li class='xr-var-item'><div class='xr-var-name'><span class='xr-has-index'>dep</span></div><div class='xr-var-dims'>(dep)</div><div class='xr-var-dtype'>object</div><div class='xr-var-preview xr-preview'>&#x27;01&#x27; &#x27;02&#x27; &#x27;03&#x27; ... &#x27;974&#x27; &#x27;976&#x27;</div><input id='attrs-55770af7-9177-44b5-9e68-26f2c191c05a' class='xr-var-attrs-in' type='checkbox' disabled><label for='attrs-55770af7-9177-44b5-9e68-26f2c191c05a' title='Show/Hide attributes'><svg class='icon xr-icon-file-text2'><use xlink:href='#icon-file-text2'></use></svg></label><input id='data-027643cc-bffa-4271-8a46-74c25d38f189' class='xr-var-data-in' type='checkbox'><label for='data-027643cc-bffa-4271-8a46-74c25d38f189' title='Show/Hide data repr'><svg class='icon xr-icon-database'><use xlink:href='#icon-database'></use></svg></label><div class='xr-var-attrs'><dl class='xr-attrs'></dl></div><div class='xr-var-data'><pre>array([&#x27;01&#x27;, &#x27;02&#x27;, &#x27;03&#x27;, &#x27;04&#x27;, &#x27;05&#x27;, &#x27;06&#x27;, &#x27;07&#x27;, &#x27;08&#x27;, &#x27;09&#x27;, &#x27;10&#x27;, &#x27;11&#x27;, &#x27;12&#x27;,\n",
       "       &#x27;13&#x27;, &#x27;14&#x27;, &#x27;15&#x27;, &#x27;16&#x27;, &#x27;17&#x27;, &#x27;18&#x27;, &#x27;19&#x27;, &#x27;21&#x27;, &#x27;22&#x27;, &#x27;23&#x27;, &#x27;24&#x27;, &#x27;25&#x27;,\n",
       "       &#x27;26&#x27;, &#x27;27&#x27;, &#x27;28&#x27;, &#x27;29&#x27;, &#x27;2A&#x27;, &#x27;2B&#x27;, &#x27;30&#x27;, &#x27;31&#x27;, &#x27;32&#x27;, &#x27;33&#x27;, &#x27;34&#x27;, &#x27;35&#x27;,\n",
       "       &#x27;36&#x27;, &#x27;37&#x27;, &#x27;38&#x27;, &#x27;39&#x27;, &#x27;40&#x27;, &#x27;41&#x27;, &#x27;42&#x27;, &#x27;43&#x27;, &#x27;44&#x27;, &#x27;45&#x27;, &#x27;46&#x27;, &#x27;47&#x27;,\n",
       "       &#x27;48&#x27;, &#x27;49&#x27;, &#x27;50&#x27;, &#x27;51&#x27;, &#x27;52&#x27;, &#x27;53&#x27;, &#x27;54&#x27;, &#x27;55&#x27;, &#x27;56&#x27;, &#x27;57&#x27;, &#x27;58&#x27;, &#x27;59&#x27;,\n",
       "       &#x27;60&#x27;, &#x27;61&#x27;, &#x27;62&#x27;, &#x27;63&#x27;, &#x27;64&#x27;, &#x27;65&#x27;, &#x27;66&#x27;, &#x27;67&#x27;, &#x27;68&#x27;, &#x27;69&#x27;, &#x27;70&#x27;, &#x27;71&#x27;,\n",
       "       &#x27;72&#x27;, &#x27;73&#x27;, &#x27;74&#x27;, &#x27;75&#x27;, &#x27;76&#x27;, &#x27;77&#x27;, &#x27;78&#x27;, &#x27;79&#x27;, &#x27;80&#x27;, &#x27;81&#x27;, &#x27;82&#x27;, &#x27;83&#x27;,\n",
       "       &#x27;84&#x27;, &#x27;85&#x27;, &#x27;86&#x27;, &#x27;87&#x27;, &#x27;88&#x27;, &#x27;89&#x27;, &#x27;90&#x27;, &#x27;91&#x27;, &#x27;92&#x27;, &#x27;93&#x27;, &#x27;94&#x27;, &#x27;95&#x27;,\n",
       "       &#x27;971&#x27;, &#x27;972&#x27;, &#x27;973&#x27;, &#x27;974&#x27;, &#x27;976&#x27;], dtype=object)</pre></div></li><li class='xr-var-item'><div class='xr-var-name'><span class='xr-has-index'>date</span></div><div class='xr-var-dims'>(date)</div><div class='xr-var-dtype'>datetime64[ns]</div><div class='xr-var-preview xr-preview'>2020-03-18 ... 2021-08-26</div><input id='attrs-b2340c0d-9379-4146-9d77-f1341b46bb8d' class='xr-var-attrs-in' type='checkbox' disabled><label for='attrs-b2340c0d-9379-4146-9d77-f1341b46bb8d' title='Show/Hide attributes'><svg class='icon xr-icon-file-text2'><use xlink:href='#icon-file-text2'></use></svg></label><input id='data-0ff028a6-cb97-4522-9fc5-1a0db91aa1fc' class='xr-var-data-in' type='checkbox'><label for='data-0ff028a6-cb97-4522-9fc5-1a0db91aa1fc' title='Show/Hide data repr'><svg class='icon xr-icon-database'><use xlink:href='#icon-database'></use></svg></label><div class='xr-var-attrs'><dl class='xr-attrs'></dl></div><div class='xr-var-data'><pre>array([&#x27;2020-03-18T00:00:00.000000000&#x27;, &#x27;2020-03-19T00:00:00.000000000&#x27;,\n",
       "       &#x27;2020-03-20T00:00:00.000000000&#x27;, ..., &#x27;2021-08-24T00:00:00.000000000&#x27;,\n",
       "       &#x27;2021-08-25T00:00:00.000000000&#x27;, &#x27;2021-08-26T00:00:00.000000000&#x27;],\n",
       "      dtype=&#x27;datetime64[ns]&#x27;)</pre></div></li></ul></div></li><li class='xr-section-item'><input id='section-f59210b8-6836-4a70-a3b4-1dd21827ad0b' class='xr-section-summary-in' type='checkbox'  checked><label for='section-f59210b8-6836-4a70-a3b4-1dd21827ad0b' class='xr-section-summary' >Data variables: <span>(1)</span></label><div class='xr-section-inline-details'></div><div class='xr-section-details'><ul class='xr-var-list'><li class='xr-var-item'><div class='xr-var-name'><span>hosp</span></div><div class='xr-var-dims'>(dep, date)</div><div class='xr-var-dtype'>int64</div><div class='xr-var-preview xr-preview'>2 2 2 4 8 17 22 ... 1 1 1 1 1 1 1</div><input id='attrs-0cc69683-5950-424b-b30e-04c4795922c8' class='xr-var-attrs-in' type='checkbox' disabled><label for='attrs-0cc69683-5950-424b-b30e-04c4795922c8' title='Show/Hide attributes'><svg class='icon xr-icon-file-text2'><use xlink:href='#icon-file-text2'></use></svg></label><input id='data-8f280534-5227-4448-a127-7e9b7c9104fe' class='xr-var-data-in' type='checkbox'><label for='data-8f280534-5227-4448-a127-7e9b7c9104fe' title='Show/Hide data repr'><svg class='icon xr-icon-database'><use xlink:href='#icon-database'></use></svg></label><div class='xr-var-attrs'><dl class='xr-attrs'></dl></div><div class='xr-var-data'><pre>array([[  2,   2,   2, ...,  75,  77,  79],\n",
       "       [ 41,  43,  52, ...,  48,  48,  45],\n",
       "       [  4,   0,   1, ...,  24,  26,  26],\n",
       "       ...,\n",
       "       [  0,   0,   0, ...,  88,  89,  87],\n",
       "       [  2,   2,   2, ..., 187, 185, 185],\n",
       "       [  0,   0,   0, ...,   1,   1,   1]])</pre></div></li></ul></div></li><li class='xr-section-item'><input id='section-7a0e1ec1-4e3e-45e2-8c64-04bd2131b685' class='xr-section-summary-in' type='checkbox' disabled ><label for='section-7a0e1ec1-4e3e-45e2-8c64-04bd2131b685' class='xr-section-summary'  title='Expand/collapse section'>Attributes: <span>(0)</span></label><div class='xr-section-inline-details'></div><div class='xr-section-details'><dl class='xr-attrs'></dl></div></li></ul></div></div>"
      ],
      "text/plain": [
       "<xarray.Dataset>\n",
       "Dimensions:  (date: 527, dep: 101)\n",
       "Coordinates:\n",
       "  * dep      (dep) object '01' '02' '03' '04' '05' ... '972' '973' '974' '976'\n",
       "  * date     (date) datetime64[ns] 2020-03-18 2020-03-19 ... 2021-08-26\n",
       "Data variables:\n",
       "    hosp     (dep, date) int64 2 2 2 4 8 17 22 29 33 49 ... 1 1 1 1 1 1 1 1 1 1"
      ]
     },
     "execution_count": 50,
     "metadata": {},
     "output_type": "execute_result"
    }
   ],
   "source": [
    "dataset"
   ]
  },
  {
   "cell_type": "code",
   "execution_count": null,
   "metadata": {},
   "outputs": [],
   "source": []
  },
  {
   "cell_type": "markdown",
   "metadata": {
    "heading_collapsed": true
   },
   "source": [
    "## Garbage"
   ]
  },
  {
   "cell_type": "code",
   "execution_count": null,
   "metadata": {
    "ExecuteTime": {
     "end_time": "2021-08-26T12:45:28.155213Z",
     "start_time": "2021-08-26T12:45:28.155180Z"
    },
    "hidden": true
   },
   "outputs": [],
   "source": [
    "ts['hosp_dep'].plot()"
   ]
  },
  {
   "cell_type": "code",
   "execution_count": null,
   "metadata": {
    "ExecuteTime": {
     "end_time": "2021-08-26T12:45:28.158347Z",
     "start_time": "2021-08-26T12:45:28.158293Z"
    },
    "hidden": true
   },
   "outputs": [],
   "source": [
    "ts = from_csv(link, cat_cols=['dep'], time_col='date', value_cols='hosp')\n",
    "ts"
   ]
  },
  {
   "cell_type": "code",
   "execution_count": null,
   "metadata": {
    "ExecuteTime": {
     "end_time": "2021-08-26T12:45:28.161303Z",
     "start_time": "2021-08-26T12:45:28.161256Z"
    },
    "hidden": true
   },
   "outputs": [],
   "source": [
    "ts"
   ]
  },
  {
   "cell_type": "code",
   "execution_count": null,
   "metadata": {
    "ExecuteTime": {
     "end_time": "2021-08-26T12:45:28.164894Z",
     "start_time": "2021-08-26T12:45:28.164839Z"
    },
    "hidden": true
   },
   "outputs": [],
   "source": [
    "ts"
   ]
  },
  {
   "cell_type": "code",
   "execution_count": null,
   "metadata": {
    "ExecuteTime": {
     "end_time": "2021-08-26T12:45:28.168541Z",
     "start_time": "2021-08-26T12:45:28.168489Z"
    },
    "hidden": true
   },
   "outputs": [],
   "source": [
    "covid_df.query(' & '.join([f'{cat}==\"{value}\"' for cat, value in zip(['dep', 'lib_dep'], ['01', 'Ain'])]))"
   ]
  },
  {
   "cell_type": "code",
   "execution_count": null,
   "metadata": {
    "ExecuteTime": {
     "end_time": "2021-08-26T12:45:28.171447Z",
     "start_time": "2021-08-26T12:45:28.171414Z"
    },
    "hidden": true
   },
   "outputs": [],
   "source": [
    "time_col='date'\n",
    "if time_col:\n",
    "    datetime_series = pd.to_datetime(df[time_col])\n",
    "    datetime_index = pd.DatetimeIndex(datetime_series.values)\n",
    "    df = df.set_index(datetime_index)\n",
    "    df.drop(time_col, axis=1, inplace=True)"
   ]
  },
  {
   "cell_type": "code",
   "execution_count": null,
   "metadata": {
    "ExecuteTime": {
     "end_time": "2021-08-26T12:45:28.173724Z",
     "start_time": "2021-08-26T12:45:28.173691Z"
    },
    "hidden": true
   },
   "outputs": [],
   "source": [
    "categories = itertools.product(*['dep', 'lib_dep'])\n",
    "for x in categories:\n",
    "    print(str(x))"
   ]
  },
  {
   "cell_type": "code",
   "execution_count": null,
   "metadata": {
    "ExecuteTime": {
     "end_time": "2021-08-26T12:45:28.176594Z",
     "start_time": "2021-08-26T12:45:28.176533Z"
    },
    "hidden": true
   },
   "outputs": [],
   "source": [
    "cat_cols = ['lib_dep']\n",
    "value_cols = ['hosp']\n",
    "categories = itertools.product(*[df[cat].unique() for cat in cat_cols])\n",
    "d = {f'{col}_{\"_\".join([x for x in cat])}': \n",
    "     df.query(' & '.join([f'{cat_name}==\"{cat_value}\"'\n",
    "                            for cat_name, cat_value in zip(cat_cols, [x for x in cat])\n",
    "                            ])\n",
    "     )[col]\n",
    "    for cat in categories\n",
    "    for col in value_cols\n",
    "}\n",
    "pd.DataFrame(d)"
   ]
  },
  {
   "cell_type": "code",
   "execution_count": null,
   "metadata": {
    "ExecuteTime": {
     "end_time": "2021-08-26T12:45:28.180351Z",
     "start_time": "2021-08-26T12:45:28.180286Z"
    },
    "hidden": true
   },
   "outputs": [],
   "source": [
    "from egbz.utils import *"
   ]
  },
  {
   "cell_type": "code",
   "execution_count": null,
   "metadata": {
    "ExecuteTime": {
     "end_time": "2021-08-26T12:45:28.183407Z",
     "start_time": "2021-08-26T12:45:28.183319Z"
    },
    "hidden": true
   },
   "outputs": [],
   "source": [
    "plt.plot([1, 2 ,3]);"
   ]
  },
  {
   "cell_type": "code",
   "execution_count": null,
   "metadata": {
    "ExecuteTime": {
     "end_time": "2021-08-26T12:45:28.186960Z",
     "start_time": "2021-08-26T12:45:28.186904Z"
    },
    "hidden": true
   },
   "outputs": [],
   "source": [
    "df = df.query('dep==\"01\" | dep==\"02\"')"
   ]
  },
  {
   "cell_type": "code",
   "execution_count": null,
   "metadata": {
    "ExecuteTime": {
     "end_time": "2021-08-26T12:45:28.189314Z",
     "start_time": "2021-08-26T12:45:28.189276Z"
    },
    "hidden": true
   },
   "outputs": [],
   "source": [
    "ts = from_df(df, cat_cols=['dep', 'lib_dep'], time_col='date', value_cols=['hosp', 'rea'])"
   ]
  },
  {
   "cell_type": "code",
   "execution_count": null,
   "metadata": {
    "ExecuteTime": {
     "end_time": "2021-08-26T12:45:28.191668Z",
     "start_time": "2021-08-26T12:45:28.191616Z"
    },
    "hidden": true
   },
   "outputs": [],
   "source": [
    "ts.plot()"
   ]
  },
  {
   "cell_type": "code",
   "execution_count": null,
   "metadata": {
    "ExecuteTime": {
     "end_time": "2021-08-26T12:45:28.194928Z",
     "start_time": "2021-08-26T12:45:28.194891Z"
    },
    "hidden": true
   },
   "outputs": [],
   "source": [
    "import itertools\n",
    "\n",
    "for x in itertools.product(*[df[cat].unique() for cat in ['dep', 'lib_dep']]):\n",
    "    '_'.join([str(y) for y in x])"
   ]
  },
  {
   "cell_type": "code",
   "execution_count": null,
   "metadata": {
    "ExecuteTime": {
     "end_time": "2021-08-26T12:45:28.197111Z",
     "start_time": "2021-08-26T12:45:28.197078Z"
    },
    "hidden": true
   },
   "outputs": [],
   "source": [
    "'test'\n",
    "'trolol'"
   ]
  },
  {
   "cell_type": "code",
   "execution_count": null,
   "metadata": {
    "ExecuteTime": {
     "end_time": "2021-08-26T12:45:28.199290Z",
     "start_time": "2021-08-26T12:45:28.199258Z"
    },
    "hidden": true
   },
   "outputs": [],
   "source": [
    "covid_df.query(' & '.join([f'{cat}==\"{value}\"' for cat, value in zip(['dep', 'lib_dep'], ['01', 'Ain'])]))"
   ]
  },
  {
   "cell_type": "code",
   "execution_count": null,
   "metadata": {
    "ExecuteTime": {
     "end_time": "2021-08-26T12:45:28.201554Z",
     "start_time": "2021-08-26T12:45:28.201511Z"
    },
    "hidden": true
   },
   "outputs": [],
   "source": [
    "covid_df.query('dep==\"01\"')"
   ]
  },
  {
   "cell_type": "code",
   "execution_count": null,
   "metadata": {
    "ExecuteTime": {
     "end_time": "2021-08-26T12:45:28.204337Z",
     "start_time": "2021-08-26T12:45:28.204285Z"
    },
    "hidden": true
   },
   "outputs": [],
   "source": [
    "df = covid_df\n",
    "df"
   ]
  },
  {
   "cell_type": "code",
   "execution_count": null,
   "metadata": {
    "ExecuteTime": {
     "end_time": "2021-08-26T12:45:28.206574Z",
     "start_time": "2021-08-26T12:45:28.206544Z"
    },
    "hidden": true
   },
   "outputs": [],
   "source": [
    "ts.pd_dataframe()"
   ]
  },
  {
   "cell_type": "code",
   "execution_count": null,
   "metadata": {
    "ExecuteTime": {
     "end_time": "2021-08-26T12:45:28.208665Z",
     "start_time": "2021-08-26T12:45:28.208636Z"
    },
    "hidden": true
   },
   "outputs": [],
   "source": [
    "covid_df = pd.read_csv(link)"
   ]
  },
  {
   "cell_type": "code",
   "execution_count": null,
   "metadata": {
    "ExecuteTime": {
     "end_time": "2021-08-26T12:45:28.210416Z",
     "start_time": "2021-08-26T12:45:28.210389Z"
    },
    "hidden": true
   },
   "outputs": [],
   "source": [
    "covid_df"
   ]
  },
  {
   "cell_type": "code",
   "execution_count": null,
   "metadata": {
    "ExecuteTime": {
     "end_time": "2021-08-26T12:45:28.212893Z",
     "start_time": "2021-08-26T12:45:28.212847Z"
    },
    "hidden": true
   },
   "outputs": [],
   "source": [
    "d = {f'{cat}_{col}': cat for cat in covid_df['dep'].unique() for col in ['hosp']}\n",
    "d"
   ]
  },
  {
   "cell_type": "code",
   "execution_count": null,
   "metadata": {
    "ExecuteTime": {
     "end_time": "2021-08-26T12:45:28.215290Z",
     "start_time": "2021-08-26T12:45:28.215261Z"
    },
    "hidden": true
   },
   "outputs": [],
   "source": [
    "TimeSeries.from_dataframe(covid_df[['dep','hosp']].query('dep==\"01\"'))"
   ]
  },
  {
   "cell_type": "code",
   "execution_count": null,
   "metadata": {
    "ExecuteTime": {
     "end_time": "2021-08-26T12:45:28.217421Z",
     "start_time": "2021-08-26T12:45:28.217387Z"
    },
    "hidden": true
   },
   "outputs": [],
   "source": [
    "from darts import TimeSeries"
   ]
  },
  {
   "cell_type": "code",
   "execution_count": null,
   "metadata": {
    "hidden": true
   },
   "outputs": [],
   "source": []
  },
  {
   "cell_type": "code",
   "execution_count": null,
   "metadata": {
    "ExecuteTime": {
     "end_time": "2021-08-26T12:45:28.219613Z",
     "start_time": "2021-08-26T12:45:28.219579Z"
    },
    "hidden": true
   },
   "outputs": [],
   "source": [
    "TimeSeries.from_dataframe(covid_df[covid_df['dep']=='01'],\n",
    "                         time_col='date',\n",
    "                         value_cols='hosp')"
   ]
  },
  {
   "cell_type": "code",
   "execution_count": null,
   "metadata": {
    "ExecuteTime": {
     "end_time": "2021-08-26T12:45:28.222147Z",
     "start_time": "2021-08-26T12:45:28.222099Z"
    },
    "hidden": true
   },
   "outputs": [],
   "source": [
    "covid_df.keys()"
   ]
  },
  {
   "cell_type": "code",
   "execution_count": null,
   "metadata": {
    "ExecuteTime": {
     "end_time": "2021-08-26T12:45:28.224579Z",
     "start_time": "2021-08-26T12:45:28.224540Z"
    },
    "hidden": true
   },
   "outputs": [],
   "source": [
    "covid_df.groupby('dep')."
   ]
  },
  {
   "cell_type": "code",
   "execution_count": null,
   "metadata": {
    "ExecuteTime": {
     "end_time": "2021-08-26T12:45:28.227347Z",
     "start_time": "2021-08-26T12:45:28.227309Z"
    },
    "hidden": true
   },
   "outputs": [],
   "source": [
    "paris_df = covid_df.query('dep==75')"
   ]
  },
  {
   "cell_type": "code",
   "execution_count": null,
   "metadata": {
    "ExecuteTime": {
     "end_time": "2021-08-26T12:45:28.229096Z",
     "start_time": "2021-08-26T12:45:28.229066Z"
    },
    "hidden": true
   },
   "outputs": [],
   "source": [
    "df = covid_df[['date', 'dep', 'dchosp', 'hosp', 'rea']]\n",
    "datetime_series = pd.to_datetime(df['date'])\n",
    "datetime_index = pd.DatetimeIndex(datetime_series.values)\n",
    "df=df.set_index(datetime_index)\n",
    "df.drop('date',axis=1,inplace=True)\n",
    "df"
   ]
  },
  {
   "cell_type": "code",
   "execution_count": null,
   "metadata": {
    "ExecuteTime": {
     "end_time": "2021-08-26T12:45:28.230772Z",
     "start_time": "2021-08-26T12:45:28.230747Z"
    },
    "hidden": true
   },
   "outputs": [],
   "source": [
    "def series_train_test(\n",
    "    data=covid_df, features=['hosp'],\n",
    "    timestamp=pd.Timestamp('2021-01-01'), departement=75\n",
    "):\n",
    "    # Convert the index into a datetime index\n",
    "    df = covid_df.query(f'dep=={departement}')[['date'] + features]\n",
    "    datetime_series = pd.to_datetime(df['date'])\n",
    "    datetime_index = pd.DatetimeIndex(datetime_series.values)\n",
    "    df=df.set_index(datetime_index)\n",
    "    df.drop('date',axis=1,inplace=True)\n",
    "    \n",
    "    #\n",
    "    time_series = {}\n",
    "    train = {}\n",
    "    test = {}\n",
    "    for feature in features:\n",
    "      series[feature] = TimeSeries.from_dataframe(df[[feature]]) \n",
    "      train[feature], test[feature] = time_series[feature].split_before(\n",
    "          pd.Timestamp(timestamp)\n",
    "      )\n",
    "        \n",
    "    return series, train, test"
   ]
  },
  {
   "cell_type": "code",
   "execution_count": null,
   "metadata": {
    "ExecuteTime": {
     "end_time": "2021-08-26T12:45:28.241177Z",
     "start_time": "2021-08-26T12:45:28.241107Z"
    },
    "hidden": true
   },
   "outputs": [],
   "source": [
    "time_series, train, test = time_series_train_test(data=paris_df, features['rea'])"
   ]
  },
  {
   "cell_type": "code",
   "execution_count": null,
   "metadata": {
    "ExecuteTime": {
     "end_time": "2021-08-26T12:45:28.244512Z",
     "start_time": "2021-08-26T12:45:28.244456Z"
    },
    "hidden": true
   },
   "outputs": [],
   "source": [
    "covid_df"
   ]
  },
  {
   "cell_type": "code",
   "execution_count": null,
   "metadata": {
    "ExecuteTime": {
     "end_time": "2021-08-26T12:45:28.247360Z",
     "start_time": "2021-08-26T12:45:28.247311Z"
    },
    "hidden": true
   },
   "outputs": [],
   "source": [
    "time_series['dchosp']"
   ]
  },
  {
   "cell_type": "code",
   "execution_count": null,
   "metadata": {
    "ExecuteTime": {
     "end_time": "2021-08-26T12:45:28.250692Z",
     "start_time": "2021-08-26T12:45:28.250649Z"
    },
    "hidden": true
   },
   "outputs": [],
   "source": [
    "train['hosp'].plot(label='train')\n",
    "test['hosp'].plot(label='test')"
   ]
  },
  {
   "cell_type": "code",
   "execution_count": null,
   "metadata": {
    "ExecuteTime": {
     "end_time": "2021-08-26T12:45:28.253694Z",
     "start_time": "2021-08-26T12:45:28.253626Z"
    },
    "hidden": true,
    "id": "gHpxVvaZlR7D"
   },
   "outputs": [],
   "source": [
    "paris_df = covid_df.query('dep==75')[['date', 'TO', 'hosp', 'rea', 'dchosp']]"
   ]
  },
  {
   "cell_type": "code",
   "execution_count": null,
   "metadata": {
    "ExecuteTime": {
     "end_time": "2021-08-26T12:45:28.257601Z",
     "start_time": "2021-08-26T12:45:28.257550Z"
    },
    "hidden": true
   },
   "outputs": [],
   "source": [
    "paris_df.plot();"
   ]
  },
  {
   "cell_type": "code",
   "execution_count": null,
   "metadata": {
    "ExecuteTime": {
     "end_time": "2021-08-26T12:45:28.260818Z",
     "start_time": "2021-08-26T12:45:28.260769Z"
    },
    "colab": {
     "base_uri": "https://localhost:8080/"
    },
    "hidden": true,
    "id": "SGZh5Xg_paiN",
    "outputId": "ac32bd18-996e-46d0-e481-1021192d935c"
   },
   "outputs": [],
   "source": [
    "paris_df.info()"
   ]
  },
  {
   "cell_type": "code",
   "execution_count": null,
   "metadata": {
    "ExecuteTime": {
     "end_time": "2021-08-26T12:45:28.263882Z",
     "start_time": "2021-08-26T12:45:28.263835Z"
    },
    "colab": {
     "base_uri": "https://localhost:8080/",
     "height": 625
    },
    "hidden": true,
    "id": "yjl1lRhkpsaA",
    "outputId": "5eeea048-55ce-46d5-aac3-b7f364c22855"
   },
   "outputs": [],
   "source": [
    "datetime_series = pd.to_datetime(paris_df['date'])\n",
    "datetime_index = pd.DatetimeIndex(datetime_series.values)\n",
    "df=paris_df.set_index(datetime_index)\n",
    "df.drop('date',axis=1,inplace=True)\n",
    "df"
   ]
  },
  {
   "cell_type": "code",
   "execution_count": null,
   "metadata": {
    "ExecuteTime": {
     "end_time": "2021-08-26T12:45:28.267394Z",
     "start_time": "2021-08-26T12:45:28.267334Z"
    },
    "colab": {
     "base_uri": "https://localhost:8080/",
     "height": 289
    },
    "hidden": true,
    "id": "0WCzKPWXogzW",
    "outputId": "04966c3d-859b-441a-b7a7-30a9b5161e02"
   },
   "outputs": [],
   "source": [
    "\n",
    "df.plot();"
   ]
  },
  {
   "cell_type": "code",
   "execution_count": null,
   "metadata": {
    "ExecuteTime": {
     "end_time": "2021-08-26T12:45:28.270369Z",
     "start_time": "2021-08-26T12:45:28.270330Z"
    },
    "colab": {
     "base_uri": "https://localhost:8080/",
     "height": 294
    },
    "hidden": true,
    "id": "m7tSLH1Vq07_",
    "outputId": "663ea539-e150-4cd9-939c-5ef0ddb699e6"
   },
   "outputs": [],
   "source": [
    "train, val = series.split_before(pd.Timestamp('2021-01-01'))\n",
    "train.plot(label='training')\n",
    "val.plot(label='validation')\n",
    "plt.legend();"
   ]
  },
  {
   "cell_type": "code",
   "execution_count": null,
   "metadata": {
    "ExecuteTime": {
     "end_time": "2021-08-26T12:45:28.273430Z",
     "start_time": "2021-08-26T12:45:28.273350Z"
    },
    "colab": {
     "base_uri": "https://localhost:8080/",
     "height": 294
    },
    "hidden": true,
    "id": "mH26GB4FrjbG",
    "outputId": "06508130-c6ea-46aa-c7e5-2737e593b869"
   },
   "outputs": [],
   "source": [
    "naive_model = NaiveSeasonal(K=158)\n",
    "naive_model.fit(train)\n",
    "naive_forecast = naive_model.predict(300)\n",
    "\n",
    "series.plot(label='actual')\n",
    "naive_forecast.plot(label='naive forecast (K=158)')\n",
    "plt.legend();"
   ]
  },
  {
   "cell_type": "code",
   "execution_count": null,
   "metadata": {
    "ExecuteTime": {
     "end_time": "2021-08-26T12:45:28.276592Z",
     "start_time": "2021-08-26T12:45:28.276531Z"
    },
    "colab": {
     "base_uri": "https://localhost:8080/"
    },
    "hidden": true,
    "id": "8-aopaDw4RlZ",
    "outputId": "709b69f0-ed80-4d5c-fddf-ac4242cc2d58"
   },
   "outputs": [],
   "source": [
    "mae(naive_model.predict(220), val)"
   ]
  },
  {
   "cell_type": "code",
   "execution_count": null,
   "metadata": {
    "ExecuteTime": {
     "end_time": "2021-08-26T12:45:28.280250Z",
     "start_time": "2021-08-26T12:45:28.280199Z"
    },
    "colab": {
     "base_uri": "https://localhost:8080/"
    },
    "hidden": true,
    "id": "oW6hhpkS5YfZ",
    "outputId": "e9b417ae-e8e0-46b0-b034-9f48d3401ece"
   },
   "outputs": [],
   "source": [
    "!pip install optuna"
   ]
  },
  {
   "cell_type": "code",
   "execution_count": null,
   "metadata": {
    "ExecuteTime": {
     "end_time": "2021-08-26T12:45:28.283603Z",
     "start_time": "2021-08-26T12:45:28.283538Z"
    },
    "hidden": true,
    "id": "Mzqg6Cab5daz"
   },
   "outputs": [],
   "source": [
    "import optuna"
   ]
  },
  {
   "cell_type": "code",
   "execution_count": null,
   "metadata": {
    "ExecuteTime": {
     "end_time": "2021-08-26T12:45:28.286380Z",
     "start_time": "2021-08-26T12:45:28.286331Z"
    },
    "hidden": true,
    "id": "Tf0TZoOx36Tm"
   },
   "outputs": [],
   "source": [
    "def objective(trial):\n",
    "  naive_model = NaiveSeasonal(K=trial.suggest_int('K', 1, 289))\n",
    "  naive_model.fit(train)\n",
    "  return mae(naive_model.predict(220), val)\n",
    "\n",
    "study = optuna.create_study(direction='minimize')\n",
    "study.optimize(objective, n_trials=289, n_jobs=-1)\n"
   ]
  },
  {
   "cell_type": "code",
   "execution_count": null,
   "metadata": {
    "ExecuteTime": {
     "end_time": "2021-08-26T12:45:28.293953Z",
     "start_time": "2021-08-26T12:45:28.293858Z"
    },
    "colab": {
     "base_uri": "https://localhost:8080/"
    },
    "hidden": true,
    "id": "kOI-5pE97Ije",
    "outputId": "beda1c63-88bc-43b1-a8ec-39f4fd40b4e7"
   },
   "outputs": [],
   "source": [
    "study.best_trial"
   ]
  },
  {
   "cell_type": "code",
   "execution_count": null,
   "metadata": {
    "ExecuteTime": {
     "end_time": "2021-08-26T12:45:28.297177Z",
     "start_time": "2021-08-26T12:45:28.297145Z"
    },
    "colab": {
     "base_uri": "https://localhost:8080/",
     "height": 319
    },
    "hidden": true,
    "id": "V3jAgdSR7XAL",
    "outputId": "ba07ae43-056b-496a-bdcd-bfd8efe9813b"
   },
   "outputs": [],
   "source": [
    "plot_acf(train, m = 30, alpha = .05)"
   ]
  },
  {
   "cell_type": "code",
   "execution_count": null,
   "metadata": {
    "ExecuteTime": {
     "end_time": "2021-08-26T12:45:28.299744Z",
     "start_time": "2021-08-26T12:45:28.299710Z"
    },
    "colab": {
     "base_uri": "https://localhost:8080/"
    },
    "hidden": true,
    "id": "rISQ7h398e57",
    "outputId": "35cde443-bdbc-4217-9f81-9ad70790b3c3"
   },
   "outputs": [],
   "source": [
    "def eval_model(model):\n",
    "    model.fit(train)\n",
    "    forecast = model.predict(len(val))\n",
    "    print('model {} obtains MAE: {:.2f}%'.format(model, mae(val, forecast)))\n",
    "\n",
    "eval_model(NaiveSeasonal(K=158))\n",
    "eval_model(ExponentialSmoothing())\n",
    "eval_model(Prophet())\n",
    "eval_model(AutoARIMA())\n",
    "eval_model(Theta())"
   ]
  },
  {
   "cell_type": "code",
   "execution_count": null,
   "metadata": {
    "ExecuteTime": {
     "end_time": "2021-08-26T12:45:28.302614Z",
     "start_time": "2021-08-26T12:45:28.302578Z"
    },
    "colab": {
     "base_uri": "https://localhost:8080/",
     "height": 311
    },
    "hidden": true,
    "id": "GDnEtgIl_B8k",
    "outputId": "d5e10770-e547-45ff-813c-3a6fbcc1ce42"
   },
   "outputs": [],
   "source": [
    "expo_model = ExponentialSmoothing()\n",
    "expo_model.fit(train)\n",
    "expo_forecast = expo_model.predict(len(val))\n",
    "series.plot(label='Ground truth')\n",
    "expo_forecast.plot(label='Prediction')\n",
    "mae(y_pred, val)"
   ]
  },
  {
   "cell_type": "code",
   "execution_count": null,
   "metadata": {
    "ExecuteTime": {
     "end_time": "2021-08-26T12:45:28.305490Z",
     "start_time": "2021-08-26T12:45:28.305461Z"
    },
    "hidden": true,
    "id": "Rif620zIBGcI"
   },
   "outputs": [],
   "source": [
    "def objective(trial):\n",
    "  theta_model = Theta(theta=trial.suggest_float('theta', -10, 10))\n",
    "  theta_model.fit(train)\n",
    "  theta_forecast = theta_model.predict(len(val))\n",
    "  return mae(theta_forecast, val)\n",
    "\n",
    "theta_study = optuna.create_study(direction='minimize')\n",
    "theta_study.optimize(objective, n_trials=500, n_jobs=-1)"
   ]
  },
  {
   "cell_type": "code",
   "execution_count": null,
   "metadata": {
    "ExecuteTime": {
     "end_time": "2021-08-26T12:45:28.307713Z",
     "start_time": "2021-08-26T12:45:28.307670Z"
    },
    "colab": {
     "base_uri": "https://localhost:8080/",
     "height": 424
    },
    "hidden": true,
    "id": "HjKORodzB1Zv",
    "outputId": "a34266c5-67bd-48c7-cb61-0ed708f0182d"
   },
   "outputs": [],
   "source": [
    "theta_study.trials_dataframe().sort_values('value')"
   ]
  },
  {
   "cell_type": "code",
   "execution_count": null,
   "metadata": {
    "ExecuteTime": {
     "end_time": "2021-08-26T12:45:28.311217Z",
     "start_time": "2021-08-26T12:45:28.311176Z"
    },
    "colab": {
     "base_uri": "https://localhost:8080/",
     "height": 311
    },
    "hidden": true,
    "id": "sfEXe1kECGC9",
    "outputId": "dc3c263d-fcd0-4a3c-f662-da7251eb9c4d"
   },
   "outputs": [],
   "source": [
    "theta_model = Theta(theta=1.422738)\n",
    "theta_model.fit(train)\n",
    "theta_forecast = theta_model.predict(len(val))\n",
    "theta_forecast = theta_model.predict(len(val))\n",
    "series.plot(label='Ground truth')\n",
    "theta_forecast.plot(label='Prediction')\n",
    "mae(y_pred, val)"
   ]
  },
  {
   "cell_type": "code",
   "execution_count": null,
   "metadata": {
    "hidden": true,
    "id": "3UFLz6w8Dw4M"
   },
   "outputs": [],
   "source": []
  },
  {
   "cell_type": "code",
   "execution_count": null,
   "metadata": {
    "ExecuteTime": {
     "end_time": "2021-08-26T12:45:28.313620Z",
     "start_time": "2021-08-26T12:45:28.313586Z"
    },
    "hidden": true,
    "id": "2k6fwgjiEOa1"
   },
   "outputs": [],
   "source": [
    "df.keys()"
   ]
  },
  {
   "cell_type": "code",
   "execution_count": null,
   "metadata": {
    "ExecuteTime": {
     "end_time": "2021-08-26T12:45:28.316233Z",
     "start_time": "2021-08-26T12:45:28.316202Z"
    },
    "hidden": true,
    "id": "0kZFZcHBELi0"
   },
   "outputs": [],
   "source": [
    "time_series = {}\n",
    "train_val = {}\n",
    "for feature in df.keys():\n",
    "  time_series[feature] = Scaler().fit_transform(TimeSeries.from_dataframe(df[[feature]]))\n",
    "  train_val[feature] = time_series[feature].split_before(pd.Timestamp('2021-01-01'))"
   ]
  },
  {
   "cell_type": "code",
   "execution_count": null,
   "metadata": {
    "ExecuteTime": {
     "end_time": "2021-08-26T12:45:28.318700Z",
     "start_time": "2021-08-26T12:45:28.318640Z"
    },
    "colab": {
     "base_uri": "https://localhost:8080/",
     "height": 294
    },
    "hidden": true,
    "id": "6vBvCV4sEh2A",
    "outputId": "1648e621-b227-408c-dee4-5d4baa5ea85f"
   },
   "outputs": [],
   "source": [
    "time_series, train, test = time_series_train_val(timestamp='2021-04-01', features=['hosp', 'rea'])"
   ]
  },
  {
   "cell_type": "code",
   "execution_count": null,
   "metadata": {
    "ExecuteTime": {
     "end_time": "2021-08-26T12:45:28.322692Z",
     "start_time": "2021-08-26T12:45:28.322645Z"
    },
    "hidden": true,
    "id": "KNo5vom9hCiQ"
   },
   "outputs": [],
   "source": [
    "model_air = NBEATSModel(input_chunk_length=24, output_chunk_length=12, n_epochs=12)"
   ]
  },
  {
   "cell_type": "code",
   "execution_count": null,
   "metadata": {
    "ExecuteTime": {
     "end_time": "2021-08-26T12:45:28.326516Z",
     "start_time": "2021-08-26T12:45:28.326485Z"
    },
    "colab": {
     "base_uri": "https://localhost:8080/",
     "height": 167
    },
    "hidden": true,
    "id": "tRiH8mIHhFOc",
    "outputId": "6035a49c-b980-424e-8d04-eb9929de0d32"
   },
   "outputs": [],
   "source": [
    "model_air.fit(train['hosp'], verbose=True)"
   ]
  },
  {
   "cell_type": "code",
   "execution_count": null,
   "metadata": {
    "ExecuteTime": {
     "end_time": "2021-08-26T12:45:28.328696Z",
     "start_time": "2021-08-26T12:45:28.328664Z"
    },
    "colab": {
     "base_uri": "https://localhost:8080/",
     "height": 294
    },
    "hidden": true,
    "id": "nNFIZs46j4RH",
    "outputId": "33eb9bc8-3965-4424-be6c-4c813ecdf038"
   },
   "outputs": [],
   "source": [
    "air_forecast = model_air.predict(12)\n",
    "plt.figure(figsize=(24,16))\n",
    "time_series['hosp'].plot(label='Ground truth')\n",
    "air_forecast.plot(label='Prediction')\n",
    "mape(air_forecast, time_series['hosp'])"
   ]
  },
  {
   "cell_type": "code",
   "execution_count": null,
   "metadata": {
    "ExecuteTime": {
     "end_time": "2021-08-26T12:45:28.333068Z",
     "start_time": "2021-08-26T12:45:28.333018Z"
    },
    "hidden": true
   },
   "outputs": [],
   "source": [
    "series, train, test = time_series_train_val(\n",
    "    timestamp=pd.Timestamp('2021-07-01'),\n",
    "    features=['hosp', 'rea', 'dchosp']\n",
    ")"
   ]
  },
  {
   "cell_type": "code",
   "execution_count": null,
   "metadata": {
    "ExecuteTime": {
     "end_time": "2021-08-26T12:45:28.335551Z",
     "start_time": "2021-08-26T12:45:28.335522Z"
    },
    "hidden": true
   },
   "outputs": [],
   "source": [
    "train_series, train, val = time_series_train_val(\n",
    "    data=train,\n",
    "    timestamp=pd.Timestamp('2021-01-01'),\n",
    "    features=['hosp', 'rea', 'dchosp']\n",
    ")"
   ]
  },
  {
   "cell_type": "code",
   "execution_count": null,
   "metadata": {
    "ExecuteTime": {
     "end_time": "2021-08-26T12:45:28.338129Z",
     "start_time": "2021-08-26T12:45:28.338085Z"
    },
    "hidden": true
   },
   "outputs": [],
   "source": [
    "test['hosp'].plot()"
   ]
  },
  {
   "cell_type": "code",
   "execution_count": null,
   "metadata": {
    "ExecuteTime": {
     "end_time": "2021-08-26T12:45:28.341282Z",
     "start_time": "2021-08-26T12:45:28.341246Z"
    },
    "hidden": true
   },
   "outputs": [],
   "source": [
    "my_model = TransformerModel(\n",
    "    input_chunk_length = 20,\n",
    "    output_chunk_length = 10,\n",
    "    batch_size = 16,\n",
    "    n_epochs = 50,\n",
    "    model_name = 'air_transformer',\n",
    "    log_tensorboard=True,\n",
    "    nr_epochs_val_period = 10,\n",
    "    d_model = 32,\n",
    "    nhead = 16,\n",
    "    num_encoder_layers = 3,\n",
    "    num_decoder_layers = 3,\n",
    "    dim_feedforward = 512,\n",
    "    dropout = 0.1,\n",
    "    activation = \"relu\",\n",
    "    force_reset=True\n",
    ")"
   ]
  },
  {
   "cell_type": "code",
   "execution_count": null,
   "metadata": {
    "ExecuteTime": {
     "end_time": "2021-08-26T12:45:28.343654Z",
     "start_time": "2021-08-26T12:45:28.343606Z"
    },
    "hidden": true
   },
   "outputs": [],
   "source": [
    "my_model.fit(series=train['hosp'], val_series=val['hosp'], verbose=True)"
   ]
  },
  {
   "cell_type": "code",
   "execution_count": null,
   "metadata": {
    "ExecuteTime": {
     "end_time": "2021-08-26T12:45:28.346017Z",
     "start_time": "2021-08-26T12:45:28.345978Z"
    },
    "hidden": true
   },
   "outputs": [],
   "source": [
    "pred = my_model.predict(n=10, series=train['hosp'])\n",
    "series['hosp'].plot('label')\n",
    "pred.plot(label='prediction')"
   ]
  },
  {
   "cell_type": "code",
   "execution_count": null,
   "metadata": {
    "ExecuteTime": {
     "end_time": "2021-08-26T12:45:28.348304Z",
     "start_time": "2021-08-26T12:45:28.348273Z"
    },
    "hidden": true
   },
   "outputs": [],
   "source": [
    "backtest = model_cov.historical_forecasts(series_air_scaled,\n",
    "                                              past_covariates=air_covariates,\n",
    "                                              start=0.6,\n",
    "                                              forecast_horizon=12,\n",
    "                                              stride=1,\n",
    "                                              retrain=False,\n",
    "                                              verbose=True)\n",
    "\n",
    "series_air_scaled.plot(label='actual')\n",
    "backtest_cov.plot(label='forecast')\n",
    "plt.legend();\n",
    "print('MAPE (using covariates) = {:.2f}%'.format(mape(series_air_scaled, backtest_cov)))"
   ]
  },
  {
   "cell_type": "code",
   "execution_count": null,
   "metadata": {
    "ExecuteTime": {
     "end_time": "2021-08-26T12:45:28.353758Z",
     "start_time": "2021-08-26T12:45:28.353717Z"
    },
    "hidden": true
   },
   "outputs": [],
   "source": [
    "#this function evaluates a model on a given validation set for n time-steps\n",
    "def eval_model(model, n, series, val_series):\n",
    "    pred_series = model.predict(n=n)\n",
    "    plt.figure(figsize=(8,5))\n",
    "    series.plot(label='actual')\n",
    "    pred_series.plot(label='forecast')\n",
    "    plt.title('MAPE: {:.2f}%'.format(mape(pred_series, val_series)))\n",
    "    plt.legend();\n",
    "\n",
    "eval_model(my_model, 2, series['hosp'], test['hosp'])\n"
   ]
  }
 ],
 "metadata": {
  "accelerator": "GPU",
  "colab": {
   "collapsed_sections": [],
   "name": "darts.ipynb",
   "provenance": []
  },
  "kernelspec": {
   "display_name": "Python 3 (ipykernel)",
   "language": "python",
   "name": "python3"
  },
  "language_info": {
   "codemirror_mode": {
    "name": "ipython",
    "version": 3
   },
   "file_extension": ".py",
   "mimetype": "text/x-python",
   "name": "python",
   "nbconvert_exporter": "python",
   "pygments_lexer": "ipython3",
   "version": "3.9.6"
  },
  "toc": {
   "base_numbering": 1,
   "nav_menu": {},
   "number_sections": true,
   "sideBar": true,
   "skip_h1_title": false,
   "title_cell": "Table of Contents",
   "title_sidebar": "Contents",
   "toc_cell": false,
   "toc_position": {},
   "toc_section_display": true,
   "toc_window_display": false
  }
 },
 "nbformat": 4,
 "nbformat_minor": 1
}
