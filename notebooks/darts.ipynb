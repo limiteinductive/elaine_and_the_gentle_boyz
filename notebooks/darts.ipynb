{
 "cells": [
  {
   "cell_type": "code",
   "execution_count": 1,
   "metadata": {
    "ExecuteTime": {
     "end_time": "2021-08-27T09:15:12.403801Z",
     "start_time": "2021-08-27T09:15:11.857664Z"
    },
    "id": "OXdePhqshiPF"
   },
   "outputs": [],
   "source": [
    "from tensorflow.keras import Sequential\n",
    "import numpy as np\n",
    "import optuna\n",
    "import pandas as pd\n",
    "# ^^^ pyforest auto-imports - don't write above this line\n",
    "import sys\n",
    "import time\n",
    "import pandas as pd\n",
    "import numpy as np\n",
    "import matplotlib.pyplot as plt\n",
    "from datetime import datetime\n",
    "import xarray as xr\n",
    "\n",
    "\n",
    "import warnings\n",
    "warnings.filterwarnings(\"ignore\")\n",
    "import logging\n",
    "logging.disable(logging.CRITICAL)"
   ]
  },
  {
   "cell_type": "code",
   "execution_count": 56,
   "metadata": {
    "ExecuteTime": {
     "end_time": "2021-08-27T09:14:49.708354Z",
     "start_time": "2021-08-27T09:14:49.695955Z"
    }
   },
   "outputs": [
    {
     "name": "stdout",
     "output_type": "stream",
     "text": [
      "The autoreload extension is already loaded. To reload it, use:\n",
      "  %reload_ext autoreload\n"
     ]
    }
   ],
   "source": [
    "%load_ext autoreload\n",
    "%autoreload 2"
   ]
  },
  {
   "cell_type": "code",
   "execution_count": 4,
   "metadata": {
    "ExecuteTime": {
     "end_time": "2021-08-27T13:26:45.341184Z",
     "start_time": "2021-08-27T13:26:45.053769Z"
    }
   },
   "outputs": [],
   "source": [
    "from egbz.utils import *"
   ]
  },
  {
   "cell_type": "code",
   "execution_count": 1,
   "metadata": {
    "ExecuteTime": {
     "end_time": "2021-08-27T13:26:30.806873Z",
     "start_time": "2021-08-27T13:26:29.028958Z"
    },
    "id": "W8Nw8sBCk27G"
   },
   "outputs": [
    {
     "data": {
      "application/javascript": [
       "\n",
       "        if (window._pyforest_update_imports_cell) { window._pyforest_update_imports_cell('import pandas as pd'); }\n",
       "    "
      ],
      "text/plain": [
       "<IPython.core.display.Javascript object>"
      ]
     },
     "metadata": {},
     "output_type": "display_data"
    },
    {
     "name": "stderr",
     "output_type": "stream",
     "text": [
      "/usr/lib/python3.9/site-packages/IPython/core/interactiveshell.py:3169: DtypeWarning: Columns (0) have mixed types.Specify dtype option on import or set low_memory=False.\n",
      "  has_raised = await self.run_ast_nodes(code_ast.body, cell_name,\n"
     ]
    }
   ],
   "source": [
    "# Dataset suivi https://www.data.gouv.fr/fr/datasets/synthese-des-indicateurs-de-suivi-de-lepidemie-covid-19/\n",
    "link = 'https://www.data.gouv.fr/fr/datasets/r/5c4e1452-3850-4b59-b11c-3dd51d7fb8b5'\n",
    "df = pd.read_csv(link)"
   ]
  },
  {
   "cell_type": "code",
   "execution_count": 2,
   "metadata": {
    "ExecuteTime": {
     "end_time": "2021-08-27T13:26:32.966217Z",
     "start_time": "2021-08-27T13:26:32.909459Z"
    }
   },
   "outputs": [
    {
     "data": {
      "text/html": [
       "<div>\n",
       "<style scoped>\n",
       "    .dataframe tbody tr th:only-of-type {\n",
       "        vertical-align: middle;\n",
       "    }\n",
       "\n",
       "    .dataframe tbody tr th {\n",
       "        vertical-align: top;\n",
       "    }\n",
       "\n",
       "    .dataframe thead th {\n",
       "        text-align: right;\n",
       "    }\n",
       "</style>\n",
       "<table border=\"1\" class=\"dataframe\">\n",
       "  <thead>\n",
       "    <tr style=\"text-align: right;\">\n",
       "      <th></th>\n",
       "      <th>dep</th>\n",
       "      <th>date</th>\n",
       "      <th>reg</th>\n",
       "      <th>lib_dep</th>\n",
       "      <th>lib_reg</th>\n",
       "      <th>tx_pos</th>\n",
       "      <th>tx_incid</th>\n",
       "      <th>TO</th>\n",
       "      <th>R</th>\n",
       "      <th>hosp</th>\n",
       "      <th>...</th>\n",
       "      <th>dchosp</th>\n",
       "      <th>reg_rea</th>\n",
       "      <th>incid_hosp</th>\n",
       "      <th>incid_rea</th>\n",
       "      <th>incid_rad</th>\n",
       "      <th>incid_dchosp</th>\n",
       "      <th>reg_incid_rea</th>\n",
       "      <th>pos</th>\n",
       "      <th>pos_7j</th>\n",
       "      <th>cv_dose1</th>\n",
       "    </tr>\n",
       "  </thead>\n",
       "  <tbody>\n",
       "    <tr>\n",
       "      <th>0</th>\n",
       "      <td>01</td>\n",
       "      <td>2020-03-18</td>\n",
       "      <td>84</td>\n",
       "      <td>Ain</td>\n",
       "      <td>Auvergne et Rhône-Alpes</td>\n",
       "      <td>NaN</td>\n",
       "      <td>NaN</td>\n",
       "      <td>0.062612</td>\n",
       "      <td>NaN</td>\n",
       "      <td>2</td>\n",
       "      <td>...</td>\n",
       "      <td>0</td>\n",
       "      <td>35</td>\n",
       "      <td>NaN</td>\n",
       "      <td>NaN</td>\n",
       "      <td>NaN</td>\n",
       "      <td>NaN</td>\n",
       "      <td>NaN</td>\n",
       "      <td>NaN</td>\n",
       "      <td>NaN</td>\n",
       "      <td>NaN</td>\n",
       "    </tr>\n",
       "    <tr>\n",
       "      <th>1</th>\n",
       "      <td>01</td>\n",
       "      <td>2020-03-19</td>\n",
       "      <td>84</td>\n",
       "      <td>Ain</td>\n",
       "      <td>Auvergne et Rhône-Alpes</td>\n",
       "      <td>NaN</td>\n",
       "      <td>NaN</td>\n",
       "      <td>0.132379</td>\n",
       "      <td>NaN</td>\n",
       "      <td>2</td>\n",
       "      <td>...</td>\n",
       "      <td>0</td>\n",
       "      <td>79</td>\n",
       "      <td>1.0</td>\n",
       "      <td>0.0</td>\n",
       "      <td>0.0</td>\n",
       "      <td>0.0</td>\n",
       "      <td>44.0</td>\n",
       "      <td>NaN</td>\n",
       "      <td>NaN</td>\n",
       "      <td>NaN</td>\n",
       "    </tr>\n",
       "    <tr>\n",
       "      <th>2</th>\n",
       "      <td>01</td>\n",
       "      <td>2020-03-20</td>\n",
       "      <td>84</td>\n",
       "      <td>Ain</td>\n",
       "      <td>Auvergne et Rhône-Alpes</td>\n",
       "      <td>NaN</td>\n",
       "      <td>NaN</td>\n",
       "      <td>0.155635</td>\n",
       "      <td>NaN</td>\n",
       "      <td>2</td>\n",
       "      <td>...</td>\n",
       "      <td>0</td>\n",
       "      <td>87</td>\n",
       "      <td>0.0</td>\n",
       "      <td>0.0</td>\n",
       "      <td>1.0</td>\n",
       "      <td>0.0</td>\n",
       "      <td>16.0</td>\n",
       "      <td>NaN</td>\n",
       "      <td>NaN</td>\n",
       "      <td>NaN</td>\n",
       "    </tr>\n",
       "    <tr>\n",
       "      <th>3</th>\n",
       "      <td>01</td>\n",
       "      <td>2020-03-21</td>\n",
       "      <td>84</td>\n",
       "      <td>Ain</td>\n",
       "      <td>Auvergne et Rhône-Alpes</td>\n",
       "      <td>NaN</td>\n",
       "      <td>NaN</td>\n",
       "      <td>0.173524</td>\n",
       "      <td>NaN</td>\n",
       "      <td>4</td>\n",
       "      <td>...</td>\n",
       "      <td>0</td>\n",
       "      <td>88</td>\n",
       "      <td>3.0</td>\n",
       "      <td>0.0</td>\n",
       "      <td>0.0</td>\n",
       "      <td>0.0</td>\n",
       "      <td>15.0</td>\n",
       "      <td>NaN</td>\n",
       "      <td>NaN</td>\n",
       "      <td>NaN</td>\n",
       "    </tr>\n",
       "    <tr>\n",
       "      <th>4</th>\n",
       "      <td>01</td>\n",
       "      <td>2020-03-22</td>\n",
       "      <td>84</td>\n",
       "      <td>Ain</td>\n",
       "      <td>Auvergne et Rhône-Alpes</td>\n",
       "      <td>NaN</td>\n",
       "      <td>NaN</td>\n",
       "      <td>0.212880</td>\n",
       "      <td>NaN</td>\n",
       "      <td>8</td>\n",
       "      <td>...</td>\n",
       "      <td>0</td>\n",
       "      <td>106</td>\n",
       "      <td>3.0</td>\n",
       "      <td>1.0</td>\n",
       "      <td>1.0</td>\n",
       "      <td>0.0</td>\n",
       "      <td>25.0</td>\n",
       "      <td>NaN</td>\n",
       "      <td>NaN</td>\n",
       "      <td>NaN</td>\n",
       "    </tr>\n",
       "    <tr>\n",
       "      <th>...</th>\n",
       "      <td>...</td>\n",
       "      <td>...</td>\n",
       "      <td>...</td>\n",
       "      <td>...</td>\n",
       "      <td>...</td>\n",
       "      <td>...</td>\n",
       "      <td>...</td>\n",
       "      <td>...</td>\n",
       "      <td>...</td>\n",
       "      <td>...</td>\n",
       "      <td>...</td>\n",
       "      <td>...</td>\n",
       "      <td>...</td>\n",
       "      <td>...</td>\n",
       "      <td>...</td>\n",
       "      <td>...</td>\n",
       "      <td>...</td>\n",
       "      <td>...</td>\n",
       "      <td>...</td>\n",
       "      <td>...</td>\n",
       "      <td>...</td>\n",
       "    </tr>\n",
       "    <tr>\n",
       "      <th>53222</th>\n",
       "      <td>976</td>\n",
       "      <td>2021-08-22</td>\n",
       "      <td>6</td>\n",
       "      <td>Mayotte</td>\n",
       "      <td>Mayotte</td>\n",
       "      <td>1.201147</td>\n",
       "      <td>23.973865</td>\n",
       "      <td>0.000000</td>\n",
       "      <td>NaN</td>\n",
       "      <td>1</td>\n",
       "      <td>...</td>\n",
       "      <td>132</td>\n",
       "      <td>0</td>\n",
       "      <td>0.0</td>\n",
       "      <td>0.0</td>\n",
       "      <td>0.0</td>\n",
       "      <td>0.0</td>\n",
       "      <td>0.0</td>\n",
       "      <td>3.0</td>\n",
       "      <td>67.0</td>\n",
       "      <td>NaN</td>\n",
       "    </tr>\n",
       "    <tr>\n",
       "      <th>53223</th>\n",
       "      <td>976</td>\n",
       "      <td>2021-08-23</td>\n",
       "      <td>6</td>\n",
       "      <td>Mayotte</td>\n",
       "      <td>Mayotte</td>\n",
       "      <td>1.441578</td>\n",
       "      <td>27.194235</td>\n",
       "      <td>0.000000</td>\n",
       "      <td>NaN</td>\n",
       "      <td>1</td>\n",
       "      <td>...</td>\n",
       "      <td>132</td>\n",
       "      <td>0</td>\n",
       "      <td>0.0</td>\n",
       "      <td>0.0</td>\n",
       "      <td>0.0</td>\n",
       "      <td>0.0</td>\n",
       "      <td>0.0</td>\n",
       "      <td>24.0</td>\n",
       "      <td>76.0</td>\n",
       "      <td>NaN</td>\n",
       "    </tr>\n",
       "    <tr>\n",
       "      <th>53224</th>\n",
       "      <td>976</td>\n",
       "      <td>2021-08-24</td>\n",
       "      <td>6</td>\n",
       "      <td>Mayotte</td>\n",
       "      <td>Mayotte</td>\n",
       "      <td>NaN</td>\n",
       "      <td>NaN</td>\n",
       "      <td>0.000000</td>\n",
       "      <td>NaN</td>\n",
       "      <td>1</td>\n",
       "      <td>...</td>\n",
       "      <td>132</td>\n",
       "      <td>0</td>\n",
       "      <td>0.0</td>\n",
       "      <td>0.0</td>\n",
       "      <td>0.0</td>\n",
       "      <td>0.0</td>\n",
       "      <td>0.0</td>\n",
       "      <td>NaN</td>\n",
       "      <td>NaN</td>\n",
       "      <td>NaN</td>\n",
       "    </tr>\n",
       "    <tr>\n",
       "      <th>53225</th>\n",
       "      <td>976</td>\n",
       "      <td>2021-08-25</td>\n",
       "      <td>6</td>\n",
       "      <td>Mayotte</td>\n",
       "      <td>Mayotte</td>\n",
       "      <td>NaN</td>\n",
       "      <td>NaN</td>\n",
       "      <td>0.000000</td>\n",
       "      <td>NaN</td>\n",
       "      <td>1</td>\n",
       "      <td>...</td>\n",
       "      <td>132</td>\n",
       "      <td>0</td>\n",
       "      <td>0.0</td>\n",
       "      <td>0.0</td>\n",
       "      <td>0.0</td>\n",
       "      <td>0.0</td>\n",
       "      <td>0.0</td>\n",
       "      <td>NaN</td>\n",
       "      <td>NaN</td>\n",
       "      <td>34.3</td>\n",
       "    </tr>\n",
       "    <tr>\n",
       "      <th>53226</th>\n",
       "      <td>976</td>\n",
       "      <td>2021-08-26</td>\n",
       "      <td>6</td>\n",
       "      <td>Mayotte</td>\n",
       "      <td>Mayotte</td>\n",
       "      <td>NaN</td>\n",
       "      <td>NaN</td>\n",
       "      <td>0.000000</td>\n",
       "      <td>NaN</td>\n",
       "      <td>1</td>\n",
       "      <td>...</td>\n",
       "      <td>132</td>\n",
       "      <td>0</td>\n",
       "      <td>1.0</td>\n",
       "      <td>0.0</td>\n",
       "      <td>1.0</td>\n",
       "      <td>0.0</td>\n",
       "      <td>0.0</td>\n",
       "      <td>NaN</td>\n",
       "      <td>NaN</td>\n",
       "      <td>NaN</td>\n",
       "    </tr>\n",
       "  </tbody>\n",
       "</table>\n",
       "<p>53227 rows × 22 columns</p>\n",
       "</div>"
      ],
      "text/plain": [
       "       dep        date  reg  lib_dep                  lib_reg    tx_pos  \\\n",
       "0       01  2020-03-18   84      Ain  Auvergne et Rhône-Alpes       NaN   \n",
       "1       01  2020-03-19   84      Ain  Auvergne et Rhône-Alpes       NaN   \n",
       "2       01  2020-03-20   84      Ain  Auvergne et Rhône-Alpes       NaN   \n",
       "3       01  2020-03-21   84      Ain  Auvergne et Rhône-Alpes       NaN   \n",
       "4       01  2020-03-22   84      Ain  Auvergne et Rhône-Alpes       NaN   \n",
       "...    ...         ...  ...      ...                      ...       ...   \n",
       "53222  976  2021-08-22    6  Mayotte                  Mayotte  1.201147   \n",
       "53223  976  2021-08-23    6  Mayotte                  Mayotte  1.441578   \n",
       "53224  976  2021-08-24    6  Mayotte                  Mayotte       NaN   \n",
       "53225  976  2021-08-25    6  Mayotte                  Mayotte       NaN   \n",
       "53226  976  2021-08-26    6  Mayotte                  Mayotte       NaN   \n",
       "\n",
       "        tx_incid        TO   R  hosp  ...  dchosp  reg_rea  incid_hosp  \\\n",
       "0            NaN  0.062612 NaN     2  ...       0       35         NaN   \n",
       "1            NaN  0.132379 NaN     2  ...       0       79         1.0   \n",
       "2            NaN  0.155635 NaN     2  ...       0       87         0.0   \n",
       "3            NaN  0.173524 NaN     4  ...       0       88         3.0   \n",
       "4            NaN  0.212880 NaN     8  ...       0      106         3.0   \n",
       "...          ...       ...  ..   ...  ...     ...      ...         ...   \n",
       "53222  23.973865  0.000000 NaN     1  ...     132        0         0.0   \n",
       "53223  27.194235  0.000000 NaN     1  ...     132        0         0.0   \n",
       "53224        NaN  0.000000 NaN     1  ...     132        0         0.0   \n",
       "53225        NaN  0.000000 NaN     1  ...     132        0         0.0   \n",
       "53226        NaN  0.000000 NaN     1  ...     132        0         1.0   \n",
       "\n",
       "       incid_rea  incid_rad  incid_dchosp  reg_incid_rea   pos  pos_7j  \\\n",
       "0            NaN        NaN           NaN            NaN   NaN     NaN   \n",
       "1            0.0        0.0           0.0           44.0   NaN     NaN   \n",
       "2            0.0        1.0           0.0           16.0   NaN     NaN   \n",
       "3            0.0        0.0           0.0           15.0   NaN     NaN   \n",
       "4            1.0        1.0           0.0           25.0   NaN     NaN   \n",
       "...          ...        ...           ...            ...   ...     ...   \n",
       "53222        0.0        0.0           0.0            0.0   3.0    67.0   \n",
       "53223        0.0        0.0           0.0            0.0  24.0    76.0   \n",
       "53224        0.0        0.0           0.0            0.0   NaN     NaN   \n",
       "53225        0.0        0.0           0.0            0.0   NaN     NaN   \n",
       "53226        0.0        1.0           0.0            0.0   NaN     NaN   \n",
       "\n",
       "       cv_dose1  \n",
       "0           NaN  \n",
       "1           NaN  \n",
       "2           NaN  \n",
       "3           NaN  \n",
       "4           NaN  \n",
       "...         ...  \n",
       "53222       NaN  \n",
       "53223       NaN  \n",
       "53224       NaN  \n",
       "53225      34.3  \n",
       "53226       NaN  \n",
       "\n",
       "[53227 rows x 22 columns]"
      ]
     },
     "execution_count": 2,
     "metadata": {},
     "output_type": "execute_result"
    }
   ],
   "source": [
    "df"
   ]
  },
  {
   "cell_type": "code",
   "execution_count": 5,
   "metadata": {
    "ExecuteTime": {
     "end_time": "2021-08-27T13:26:47.696128Z",
     "start_time": "2021-08-27T13:26:47.582799Z"
    }
   },
   "outputs": [],
   "source": [
    "dataset = create_dataset(df, zone_col='dep', time_col='date')"
   ]
  },
  {
   "cell_type": "code",
   "execution_count": 109,
   "metadata": {
    "ExecuteTime": {
     "end_time": "2021-08-27T14:03:00.708076Z",
     "start_time": "2021-08-27T14:02:59.955682Z"
    }
   },
   "outputs": [
    {
     "data": {
      "text/html": [
       "<div><svg style=\"position: absolute; width: 0; height: 0; overflow: hidden\">\n",
       "<defs>\n",
       "<symbol id=\"icon-database\" viewBox=\"0 0 32 32\">\n",
       "<path d=\"M16 0c-8.837 0-16 2.239-16 5v4c0 2.761 7.163 5 16 5s16-2.239 16-5v-4c0-2.761-7.163-5-16-5z\"></path>\n",
       "<path d=\"M16 17c-8.837 0-16-2.239-16-5v6c0 2.761 7.163 5 16 5s16-2.239 16-5v-6c0 2.761-7.163 5-16 5z\"></path>\n",
       "<path d=\"M16 26c-8.837 0-16-2.239-16-5v6c0 2.761 7.163 5 16 5s16-2.239 16-5v-6c0 2.761-7.163 5-16 5z\"></path>\n",
       "</symbol>\n",
       "<symbol id=\"icon-file-text2\" viewBox=\"0 0 32 32\">\n",
       "<path d=\"M28.681 7.159c-0.694-0.947-1.662-2.053-2.724-3.116s-2.169-2.030-3.116-2.724c-1.612-1.182-2.393-1.319-2.841-1.319h-15.5c-1.378 0-2.5 1.121-2.5 2.5v27c0 1.378 1.122 2.5 2.5 2.5h23c1.378 0 2.5-1.122 2.5-2.5v-19.5c0-0.448-0.137-1.23-1.319-2.841zM24.543 5.457c0.959 0.959 1.712 1.825 2.268 2.543h-4.811v-4.811c0.718 0.556 1.584 1.309 2.543 2.268zM28 29.5c0 0.271-0.229 0.5-0.5 0.5h-23c-0.271 0-0.5-0.229-0.5-0.5v-27c0-0.271 0.229-0.5 0.5-0.5 0 0 15.499-0 15.5 0v7c0 0.552 0.448 1 1 1h7v19.5z\"></path>\n",
       "<path d=\"M23 26h-14c-0.552 0-1-0.448-1-1s0.448-1 1-1h14c0.552 0 1 0.448 1 1s-0.448 1-1 1z\"></path>\n",
       "<path d=\"M23 22h-14c-0.552 0-1-0.448-1-1s0.448-1 1-1h14c0.552 0 1 0.448 1 1s-0.448 1-1 1z\"></path>\n",
       "<path d=\"M23 18h-14c-0.552 0-1-0.448-1-1s0.448-1 1-1h14c0.552 0 1 0.448 1 1s-0.448 1-1 1z\"></path>\n",
       "</symbol>\n",
       "</defs>\n",
       "</svg>\n",
       "<style>/* CSS stylesheet for displaying xarray objects in jupyterlab.\n",
       " *\n",
       " */\n",
       "\n",
       ":root {\n",
       "  --xr-font-color0: var(--jp-content-font-color0, rgba(0, 0, 0, 1));\n",
       "  --xr-font-color2: var(--jp-content-font-color2, rgba(0, 0, 0, 0.54));\n",
       "  --xr-font-color3: var(--jp-content-font-color3, rgba(0, 0, 0, 0.38));\n",
       "  --xr-border-color: var(--jp-border-color2, #e0e0e0);\n",
       "  --xr-disabled-color: var(--jp-layout-color3, #bdbdbd);\n",
       "  --xr-background-color: var(--jp-layout-color0, white);\n",
       "  --xr-background-color-row-even: var(--jp-layout-color1, white);\n",
       "  --xr-background-color-row-odd: var(--jp-layout-color2, #eeeeee);\n",
       "}\n",
       "\n",
       "html[theme=dark],\n",
       "body.vscode-dark {\n",
       "  --xr-font-color0: rgba(255, 255, 255, 1);\n",
       "  --xr-font-color2: rgba(255, 255, 255, 0.54);\n",
       "  --xr-font-color3: rgba(255, 255, 255, 0.38);\n",
       "  --xr-border-color: #1F1F1F;\n",
       "  --xr-disabled-color: #515151;\n",
       "  --xr-background-color: #111111;\n",
       "  --xr-background-color-row-even: #111111;\n",
       "  --xr-background-color-row-odd: #313131;\n",
       "}\n",
       "\n",
       ".xr-wrap {\n",
       "  display: block;\n",
       "  min-width: 300px;\n",
       "  max-width: 700px;\n",
       "}\n",
       "\n",
       ".xr-text-repr-fallback {\n",
       "  /* fallback to plain text repr when CSS is not injected (untrusted notebook) */\n",
       "  display: none;\n",
       "}\n",
       "\n",
       ".xr-header {\n",
       "  padding-top: 6px;\n",
       "  padding-bottom: 6px;\n",
       "  margin-bottom: 4px;\n",
       "  border-bottom: solid 1px var(--xr-border-color);\n",
       "}\n",
       "\n",
       ".xr-header > div,\n",
       ".xr-header > ul {\n",
       "  display: inline;\n",
       "  margin-top: 0;\n",
       "  margin-bottom: 0;\n",
       "}\n",
       "\n",
       ".xr-obj-type,\n",
       ".xr-array-name {\n",
       "  margin-left: 2px;\n",
       "  margin-right: 10px;\n",
       "}\n",
       "\n",
       ".xr-obj-type {\n",
       "  color: var(--xr-font-color2);\n",
       "}\n",
       "\n",
       ".xr-sections {\n",
       "  padding-left: 0 !important;\n",
       "  display: grid;\n",
       "  grid-template-columns: 150px auto auto 1fr 20px 20px;\n",
       "}\n",
       "\n",
       ".xr-section-item {\n",
       "  display: contents;\n",
       "}\n",
       "\n",
       ".xr-section-item input {\n",
       "  display: none;\n",
       "}\n",
       "\n",
       ".xr-section-item input + label {\n",
       "  color: var(--xr-disabled-color);\n",
       "}\n",
       "\n",
       ".xr-section-item input:enabled + label {\n",
       "  cursor: pointer;\n",
       "  color: var(--xr-font-color2);\n",
       "}\n",
       "\n",
       ".xr-section-item input:enabled + label:hover {\n",
       "  color: var(--xr-font-color0);\n",
       "}\n",
       "\n",
       ".xr-section-summary {\n",
       "  grid-column: 1;\n",
       "  color: var(--xr-font-color2);\n",
       "  font-weight: 500;\n",
       "}\n",
       "\n",
       ".xr-section-summary > span {\n",
       "  display: inline-block;\n",
       "  padding-left: 0.5em;\n",
       "}\n",
       "\n",
       ".xr-section-summary-in:disabled + label {\n",
       "  color: var(--xr-font-color2);\n",
       "}\n",
       "\n",
       ".xr-section-summary-in + label:before {\n",
       "  display: inline-block;\n",
       "  content: '►';\n",
       "  font-size: 11px;\n",
       "  width: 15px;\n",
       "  text-align: center;\n",
       "}\n",
       "\n",
       ".xr-section-summary-in:disabled + label:before {\n",
       "  color: var(--xr-disabled-color);\n",
       "}\n",
       "\n",
       ".xr-section-summary-in:checked + label:before {\n",
       "  content: '▼';\n",
       "}\n",
       "\n",
       ".xr-section-summary-in:checked + label > span {\n",
       "  display: none;\n",
       "}\n",
       "\n",
       ".xr-section-summary,\n",
       ".xr-section-inline-details {\n",
       "  padding-top: 4px;\n",
       "  padding-bottom: 4px;\n",
       "}\n",
       "\n",
       ".xr-section-inline-details {\n",
       "  grid-column: 2 / -1;\n",
       "}\n",
       "\n",
       ".xr-section-details {\n",
       "  display: none;\n",
       "  grid-column: 1 / -1;\n",
       "  margin-bottom: 5px;\n",
       "}\n",
       "\n",
       ".xr-section-summary-in:checked ~ .xr-section-details {\n",
       "  display: contents;\n",
       "}\n",
       "\n",
       ".xr-array-wrap {\n",
       "  grid-column: 1 / -1;\n",
       "  display: grid;\n",
       "  grid-template-columns: 20px auto;\n",
       "}\n",
       "\n",
       ".xr-array-wrap > label {\n",
       "  grid-column: 1;\n",
       "  vertical-align: top;\n",
       "}\n",
       "\n",
       ".xr-preview {\n",
       "  color: var(--xr-font-color3);\n",
       "}\n",
       "\n",
       ".xr-array-preview,\n",
       ".xr-array-data {\n",
       "  padding: 0 5px !important;\n",
       "  grid-column: 2;\n",
       "}\n",
       "\n",
       ".xr-array-data,\n",
       ".xr-array-in:checked ~ .xr-array-preview {\n",
       "  display: none;\n",
       "}\n",
       "\n",
       ".xr-array-in:checked ~ .xr-array-data,\n",
       ".xr-array-preview {\n",
       "  display: inline-block;\n",
       "}\n",
       "\n",
       ".xr-dim-list {\n",
       "  display: inline-block !important;\n",
       "  list-style: none;\n",
       "  padding: 0 !important;\n",
       "  margin: 0;\n",
       "}\n",
       "\n",
       ".xr-dim-list li {\n",
       "  display: inline-block;\n",
       "  padding: 0;\n",
       "  margin: 0;\n",
       "}\n",
       "\n",
       ".xr-dim-list:before {\n",
       "  content: '(';\n",
       "}\n",
       "\n",
       ".xr-dim-list:after {\n",
       "  content: ')';\n",
       "}\n",
       "\n",
       ".xr-dim-list li:not(:last-child):after {\n",
       "  content: ',';\n",
       "  padding-right: 5px;\n",
       "}\n",
       "\n",
       ".xr-has-index {\n",
       "  font-weight: bold;\n",
       "}\n",
       "\n",
       ".xr-var-list,\n",
       ".xr-var-item {\n",
       "  display: contents;\n",
       "}\n",
       "\n",
       ".xr-var-item > div,\n",
       ".xr-var-item label,\n",
       ".xr-var-item > .xr-var-name span {\n",
       "  background-color: var(--xr-background-color-row-even);\n",
       "  margin-bottom: 0;\n",
       "}\n",
       "\n",
       ".xr-var-item > .xr-var-name:hover span {\n",
       "  padding-right: 5px;\n",
       "}\n",
       "\n",
       ".xr-var-list > li:nth-child(odd) > div,\n",
       ".xr-var-list > li:nth-child(odd) > label,\n",
       ".xr-var-list > li:nth-child(odd) > .xr-var-name span {\n",
       "  background-color: var(--xr-background-color-row-odd);\n",
       "}\n",
       "\n",
       ".xr-var-name {\n",
       "  grid-column: 1;\n",
       "}\n",
       "\n",
       ".xr-var-dims {\n",
       "  grid-column: 2;\n",
       "}\n",
       "\n",
       ".xr-var-dtype {\n",
       "  grid-column: 3;\n",
       "  text-align: right;\n",
       "  color: var(--xr-font-color2);\n",
       "}\n",
       "\n",
       ".xr-var-preview {\n",
       "  grid-column: 4;\n",
       "}\n",
       "\n",
       ".xr-var-name,\n",
       ".xr-var-dims,\n",
       ".xr-var-dtype,\n",
       ".xr-preview,\n",
       ".xr-attrs dt {\n",
       "  white-space: nowrap;\n",
       "  overflow: hidden;\n",
       "  text-overflow: ellipsis;\n",
       "  padding-right: 10px;\n",
       "}\n",
       "\n",
       ".xr-var-name:hover,\n",
       ".xr-var-dims:hover,\n",
       ".xr-var-dtype:hover,\n",
       ".xr-attrs dt:hover {\n",
       "  overflow: visible;\n",
       "  width: auto;\n",
       "  z-index: 1;\n",
       "}\n",
       "\n",
       ".xr-var-attrs,\n",
       ".xr-var-data {\n",
       "  display: none;\n",
       "  background-color: var(--xr-background-color) !important;\n",
       "  padding-bottom: 5px !important;\n",
       "}\n",
       "\n",
       ".xr-var-attrs-in:checked ~ .xr-var-attrs,\n",
       ".xr-var-data-in:checked ~ .xr-var-data {\n",
       "  display: block;\n",
       "}\n",
       "\n",
       ".xr-var-data > table {\n",
       "  float: right;\n",
       "}\n",
       "\n",
       ".xr-var-name span,\n",
       ".xr-var-data,\n",
       ".xr-attrs {\n",
       "  padding-left: 25px !important;\n",
       "}\n",
       "\n",
       ".xr-attrs,\n",
       ".xr-var-attrs,\n",
       ".xr-var-data {\n",
       "  grid-column: 1 / -1;\n",
       "}\n",
       "\n",
       "dl.xr-attrs {\n",
       "  padding: 0;\n",
       "  margin: 0;\n",
       "  display: grid;\n",
       "  grid-template-columns: 125px auto;\n",
       "}\n",
       "\n",
       ".xr-attrs dt,\n",
       ".xr-attrs dd {\n",
       "  padding: 0;\n",
       "  margin: 0;\n",
       "  float: left;\n",
       "  padding-right: 10px;\n",
       "  width: auto;\n",
       "}\n",
       "\n",
       ".xr-attrs dt {\n",
       "  font-weight: normal;\n",
       "  grid-column: 1;\n",
       "}\n",
       "\n",
       ".xr-attrs dt:hover span {\n",
       "  display: inline-block;\n",
       "  background: var(--xr-background-color);\n",
       "  padding-right: 10px;\n",
       "}\n",
       "\n",
       ".xr-attrs dd {\n",
       "  grid-column: 2;\n",
       "  white-space: pre-wrap;\n",
       "  word-break: break-all;\n",
       "}\n",
       "\n",
       ".xr-icon-database,\n",
       ".xr-icon-file-text2 {\n",
       "  display: inline-block;\n",
       "  vertical-align: middle;\n",
       "  width: 1em;\n",
       "  height: 1.5em !important;\n",
       "  stroke-width: 0;\n",
       "  stroke: currentColor;\n",
       "  fill: currentColor;\n",
       "}\n",
       "</style><pre class='xr-text-repr-fallback'>&lt;xarray.DataArray (time: 527, component: 202, sample: 1)&gt;\n",
       "array([[[ 2.],\n",
       "        [ 0.],\n",
       "        [41.],\n",
       "        ...,\n",
       "        [ 2.],\n",
       "        [ 0.],\n",
       "        [ 0.]],\n",
       "\n",
       "       [[ 2.],\n",
       "        [ 0.],\n",
       "        [43.],\n",
       "        ...,\n",
       "        [ 2.],\n",
       "        [ 0.],\n",
       "        [ 0.]],\n",
       "\n",
       "       [[ 2.],\n",
       "        [ 0.],\n",
       "        [52.],\n",
       "        ...,\n",
       "...\n",
       "        ...,\n",
       "        [44.],\n",
       "        [ 1.],\n",
       "        [ 0.]],\n",
       "\n",
       "       [[77.],\n",
       "        [ 9.],\n",
       "        [48.],\n",
       "        ...,\n",
       "        [43.],\n",
       "        [ 1.],\n",
       "        [ 0.]],\n",
       "\n",
       "       [[79.],\n",
       "        [ 9.],\n",
       "        [45.],\n",
       "        ...,\n",
       "        [44.],\n",
       "        [ 1.],\n",
       "        [ 0.]]])\n",
       "Coordinates:\n",
       "  * time       (time) datetime64[ns] 2020-03-18 2020-03-19 ... 2021-08-26\n",
       "  * component  (component) object &#x27;hosp_01&#x27; &#x27;rea_01&#x27; ... &#x27;hosp_976&#x27; &#x27;rea_976&#x27;\n",
       "Dimensions without coordinates: sample</pre><div class='xr-wrap' hidden><div class='xr-header'><div class='xr-obj-type'>xarray.DataArray</div><div class='xr-array-name'></div><ul class='xr-dim-list'><li><span class='xr-has-index'>time</span>: 527</li><li><span class='xr-has-index'>component</span>: 202</li><li><span>sample</span>: 1</li></ul></div><ul class='xr-sections'><li class='xr-section-item'><div class='xr-array-wrap'><input id='section-cd03b353-1ab7-4024-bf7e-8a22e642d64a' class='xr-array-in' type='checkbox' checked><label for='section-cd03b353-1ab7-4024-bf7e-8a22e642d64a' title='Show/hide data repr'><svg class='icon xr-icon-database'><use xlink:href='#icon-database'></use></svg></label><div class='xr-array-preview xr-preview'><span>2.0 0.0 41.0 10.0 4.0 0.0 3.0 ... 146.0 87.0 22.0 185.0 44.0 1.0 0.0</span></div><div class='xr-array-data'><pre>array([[[ 2.],\n",
       "        [ 0.],\n",
       "        [41.],\n",
       "        ...,\n",
       "        [ 2.],\n",
       "        [ 0.],\n",
       "        [ 0.]],\n",
       "\n",
       "       [[ 2.],\n",
       "        [ 0.],\n",
       "        [43.],\n",
       "        ...,\n",
       "        [ 2.],\n",
       "        [ 0.],\n",
       "        [ 0.]],\n",
       "\n",
       "       [[ 2.],\n",
       "        [ 0.],\n",
       "        [52.],\n",
       "        ...,\n",
       "...\n",
       "        ...,\n",
       "        [44.],\n",
       "        [ 1.],\n",
       "        [ 0.]],\n",
       "\n",
       "       [[77.],\n",
       "        [ 9.],\n",
       "        [48.],\n",
       "        ...,\n",
       "        [43.],\n",
       "        [ 1.],\n",
       "        [ 0.]],\n",
       "\n",
       "       [[79.],\n",
       "        [ 9.],\n",
       "        [45.],\n",
       "        ...,\n",
       "        [44.],\n",
       "        [ 1.],\n",
       "        [ 0.]]])</pre></div></div></li><li class='xr-section-item'><input id='section-503ceb09-c0ba-46e6-b2ae-76680c859260' class='xr-section-summary-in' type='checkbox'  checked><label for='section-503ceb09-c0ba-46e6-b2ae-76680c859260' class='xr-section-summary' >Coordinates: <span>(2)</span></label><div class='xr-section-inline-details'></div><div class='xr-section-details'><ul class='xr-var-list'><li class='xr-var-item'><div class='xr-var-name'><span class='xr-has-index'>time</span></div><div class='xr-var-dims'>(time)</div><div class='xr-var-dtype'>datetime64[ns]</div><div class='xr-var-preview xr-preview'>2020-03-18 ... 2021-08-26</div><input id='attrs-21914e8a-bd00-464b-b4ff-fc73aab778d6' class='xr-var-attrs-in' type='checkbox' disabled><label for='attrs-21914e8a-bd00-464b-b4ff-fc73aab778d6' title='Show/Hide attributes'><svg class='icon xr-icon-file-text2'><use xlink:href='#icon-file-text2'></use></svg></label><input id='data-278fd8e1-29ba-40c9-9a0a-ef9f34f9d1ff' class='xr-var-data-in' type='checkbox'><label for='data-278fd8e1-29ba-40c9-9a0a-ef9f34f9d1ff' title='Show/Hide data repr'><svg class='icon xr-icon-database'><use xlink:href='#icon-database'></use></svg></label><div class='xr-var-attrs'><dl class='xr-attrs'></dl></div><div class='xr-var-data'><pre>array([&#x27;2020-03-18T00:00:00.000000000&#x27;, &#x27;2020-03-19T00:00:00.000000000&#x27;,\n",
       "       &#x27;2020-03-20T00:00:00.000000000&#x27;, ..., &#x27;2021-08-24T00:00:00.000000000&#x27;,\n",
       "       &#x27;2021-08-25T00:00:00.000000000&#x27;, &#x27;2021-08-26T00:00:00.000000000&#x27;],\n",
       "      dtype=&#x27;datetime64[ns]&#x27;)</pre></div></li><li class='xr-var-item'><div class='xr-var-name'><span class='xr-has-index'>component</span></div><div class='xr-var-dims'>(component)</div><div class='xr-var-dtype'>object</div><div class='xr-var-preview xr-preview'>&#x27;hosp_01&#x27; &#x27;rea_01&#x27; ... &#x27;rea_976&#x27;</div><input id='attrs-cde05d10-8612-4ea1-9c53-1ac241c95a52' class='xr-var-attrs-in' type='checkbox' disabled><label for='attrs-cde05d10-8612-4ea1-9c53-1ac241c95a52' title='Show/Hide attributes'><svg class='icon xr-icon-file-text2'><use xlink:href='#icon-file-text2'></use></svg></label><input id='data-0d21862e-f91d-41f6-8f4f-986c4f1332c4' class='xr-var-data-in' type='checkbox'><label for='data-0d21862e-f91d-41f6-8f4f-986c4f1332c4' title='Show/Hide data repr'><svg class='icon xr-icon-database'><use xlink:href='#icon-database'></use></svg></label><div class='xr-var-attrs'><dl class='xr-attrs'></dl></div><div class='xr-var-data'><pre>array([&#x27;hosp_01&#x27;, &#x27;rea_01&#x27;, &#x27;hosp_02&#x27;, ..., &#x27;rea_974&#x27;, &#x27;hosp_976&#x27;, &#x27;rea_976&#x27;],\n",
       "      dtype=object)</pre></div></li></ul></div></li><li class='xr-section-item'><input id='section-552dbebb-22b3-4eac-a8fe-b68bf4bba29d' class='xr-section-summary-in' type='checkbox' disabled ><label for='section-552dbebb-22b3-4eac-a8fe-b68bf4bba29d' class='xr-section-summary'  title='Expand/collapse section'>Attributes: <span>(0)</span></label><div class='xr-section-inline-details'></div><div class='xr-section-details'><dl class='xr-attrs'></dl></div></li></ul></div></div>"
      ],
      "text/plain": [
       "<xarray.DataArray (time: 527, component: 202, sample: 1)>\n",
       "array([[[ 2.],\n",
       "        [ 0.],\n",
       "        [41.],\n",
       "        ...,\n",
       "        [ 2.],\n",
       "        [ 0.],\n",
       "        [ 0.]],\n",
       "\n",
       "       [[ 2.],\n",
       "        [ 0.],\n",
       "        [43.],\n",
       "        ...,\n",
       "        [ 2.],\n",
       "        [ 0.],\n",
       "        [ 0.]],\n",
       "\n",
       "       [[ 2.],\n",
       "        [ 0.],\n",
       "        [52.],\n",
       "        ...,\n",
       "...\n",
       "        ...,\n",
       "        [44.],\n",
       "        [ 1.],\n",
       "        [ 0.]],\n",
       "\n",
       "       [[77.],\n",
       "        [ 9.],\n",
       "        [48.],\n",
       "        ...,\n",
       "        [43.],\n",
       "        [ 1.],\n",
       "        [ 0.]],\n",
       "\n",
       "       [[79.],\n",
       "        [ 9.],\n",
       "        [45.],\n",
       "        ...,\n",
       "        [44.],\n",
       "        [ 1.],\n",
       "        [ 0.]]])\n",
       "Coordinates:\n",
       "  * time       (time) datetime64[ns] 2020-03-18 2020-03-19 ... 2021-08-26\n",
       "  * component  (component) object 'hosp_01' 'rea_01' ... 'hosp_976' 'rea_976'\n",
       "Dimensions without coordinates: sample"
      ]
     },
     "execution_count": 109,
     "metadata": {},
     "output_type": "execute_result"
    }
   ],
   "source": [
    "from_df(df, time_col='date', cat_cols=['dep'], value_cols=['hosp', 'rea']).data_array()"
   ]
  },
  {
   "cell_type": "code",
   "execution_count": null,
   "metadata": {},
   "outputs": [],
   "source": []
  },
  {
   "cell_type": "code",
   "execution_count": 127,
   "metadata": {
    "ExecuteTime": {
     "end_time": "2021-08-27T20:05:33.851968Z",
     "start_time": "2021-08-27T20:05:33.512007Z"
    }
   },
   "outputs": [
    {
     "data": {
      "image/png": "[encoded data removed]",
      "text/plain": [
       "<Figure size 432x288 with 1 Axes>"
      ]
     },
     "metadata": {
      "needs_background": "light"
     },
     "output_type": "display_data"
    }
   ],
   "source": [
    "dataset['dchosp'].loc[['75', '69'], pd.date_range('2020-04-01', '2021-04-01')].plot.line(x='time');"
   ]
  },
  {
   "cell_type": "code",
   "execution_count": 26,
   "metadata": {
    "ExecuteTime": {
     "end_time": "2021-08-27T13:33:37.088165Z",
     "start_time": "2021-08-27T13:33:37.084741Z"
    }
   },
   "outputs": [],
   "source": [
    "test = df[['date', 'dep']]"
   ]
  },
  {
   "cell_type": "code",
   "execution_count": 92,
   "metadata": {
    "ExecuteTime": {
     "end_time": "2021-08-27T13:50:08.921600Z",
     "start_time": "2021-08-27T13:50:08.904250Z"
    }
   },
   "outputs": [
    {
     "data": {
      "text/html": [
       "<div>\n",
       "<style scoped>\n",
       "    .dataframe tbody tr th:only-of-type {\n",
       "        vertical-align: middle;\n",
       "    }\n",
       "\n",
       "    .dataframe tbody tr th {\n",
       "        vertical-align: top;\n",
       "    }\n",
       "\n",
       "    .dataframe thead th {\n",
       "        text-align: right;\n",
       "    }\n",
       "</style>\n",
       "<table border=\"1\" class=\"dataframe\">\n",
       "  <thead>\n",
       "    <tr style=\"text-align: right;\">\n",
       "      <th></th>\n",
       "      <th>dep</th>\n",
       "      <th>test_var</th>\n",
       "    </tr>\n",
       "    <tr>\n",
       "      <th>zone</th>\n",
       "      <th></th>\n",
       "      <th></th>\n",
       "    </tr>\n",
       "  </thead>\n",
       "  <tbody>\n",
       "    <tr>\n",
       "      <th>01</th>\n",
       "      <td>01</td>\n",
       "      <td>01</td>\n",
       "    </tr>\n",
       "    <tr>\n",
       "      <th>02</th>\n",
       "      <td>02</td>\n",
       "      <td>01</td>\n",
       "    </tr>\n",
       "    <tr>\n",
       "      <th>03</th>\n",
       "      <td>03</td>\n",
       "      <td>01</td>\n",
       "    </tr>\n",
       "    <tr>\n",
       "      <th>04</th>\n",
       "      <td>04</td>\n",
       "      <td>01</td>\n",
       "    </tr>\n",
       "    <tr>\n",
       "      <th>05</th>\n",
       "      <td>05</td>\n",
       "      <td>01</td>\n",
       "    </tr>\n",
       "    <tr>\n",
       "      <th>...</th>\n",
       "      <td>...</td>\n",
       "      <td>...</td>\n",
       "    </tr>\n",
       "    <tr>\n",
       "      <th>971</th>\n",
       "      <td>971</td>\n",
       "      <td>01</td>\n",
       "    </tr>\n",
       "    <tr>\n",
       "      <th>972</th>\n",
       "      <td>972</td>\n",
       "      <td>01</td>\n",
       "    </tr>\n",
       "    <tr>\n",
       "      <th>973</th>\n",
       "      <td>973</td>\n",
       "      <td>01</td>\n",
       "    </tr>\n",
       "    <tr>\n",
       "      <th>974</th>\n",
       "      <td>974</td>\n",
       "      <td>01</td>\n",
       "    </tr>\n",
       "    <tr>\n",
       "      <th>976</th>\n",
       "      <td>976</td>\n",
       "      <td>01</td>\n",
       "    </tr>\n",
       "  </tbody>\n",
       "</table>\n",
       "<p>101 rows × 2 columns</p>\n",
       "</div>"
      ],
      "text/plain": [
       "      dep test_var\n",
       "zone              \n",
       "01     01       01\n",
       "02     02       01\n",
       "03     03       01\n",
       "04     04       01\n",
       "05     05       01\n",
       "...   ...      ...\n",
       "971   971       01\n",
       "972   972       01\n",
       "973   973       01\n",
       "974   974       01\n",
       "976   976       01\n",
       "\n",
       "[101 rows x 2 columns]"
      ]
     },
     "execution_count": 92,
     "metadata": {},
     "output_type": "execute_result"
    }
   ],
   "source": [
    "troll = df[['dep']].drop_duplicates().reset_index(drop=True)\n",
    "troll['test_var'] = df.dep\n",
    "troll['zone']= troll.dep\n",
    "troll = troll.set_index('zone')\n",
    "troll"
   ]
  },
  {
   "cell_type": "code",
   "execution_count": 93,
   "metadata": {
    "ExecuteTime": {
     "end_time": "2021-08-27T13:50:10.564286Z",
     "start_time": "2021-08-27T13:50:10.548227Z"
    }
   },
   "outputs": [
    {
     "data": {
      "text/html": [
       "<div><svg style=\"position: absolute; width: 0; height: 0; overflow: hidden\">\n",
       "<defs>\n",
       "<symbol id=\"icon-database\" viewBox=\"0 0 32 32\">\n",
       "<path d=\"M16 0c-8.837 0-16 2.239-16 5v4c0 2.761 7.163 5 16 5s16-2.239 16-5v-4c0-2.761-7.163-5-16-5z\"></path>\n",
       "<path d=\"M16 17c-8.837 0-16-2.239-16-5v6c0 2.761 7.163 5 16 5s16-2.239 16-5v-6c0 2.761-7.163 5-16 5z\"></path>\n",
       "<path d=\"M16 26c-8.837 0-16-2.239-16-5v6c0 2.761 7.163 5 16 5s16-2.239 16-5v-6c0 2.761-7.163 5-16 5z\"></path>\n",
       "</symbol>\n",
       "<symbol id=\"icon-file-text2\" viewBox=\"0 0 32 32\">\n",
       "<path d=\"M28.681 7.159c-0.694-0.947-1.662-2.053-2.724-3.116s-2.169-2.030-3.116-2.724c-1.612-1.182-2.393-1.319-2.841-1.319h-15.5c-1.378 0-2.5 1.121-2.5 2.5v27c0 1.378 1.122 2.5 2.5 2.5h23c1.378 0 2.5-1.122 2.5-2.5v-19.5c0-0.448-0.137-1.23-1.319-2.841zM24.543 5.457c0.959 0.959 1.712 1.825 2.268 2.543h-4.811v-4.811c0.718 0.556 1.584 1.309 2.543 2.268zM28 29.5c0 0.271-0.229 0.5-0.5 0.5h-23c-0.271 0-0.5-0.229-0.5-0.5v-27c0-0.271 0.229-0.5 0.5-0.5 0 0 15.499-0 15.5 0v7c0 0.552 0.448 1 1 1h7v19.5z\"></path>\n",
       "<path d=\"M23 26h-14c-0.552 0-1-0.448-1-1s0.448-1 1-1h14c0.552 0 1 0.448 1 1s-0.448 1-1 1z\"></path>\n",
       "<path d=\"M23 22h-14c-0.552 0-1-0.448-1-1s0.448-1 1-1h14c0.552 0 1 0.448 1 1s-0.448 1-1 1z\"></path>\n",
       "<path d=\"M23 18h-14c-0.552 0-1-0.448-1-1s0.448-1 1-1h14c0.552 0 1 0.448 1 1s-0.448 1-1 1z\"></path>\n",
       "</symbol>\n",
       "</defs>\n",
       "</svg>\n",
       "<style>/* CSS stylesheet for displaying xarray objects in jupyterlab.\n",
       " *\n",
       " */\n",
       "\n",
       ":root {\n",
       "  --xr-font-color0: var(--jp-content-font-color0, rgba(0, 0, 0, 1));\n",
       "  --xr-font-color2: var(--jp-content-font-color2, rgba(0, 0, 0, 0.54));\n",
       "  --xr-font-color3: var(--jp-content-font-color3, rgba(0, 0, 0, 0.38));\n",
       "  --xr-border-color: var(--jp-border-color2, #e0e0e0);\n",
       "  --xr-disabled-color: var(--jp-layout-color3, #bdbdbd);\n",
       "  --xr-background-color: var(--jp-layout-color0, white);\n",
       "  --xr-background-color-row-even: var(--jp-layout-color1, white);\n",
       "  --xr-background-color-row-odd: var(--jp-layout-color2, #eeeeee);\n",
       "}\n",
       "\n",
       "html[theme=dark],\n",
       "body.vscode-dark {\n",
       "  --xr-font-color0: rgba(255, 255, 255, 1);\n",
       "  --xr-font-color2: rgba(255, 255, 255, 0.54);\n",
       "  --xr-font-color3: rgba(255, 255, 255, 0.38);\n",
       "  --xr-border-color: #1F1F1F;\n",
       "  --xr-disabled-color: #515151;\n",
       "  --xr-background-color: #111111;\n",
       "  --xr-background-color-row-even: #111111;\n",
       "  --xr-background-color-row-odd: #313131;\n",
       "}\n",
       "\n",
       ".xr-wrap {\n",
       "  display: block;\n",
       "  min-width: 300px;\n",
       "  max-width: 700px;\n",
       "}\n",
       "\n",
       ".xr-text-repr-fallback {\n",
       "  /* fallback to plain text repr when CSS is not injected (untrusted notebook) */\n",
       "  display: none;\n",
       "}\n",
       "\n",
       ".xr-header {\n",
       "  padding-top: 6px;\n",
       "  padding-bottom: 6px;\n",
       "  margin-bottom: 4px;\n",
       "  border-bottom: solid 1px var(--xr-border-color);\n",
       "}\n",
       "\n",
       ".xr-header > div,\n",
       ".xr-header > ul {\n",
       "  display: inline;\n",
       "  margin-top: 0;\n",
       "  margin-bottom: 0;\n",
       "}\n",
       "\n",
       ".xr-obj-type,\n",
       ".xr-array-name {\n",
       "  margin-left: 2px;\n",
       "  margin-right: 10px;\n",
       "}\n",
       "\n",
       ".xr-obj-type {\n",
       "  color: var(--xr-font-color2);\n",
       "}\n",
       "\n",
       ".xr-sections {\n",
       "  padding-left: 0 !important;\n",
       "  display: grid;\n",
       "  grid-template-columns: 150px auto auto 1fr 20px 20px;\n",
       "}\n",
       "\n",
       ".xr-section-item {\n",
       "  display: contents;\n",
       "}\n",
       "\n",
       ".xr-section-item input {\n",
       "  display: none;\n",
       "}\n",
       "\n",
       ".xr-section-item input + label {\n",
       "  color: var(--xr-disabled-color);\n",
       "}\n",
       "\n",
       ".xr-section-item input:enabled + label {\n",
       "  cursor: pointer;\n",
       "  color: var(--xr-font-color2);\n",
       "}\n",
       "\n",
       ".xr-section-item input:enabled + label:hover {\n",
       "  color: var(--xr-font-color0);\n",
       "}\n",
       "\n",
       ".xr-section-summary {\n",
       "  grid-column: 1;\n",
       "  color: var(--xr-font-color2);\n",
       "  font-weight: 500;\n",
       "}\n",
       "\n",
       ".xr-section-summary > span {\n",
       "  display: inline-block;\n",
       "  padding-left: 0.5em;\n",
       "}\n",
       "\n",
       ".xr-section-summary-in:disabled + label {\n",
       "  color: var(--xr-font-color2);\n",
       "}\n",
       "\n",
       ".xr-section-summary-in + label:before {\n",
       "  display: inline-block;\n",
       "  content: '►';\n",
       "  font-size: 11px;\n",
       "  width: 15px;\n",
       "  text-align: center;\n",
       "}\n",
       "\n",
       ".xr-section-summary-in:disabled + label:before {\n",
       "  color: var(--xr-disabled-color);\n",
       "}\n",
       "\n",
       ".xr-section-summary-in:checked + label:before {\n",
       "  content: '▼';\n",
       "}\n",
       "\n",
       ".xr-section-summary-in:checked + label > span {\n",
       "  display: none;\n",
       "}\n",
       "\n",
       ".xr-section-summary,\n",
       ".xr-section-inline-details {\n",
       "  padding-top: 4px;\n",
       "  padding-bottom: 4px;\n",
       "}\n",
       "\n",
       ".xr-section-inline-details {\n",
       "  grid-column: 2 / -1;\n",
       "}\n",
       "\n",
       ".xr-section-details {\n",
       "  display: none;\n",
       "  grid-column: 1 / -1;\n",
       "  margin-bottom: 5px;\n",
       "}\n",
       "\n",
       ".xr-section-summary-in:checked ~ .xr-section-details {\n",
       "  display: contents;\n",
       "}\n",
       "\n",
       ".xr-array-wrap {\n",
       "  grid-column: 1 / -1;\n",
       "  display: grid;\n",
       "  grid-template-columns: 20px auto;\n",
       "}\n",
       "\n",
       ".xr-array-wrap > label {\n",
       "  grid-column: 1;\n",
       "  vertical-align: top;\n",
       "}\n",
       "\n",
       ".xr-preview {\n",
       "  color: var(--xr-font-color3);\n",
       "}\n",
       "\n",
       ".xr-array-preview,\n",
       ".xr-array-data {\n",
       "  padding: 0 5px !important;\n",
       "  grid-column: 2;\n",
       "}\n",
       "\n",
       ".xr-array-data,\n",
       ".xr-array-in:checked ~ .xr-array-preview {\n",
       "  display: none;\n",
       "}\n",
       "\n",
       ".xr-array-in:checked ~ .xr-array-data,\n",
       ".xr-array-preview {\n",
       "  display: inline-block;\n",
       "}\n",
       "\n",
       ".xr-dim-list {\n",
       "  display: inline-block !important;\n",
       "  list-style: none;\n",
       "  padding: 0 !important;\n",
       "  margin: 0;\n",
       "}\n",
       "\n",
       ".xr-dim-list li {\n",
       "  display: inline-block;\n",
       "  padding: 0;\n",
       "  margin: 0;\n",
       "}\n",
       "\n",
       ".xr-dim-list:before {\n",
       "  content: '(';\n",
       "}\n",
       "\n",
       ".xr-dim-list:after {\n",
       "  content: ')';\n",
       "}\n",
       "\n",
       ".xr-dim-list li:not(:last-child):after {\n",
       "  content: ',';\n",
       "  padding-right: 5px;\n",
       "}\n",
       "\n",
       ".xr-has-index {\n",
       "  font-weight: bold;\n",
       "}\n",
       "\n",
       ".xr-var-list,\n",
       ".xr-var-item {\n",
       "  display: contents;\n",
       "}\n",
       "\n",
       ".xr-var-item > div,\n",
       ".xr-var-item label,\n",
       ".xr-var-item > .xr-var-name span {\n",
       "  background-color: var(--xr-background-color-row-even);\n",
       "  margin-bottom: 0;\n",
       "}\n",
       "\n",
       ".xr-var-item > .xr-var-name:hover span {\n",
       "  padding-right: 5px;\n",
       "}\n",
       "\n",
       ".xr-var-list > li:nth-child(odd) > div,\n",
       ".xr-var-list > li:nth-child(odd) > label,\n",
       ".xr-var-list > li:nth-child(odd) > .xr-var-name span {\n",
       "  background-color: var(--xr-background-color-row-odd);\n",
       "}\n",
       "\n",
       ".xr-var-name {\n",
       "  grid-column: 1;\n",
       "}\n",
       "\n",
       ".xr-var-dims {\n",
       "  grid-column: 2;\n",
       "}\n",
       "\n",
       ".xr-var-dtype {\n",
       "  grid-column: 3;\n",
       "  text-align: right;\n",
       "  color: var(--xr-font-color2);\n",
       "}\n",
       "\n",
       ".xr-var-preview {\n",
       "  grid-column: 4;\n",
       "}\n",
       "\n",
       ".xr-var-name,\n",
       ".xr-var-dims,\n",
       ".xr-var-dtype,\n",
       ".xr-preview,\n",
       ".xr-attrs dt {\n",
       "  white-space: nowrap;\n",
       "  overflow: hidden;\n",
       "  text-overflow: ellipsis;\n",
       "  padding-right: 10px;\n",
       "}\n",
       "\n",
       ".xr-var-name:hover,\n",
       ".xr-var-dims:hover,\n",
       ".xr-var-dtype:hover,\n",
       ".xr-attrs dt:hover {\n",
       "  overflow: visible;\n",
       "  width: auto;\n",
       "  z-index: 1;\n",
       "}\n",
       "\n",
       ".xr-var-attrs,\n",
       ".xr-var-data {\n",
       "  display: none;\n",
       "  background-color: var(--xr-background-color) !important;\n",
       "  padding-bottom: 5px !important;\n",
       "}\n",
       "\n",
       ".xr-var-attrs-in:checked ~ .xr-var-attrs,\n",
       ".xr-var-data-in:checked ~ .xr-var-data {\n",
       "  display: block;\n",
       "}\n",
       "\n",
       ".xr-var-data > table {\n",
       "  float: right;\n",
       "}\n",
       "\n",
       ".xr-var-name span,\n",
       ".xr-var-data,\n",
       ".xr-attrs {\n",
       "  padding-left: 25px !important;\n",
       "}\n",
       "\n",
       ".xr-attrs,\n",
       ".xr-var-attrs,\n",
       ".xr-var-data {\n",
       "  grid-column: 1 / -1;\n",
       "}\n",
       "\n",
       "dl.xr-attrs {\n",
       "  padding: 0;\n",
       "  margin: 0;\n",
       "  display: grid;\n",
       "  grid-template-columns: 125px auto;\n",
       "}\n",
       "\n",
       ".xr-attrs dt,\n",
       ".xr-attrs dd {\n",
       "  padding: 0;\n",
       "  margin: 0;\n",
       "  float: left;\n",
       "  padding-right: 10px;\n",
       "  width: auto;\n",
       "}\n",
       "\n",
       ".xr-attrs dt {\n",
       "  font-weight: normal;\n",
       "  grid-column: 1;\n",
       "}\n",
       "\n",
       ".xr-attrs dt:hover span {\n",
       "  display: inline-block;\n",
       "  background: var(--xr-background-color);\n",
       "  padding-right: 10px;\n",
       "}\n",
       "\n",
       ".xr-attrs dd {\n",
       "  grid-column: 2;\n",
       "  white-space: pre-wrap;\n",
       "  word-break: break-all;\n",
       "}\n",
       "\n",
       ".xr-icon-database,\n",
       ".xr-icon-file-text2 {\n",
       "  display: inline-block;\n",
       "  vertical-align: middle;\n",
       "  width: 1em;\n",
       "  height: 1.5em !important;\n",
       "  stroke-width: 0;\n",
       "  stroke: currentColor;\n",
       "  fill: currentColor;\n",
       "}\n",
       "</style><pre class='xr-text-repr-fallback'>&lt;xarray.Dataset&gt;\n",
       "Dimensions:   (zone: 101)\n",
       "Coordinates:\n",
       "  * zone      (zone) object &#x27;01&#x27; &#x27;02&#x27; &#x27;03&#x27; &#x27;04&#x27; &#x27;05&#x27; ... &#x27;972&#x27; &#x27;973&#x27; &#x27;974&#x27; &#x27;976&#x27;\n",
       "Data variables:\n",
       "    dep       (zone) object &#x27;01&#x27; &#x27;02&#x27; &#x27;03&#x27; &#x27;04&#x27; &#x27;05&#x27; ... &#x27;972&#x27; &#x27;973&#x27; &#x27;974&#x27; &#x27;976&#x27;\n",
       "    test_var  (zone) object &#x27;01&#x27; &#x27;01&#x27; &#x27;01&#x27; &#x27;01&#x27; &#x27;01&#x27; ... &#x27;01&#x27; &#x27;01&#x27; &#x27;01&#x27; &#x27;01&#x27;</pre><div class='xr-wrap' hidden><div class='xr-header'><div class='xr-obj-type'>xarray.Dataset</div></div><ul class='xr-sections'><li class='xr-section-item'><input id='section-3e7135d9-fa33-486a-b5c9-dc794a73774b' class='xr-section-summary-in' type='checkbox' disabled ><label for='section-3e7135d9-fa33-486a-b5c9-dc794a73774b' class='xr-section-summary'  title='Expand/collapse section'>Dimensions:</label><div class='xr-section-inline-details'><ul class='xr-dim-list'><li><span class='xr-has-index'>zone</span>: 101</li></ul></div><div class='xr-section-details'></div></li><li class='xr-section-item'><input id='section-cfd55143-e9d8-4df6-b43a-ad9cb7f4e4d2' class='xr-section-summary-in' type='checkbox'  checked><label for='section-cfd55143-e9d8-4df6-b43a-ad9cb7f4e4d2' class='xr-section-summary' >Coordinates: <span>(1)</span></label><div class='xr-section-inline-details'></div><div class='xr-section-details'><ul class='xr-var-list'><li class='xr-var-item'><div class='xr-var-name'><span class='xr-has-index'>zone</span></div><div class='xr-var-dims'>(zone)</div><div class='xr-var-dtype'>object</div><div class='xr-var-preview xr-preview'>&#x27;01&#x27; &#x27;02&#x27; &#x27;03&#x27; ... &#x27;974&#x27; &#x27;976&#x27;</div><input id='attrs-50af541b-a77a-426b-b457-7f1fd927cc58' class='xr-var-attrs-in' type='checkbox' disabled><label for='attrs-50af541b-a77a-426b-b457-7f1fd927cc58' title='Show/Hide attributes'><svg class='icon xr-icon-file-text2'><use xlink:href='#icon-file-text2'></use></svg></label><input id='data-5b0679e3-e41c-483d-9c5a-93a9847b2b79' class='xr-var-data-in' type='checkbox'><label for='data-5b0679e3-e41c-483d-9c5a-93a9847b2b79' title='Show/Hide data repr'><svg class='icon xr-icon-database'><use xlink:href='#icon-database'></use></svg></label><div class='xr-var-attrs'><dl class='xr-attrs'></dl></div><div class='xr-var-data'><pre>array([&#x27;01&#x27;, &#x27;02&#x27;, &#x27;03&#x27;, &#x27;04&#x27;, &#x27;05&#x27;, &#x27;06&#x27;, &#x27;07&#x27;, &#x27;08&#x27;, &#x27;09&#x27;, &#x27;10&#x27;, &#x27;11&#x27;, &#x27;12&#x27;,\n",
       "       &#x27;13&#x27;, &#x27;14&#x27;, &#x27;15&#x27;, &#x27;16&#x27;, &#x27;17&#x27;, &#x27;18&#x27;, &#x27;19&#x27;, &#x27;21&#x27;, &#x27;22&#x27;, &#x27;23&#x27;, &#x27;24&#x27;, &#x27;25&#x27;,\n",
       "       &#x27;26&#x27;, &#x27;27&#x27;, &#x27;28&#x27;, &#x27;29&#x27;, &#x27;2A&#x27;, &#x27;2B&#x27;, &#x27;30&#x27;, &#x27;31&#x27;, &#x27;32&#x27;, &#x27;33&#x27;, &#x27;34&#x27;, &#x27;35&#x27;,\n",
       "       &#x27;36&#x27;, &#x27;37&#x27;, &#x27;38&#x27;, &#x27;39&#x27;, &#x27;40&#x27;, &#x27;41&#x27;, &#x27;42&#x27;, &#x27;43&#x27;, &#x27;44&#x27;, &#x27;45&#x27;, &#x27;46&#x27;, &#x27;47&#x27;,\n",
       "       &#x27;48&#x27;, &#x27;49&#x27;, &#x27;50&#x27;, &#x27;51&#x27;, &#x27;52&#x27;, &#x27;53&#x27;, &#x27;54&#x27;, &#x27;55&#x27;, &#x27;56&#x27;, &#x27;57&#x27;, &#x27;58&#x27;, &#x27;59&#x27;,\n",
       "       &#x27;60&#x27;, &#x27;61&#x27;, &#x27;62&#x27;, &#x27;63&#x27;, &#x27;64&#x27;, &#x27;65&#x27;, &#x27;66&#x27;, &#x27;67&#x27;, &#x27;68&#x27;, &#x27;69&#x27;, &#x27;70&#x27;, &#x27;71&#x27;,\n",
       "       &#x27;72&#x27;, &#x27;73&#x27;, &#x27;74&#x27;, &#x27;75&#x27;, &#x27;76&#x27;, &#x27;77&#x27;, &#x27;78&#x27;, &#x27;79&#x27;, &#x27;80&#x27;, &#x27;81&#x27;, &#x27;82&#x27;, &#x27;83&#x27;,\n",
       "       &#x27;84&#x27;, &#x27;85&#x27;, &#x27;86&#x27;, &#x27;87&#x27;, &#x27;88&#x27;, &#x27;89&#x27;, &#x27;90&#x27;, &#x27;91&#x27;, &#x27;92&#x27;, &#x27;93&#x27;, &#x27;94&#x27;, &#x27;95&#x27;,\n",
       "       &#x27;971&#x27;, &#x27;972&#x27;, &#x27;973&#x27;, &#x27;974&#x27;, &#x27;976&#x27;], dtype=object)</pre></div></li></ul></div></li><li class='xr-section-item'><input id='section-550ff634-f521-4ef7-a985-2c2ec17a5e3d' class='xr-section-summary-in' type='checkbox'  checked><label for='section-550ff634-f521-4ef7-a985-2c2ec17a5e3d' class='xr-section-summary' >Data variables: <span>(2)</span></label><div class='xr-section-inline-details'></div><div class='xr-section-details'><ul class='xr-var-list'><li class='xr-var-item'><div class='xr-var-name'><span>dep</span></div><div class='xr-var-dims'>(zone)</div><div class='xr-var-dtype'>object</div><div class='xr-var-preview xr-preview'>&#x27;01&#x27; &#x27;02&#x27; &#x27;03&#x27; ... &#x27;974&#x27; &#x27;976&#x27;</div><input id='attrs-696789c1-2c44-4dce-b096-385750d41013' class='xr-var-attrs-in' type='checkbox' disabled><label for='attrs-696789c1-2c44-4dce-b096-385750d41013' title='Show/Hide attributes'><svg class='icon xr-icon-file-text2'><use xlink:href='#icon-file-text2'></use></svg></label><input id='data-774cd002-cda8-4afc-8b03-c68f6c14110e' class='xr-var-data-in' type='checkbox'><label for='data-774cd002-cda8-4afc-8b03-c68f6c14110e' title='Show/Hide data repr'><svg class='icon xr-icon-database'><use xlink:href='#icon-database'></use></svg></label><div class='xr-var-attrs'><dl class='xr-attrs'></dl></div><div class='xr-var-data'><pre>array([&#x27;01&#x27;, &#x27;02&#x27;, &#x27;03&#x27;, &#x27;04&#x27;, &#x27;05&#x27;, &#x27;06&#x27;, &#x27;07&#x27;, &#x27;08&#x27;, &#x27;09&#x27;, &#x27;10&#x27;, &#x27;11&#x27;,\n",
       "       &#x27;12&#x27;, &#x27;13&#x27;, &#x27;14&#x27;, &#x27;15&#x27;, &#x27;16&#x27;, &#x27;17&#x27;, &#x27;18&#x27;, &#x27;19&#x27;, &#x27;21&#x27;, &#x27;22&#x27;, &#x27;23&#x27;,\n",
       "       &#x27;24&#x27;, &#x27;25&#x27;, &#x27;26&#x27;, &#x27;27&#x27;, &#x27;28&#x27;, &#x27;29&#x27;, &#x27;2A&#x27;, &#x27;2B&#x27;, &#x27;30&#x27;, &#x27;31&#x27;, &#x27;32&#x27;,\n",
       "       &#x27;33&#x27;, &#x27;34&#x27;, &#x27;35&#x27;, &#x27;36&#x27;, &#x27;37&#x27;, &#x27;38&#x27;, &#x27;39&#x27;, &#x27;40&#x27;, &#x27;41&#x27;, &#x27;42&#x27;, &#x27;43&#x27;,\n",
       "       &#x27;44&#x27;, &#x27;45&#x27;, &#x27;46&#x27;, &#x27;47&#x27;, &#x27;48&#x27;, &#x27;49&#x27;, &#x27;50&#x27;, &#x27;51&#x27;, &#x27;52&#x27;, &#x27;53&#x27;, &#x27;54&#x27;,\n",
       "       &#x27;55&#x27;, &#x27;56&#x27;, &#x27;57&#x27;, &#x27;58&#x27;, &#x27;59&#x27;, &#x27;60&#x27;, &#x27;61&#x27;, &#x27;62&#x27;, &#x27;63&#x27;, &#x27;64&#x27;, &#x27;65&#x27;,\n",
       "       &#x27;66&#x27;, &#x27;67&#x27;, &#x27;68&#x27;, &#x27;69&#x27;, &#x27;70&#x27;, &#x27;71&#x27;, &#x27;72&#x27;, &#x27;73&#x27;, &#x27;74&#x27;, &#x27;75&#x27;, &#x27;76&#x27;,\n",
       "       &#x27;77&#x27;, &#x27;78&#x27;, &#x27;79&#x27;, &#x27;80&#x27;, &#x27;81&#x27;, &#x27;82&#x27;, &#x27;83&#x27;, &#x27;84&#x27;, &#x27;85&#x27;, &#x27;86&#x27;, &#x27;87&#x27;,\n",
       "       &#x27;88&#x27;, &#x27;89&#x27;, &#x27;90&#x27;, &#x27;91&#x27;, &#x27;92&#x27;, &#x27;93&#x27;, &#x27;94&#x27;, &#x27;95&#x27;, &#x27;971&#x27;, &#x27;972&#x27;,\n",
       "       &#x27;973&#x27;, &#x27;974&#x27;, &#x27;976&#x27;], dtype=object)</pre></div></li><li class='xr-var-item'><div class='xr-var-name'><span>test_var</span></div><div class='xr-var-dims'>(zone)</div><div class='xr-var-dtype'>object</div><div class='xr-var-preview xr-preview'>&#x27;01&#x27; &#x27;01&#x27; &#x27;01&#x27; ... &#x27;01&#x27; &#x27;01&#x27; &#x27;01&#x27;</div><input id='attrs-91802891-3a79-4ff8-a1ab-dfb8f25692b7' class='xr-var-attrs-in' type='checkbox' disabled><label for='attrs-91802891-3a79-4ff8-a1ab-dfb8f25692b7' title='Show/Hide attributes'><svg class='icon xr-icon-file-text2'><use xlink:href='#icon-file-text2'></use></svg></label><input id='data-f1f7c5a8-8231-4eaf-a3f2-54300e875357' class='xr-var-data-in' type='checkbox'><label for='data-f1f7c5a8-8231-4eaf-a3f2-54300e875357' title='Show/Hide data repr'><svg class='icon xr-icon-database'><use xlink:href='#icon-database'></use></svg></label><div class='xr-var-attrs'><dl class='xr-attrs'></dl></div><div class='xr-var-data'><pre>array([&#x27;01&#x27;, &#x27;01&#x27;, &#x27;01&#x27;, &#x27;01&#x27;, &#x27;01&#x27;, &#x27;01&#x27;, &#x27;01&#x27;, &#x27;01&#x27;, &#x27;01&#x27;, &#x27;01&#x27;, &#x27;01&#x27;,\n",
       "       &#x27;01&#x27;, &#x27;01&#x27;, &#x27;01&#x27;, &#x27;01&#x27;, &#x27;01&#x27;, &#x27;01&#x27;, &#x27;01&#x27;, &#x27;01&#x27;, &#x27;01&#x27;, &#x27;01&#x27;, &#x27;01&#x27;,\n",
       "       &#x27;01&#x27;, &#x27;01&#x27;, &#x27;01&#x27;, &#x27;01&#x27;, &#x27;01&#x27;, &#x27;01&#x27;, &#x27;01&#x27;, &#x27;01&#x27;, &#x27;01&#x27;, &#x27;01&#x27;, &#x27;01&#x27;,\n",
       "       &#x27;01&#x27;, &#x27;01&#x27;, &#x27;01&#x27;, &#x27;01&#x27;, &#x27;01&#x27;, &#x27;01&#x27;, &#x27;01&#x27;, &#x27;01&#x27;, &#x27;01&#x27;, &#x27;01&#x27;, &#x27;01&#x27;,\n",
       "       &#x27;01&#x27;, &#x27;01&#x27;, &#x27;01&#x27;, &#x27;01&#x27;, &#x27;01&#x27;, &#x27;01&#x27;, &#x27;01&#x27;, &#x27;01&#x27;, &#x27;01&#x27;, &#x27;01&#x27;, &#x27;01&#x27;,\n",
       "       &#x27;01&#x27;, &#x27;01&#x27;, &#x27;01&#x27;, &#x27;01&#x27;, &#x27;01&#x27;, &#x27;01&#x27;, &#x27;01&#x27;, &#x27;01&#x27;, &#x27;01&#x27;, &#x27;01&#x27;, &#x27;01&#x27;,\n",
       "       &#x27;01&#x27;, &#x27;01&#x27;, &#x27;01&#x27;, &#x27;01&#x27;, &#x27;01&#x27;, &#x27;01&#x27;, &#x27;01&#x27;, &#x27;01&#x27;, &#x27;01&#x27;, &#x27;01&#x27;, &#x27;01&#x27;,\n",
       "       &#x27;01&#x27;, &#x27;01&#x27;, &#x27;01&#x27;, &#x27;01&#x27;, &#x27;01&#x27;, &#x27;01&#x27;, &#x27;01&#x27;, &#x27;01&#x27;, &#x27;01&#x27;, &#x27;01&#x27;, &#x27;01&#x27;,\n",
       "       &#x27;01&#x27;, &#x27;01&#x27;, &#x27;01&#x27;, &#x27;01&#x27;, &#x27;01&#x27;, &#x27;01&#x27;, &#x27;01&#x27;, &#x27;01&#x27;, &#x27;01&#x27;, &#x27;01&#x27;, &#x27;01&#x27;,\n",
       "       &#x27;01&#x27;, &#x27;01&#x27;], dtype=object)</pre></div></li></ul></div></li><li class='xr-section-item'><input id='section-36fc8c80-efc1-422b-bfef-aee1e02d6be5' class='xr-section-summary-in' type='checkbox' disabled ><label for='section-36fc8c80-efc1-422b-bfef-aee1e02d6be5' class='xr-section-summary'  title='Expand/collapse section'>Attributes: <span>(0)</span></label><div class='xr-section-inline-details'></div><div class='xr-section-details'><dl class='xr-attrs'></dl></div></li></ul></div></div>"
      ],
      "text/plain": [
       "<xarray.Dataset>\n",
       "Dimensions:   (zone: 101)\n",
       "Coordinates:\n",
       "  * zone      (zone) object '01' '02' '03' '04' '05' ... '972' '973' '974' '976'\n",
       "Data variables:\n",
       "    dep       (zone) object '01' '02' '03' '04' '05' ... '972' '973' '974' '976'\n",
       "    test_var  (zone) object '01' '01' '01' '01' '01' ... '01' '01' '01' '01'"
      ]
     },
     "execution_count": 93,
     "metadata": {},
     "output_type": "execute_result"
    }
   ],
   "source": [
    "troll_dataset = troll.to_xarray()\n",
    "troll_dataset"
   ]
  },
  {
   "cell_type": "code",
   "execution_count": 100,
   "metadata": {
    "ExecuteTime": {
     "end_time": "2021-08-27T13:55:41.760897Z",
     "start_time": "2021-08-27T13:55:41.749973Z"
    }
   },
   "outputs": [
    {
     "ename": "KeyError",
     "evalue": "'component'",
     "output_type": "error",
     "traceback": [
      "\u001b[0;31m---------------------------------------------------------------------------\u001b[0m",
      "\u001b[0;31mKeyError\u001b[0m                                  Traceback (most recent call last)",
      "\u001b[0;32m/tmp/ipykernel_46553/617072298.py\u001b[0m in \u001b[0;36m<module>\u001b[0;34m\u001b[0m\n\u001b[0;32m----> 1\u001b[0;31m \u001b[0mTimeSeries\u001b[0m\u001b[0;34m.\u001b[0m\u001b[0mfrom_xarray\u001b[0m\u001b[0;34m(\u001b[0m\u001b[0mtest\u001b[0m\u001b[0;34m[\u001b[0m\u001b[0;34m[\u001b[0m\u001b[0;34m'hosp'\u001b[0m\u001b[0;34m,\u001b[0m\u001b[0;34m'rea'\u001b[0m\u001b[0;34m]\u001b[0m\u001b[0;34m]\u001b[0m\u001b[0;34m.\u001b[0m\u001b[0mto_array\u001b[0m\u001b[0;34m(\u001b[0m\u001b[0;34m)\u001b[0m\u001b[0;34m)\u001b[0m\u001b[0;34m\u001b[0m\u001b[0;34m\u001b[0m\u001b[0m\n\u001b[0m",
      "\u001b[0;32m~/.local/lib/python3.9/site-packages/darts/timeseries.py\u001b[0m in \u001b[0;36mfrom_xarray\u001b[0;34m(xa, fill_missing_dates, freq)\u001b[0m\n\u001b[1;32m    183\u001b[0m \u001b[0;34m\u001b[0m\u001b[0m\n\u001b[1;32m    184\u001b[0m         \u001b[0;31m# clean components (columns) names if needed (if names are not unique, or not strings)\u001b[0m\u001b[0;34m\u001b[0m\u001b[0;34m\u001b[0m\u001b[0;34m\u001b[0m\u001b[0m\n\u001b[0;32m--> 185\u001b[0;31m         \u001b[0mcomponents\u001b[0m \u001b[0;34m=\u001b[0m \u001b[0mxa_\u001b[0m\u001b[0;34m.\u001b[0m\u001b[0mget_index\u001b[0m\u001b[0;34m(\u001b[0m\u001b[0mDIMS\u001b[0m\u001b[0;34m[\u001b[0m\u001b[0;36m1\u001b[0m\u001b[0;34m]\u001b[0m\u001b[0;34m)\u001b[0m\u001b[0;34m\u001b[0m\u001b[0;34m\u001b[0m\u001b[0m\n\u001b[0m\u001b[1;32m    186\u001b[0m         \u001b[0;32mif\u001b[0m \u001b[0mlen\u001b[0m\u001b[0;34m(\u001b[0m\u001b[0mset\u001b[0m\u001b[0;34m(\u001b[0m\u001b[0mcomponents\u001b[0m\u001b[0;34m)\u001b[0m\u001b[0;34m)\u001b[0m \u001b[0;34m!=\u001b[0m \u001b[0mlen\u001b[0m\u001b[0;34m(\u001b[0m\u001b[0mcomponents\u001b[0m\u001b[0;34m)\u001b[0m \u001b[0;32mor\u001b[0m \u001b[0many\u001b[0m\u001b[0;34m(\u001b[0m\u001b[0;34m[\u001b[0m\u001b[0;32mnot\u001b[0m \u001b[0misinstance\u001b[0m\u001b[0;34m(\u001b[0m\u001b[0ms\u001b[0m\u001b[0;34m,\u001b[0m \u001b[0mstr\u001b[0m\u001b[0;34m)\u001b[0m \u001b[0;32mfor\u001b[0m \u001b[0ms\u001b[0m \u001b[0;32min\u001b[0m \u001b[0mcomponents\u001b[0m\u001b[0;34m]\u001b[0m\u001b[0;34m)\u001b[0m\u001b[0;34m:\u001b[0m\u001b[0;34m\u001b[0m\u001b[0;34m\u001b[0m\u001b[0m\n\u001b[1;32m    187\u001b[0m \u001b[0;34m\u001b[0m\u001b[0m\n",
      "\u001b[0;32m~/.local/lib/python3.9/site-packages/xarray/core/common.py\u001b[0m in \u001b[0;36mget_index\u001b[0;34m(self, key)\u001b[0m\n\u001b[1;32m    402\u001b[0m         \u001b[0;34m\"\"\"Get an index for a dimension, with fall-back to a default RangeIndex\"\"\"\u001b[0m\u001b[0;34m\u001b[0m\u001b[0;34m\u001b[0m\u001b[0m\n\u001b[1;32m    403\u001b[0m         \u001b[0;32mif\u001b[0m \u001b[0mkey\u001b[0m \u001b[0;32mnot\u001b[0m \u001b[0;32min\u001b[0m \u001b[0mself\u001b[0m\u001b[0;34m.\u001b[0m\u001b[0mdims\u001b[0m\u001b[0;34m:\u001b[0m\u001b[0;34m\u001b[0m\u001b[0;34m\u001b[0m\u001b[0m\n\u001b[0;32m--> 404\u001b[0;31m             \u001b[0;32mraise\u001b[0m \u001b[0mKeyError\u001b[0m\u001b[0;34m(\u001b[0m\u001b[0mkey\u001b[0m\u001b[0;34m)\u001b[0m\u001b[0;34m\u001b[0m\u001b[0;34m\u001b[0m\u001b[0m\n\u001b[0m\u001b[1;32m    405\u001b[0m \u001b[0;34m\u001b[0m\u001b[0m\n\u001b[1;32m    406\u001b[0m         \u001b[0;32mtry\u001b[0m\u001b[0;34m:\u001b[0m\u001b[0;34m\u001b[0m\u001b[0;34m\u001b[0m\u001b[0m\n",
      "\u001b[0;31mKeyError\u001b[0m: 'component'"
     ]
    }
   ],
   "source": [
    "TimeSeries.from_xarray(test[['hosp','rea']].to_array())"
   ]
  },
  {
   "cell_type": "code",
   "execution_count": 95,
   "metadata": {
    "ExecuteTime": {
     "end_time": "2021-08-27T13:51:40.028904Z",
     "start_time": "2021-08-27T13:51:40.025221Z"
    }
   },
   "outputs": [],
   "source": [
    "test = xr.merge([dataset, troll_dataset])"
   ]
  },
  {
   "cell_type": "code",
   "execution_count": 101,
   "metadata": {
    "ExecuteTime": {
     "end_time": "2021-08-27T13:58:45.227393Z",
     "start_time": "2021-08-27T13:58:45.189703Z"
    }
   },
   "outputs": [
    {
     "data": {
      "text/html": [
       "<div><svg style=\"position: absolute; width: 0; height: 0; overflow: hidden\">\n",
       "<defs>\n",
       "<symbol id=\"icon-database\" viewBox=\"0 0 32 32\">\n",
       "<path d=\"M16 0c-8.837 0-16 2.239-16 5v4c0 2.761 7.163 5 16 5s16-2.239 16-5v-4c0-2.761-7.163-5-16-5z\"></path>\n",
       "<path d=\"M16 17c-8.837 0-16-2.239-16-5v6c0 2.761 7.163 5 16 5s16-2.239 16-5v-6c0 2.761-7.163 5-16 5z\"></path>\n",
       "<path d=\"M16 26c-8.837 0-16-2.239-16-5v6c0 2.761 7.163 5 16 5s16-2.239 16-5v-6c0 2.761-7.163 5-16 5z\"></path>\n",
       "</symbol>\n",
       "<symbol id=\"icon-file-text2\" viewBox=\"0 0 32 32\">\n",
       "<path d=\"M28.681 7.159c-0.694-0.947-1.662-2.053-2.724-3.116s-2.169-2.030-3.116-2.724c-1.612-1.182-2.393-1.319-2.841-1.319h-15.5c-1.378 0-2.5 1.121-2.5 2.5v27c0 1.378 1.122 2.5 2.5 2.5h23c1.378 0 2.5-1.122 2.5-2.5v-19.5c0-0.448-0.137-1.23-1.319-2.841zM24.543 5.457c0.959 0.959 1.712 1.825 2.268 2.543h-4.811v-4.811c0.718 0.556 1.584 1.309 2.543 2.268zM28 29.5c0 0.271-0.229 0.5-0.5 0.5h-23c-0.271 0-0.5-0.229-0.5-0.5v-27c0-0.271 0.229-0.5 0.5-0.5 0 0 15.499-0 15.5 0v7c0 0.552 0.448 1 1 1h7v19.5z\"></path>\n",
       "<path d=\"M23 26h-14c-0.552 0-1-0.448-1-1s0.448-1 1-1h14c0.552 0 1 0.448 1 1s-0.448 1-1 1z\"></path>\n",
       "<path d=\"M23 22h-14c-0.552 0-1-0.448-1-1s0.448-1 1-1h14c0.552 0 1 0.448 1 1s-0.448 1-1 1z\"></path>\n",
       "<path d=\"M23 18h-14c-0.552 0-1-0.448-1-1s0.448-1 1-1h14c0.552 0 1 0.448 1 1s-0.448 1-1 1z\"></path>\n",
       "</symbol>\n",
       "</defs>\n",
       "</svg>\n",
       "<style>/* CSS stylesheet for displaying xarray objects in jupyterlab.\n",
       " *\n",
       " */\n",
       "\n",
       ":root {\n",
       "  --xr-font-color0: var(--jp-content-font-color0, rgba(0, 0, 0, 1));\n",
       "  --xr-font-color2: var(--jp-content-font-color2, rgba(0, 0, 0, 0.54));\n",
       "  --xr-font-color3: var(--jp-content-font-color3, rgba(0, 0, 0, 0.38));\n",
       "  --xr-border-color: var(--jp-border-color2, #e0e0e0);\n",
       "  --xr-disabled-color: var(--jp-layout-color3, #bdbdbd);\n",
       "  --xr-background-color: var(--jp-layout-color0, white);\n",
       "  --xr-background-color-row-even: var(--jp-layout-color1, white);\n",
       "  --xr-background-color-row-odd: var(--jp-layout-color2, #eeeeee);\n",
       "}\n",
       "\n",
       "html[theme=dark],\n",
       "body.vscode-dark {\n",
       "  --xr-font-color0: rgba(255, 255, 255, 1);\n",
       "  --xr-font-color2: rgba(255, 255, 255, 0.54);\n",
       "  --xr-font-color3: rgba(255, 255, 255, 0.38);\n",
       "  --xr-border-color: #1F1F1F;\n",
       "  --xr-disabled-color: #515151;\n",
       "  --xr-background-color: #111111;\n",
       "  --xr-background-color-row-even: #111111;\n",
       "  --xr-background-color-row-odd: #313131;\n",
       "}\n",
       "\n",
       ".xr-wrap {\n",
       "  display: block;\n",
       "  min-width: 300px;\n",
       "  max-width: 700px;\n",
       "}\n",
       "\n",
       ".xr-text-repr-fallback {\n",
       "  /* fallback to plain text repr when CSS is not injected (untrusted notebook) */\n",
       "  display: none;\n",
       "}\n",
       "\n",
       ".xr-header {\n",
       "  padding-top: 6px;\n",
       "  padding-bottom: 6px;\n",
       "  margin-bottom: 4px;\n",
       "  border-bottom: solid 1px var(--xr-border-color);\n",
       "}\n",
       "\n",
       ".xr-header > div,\n",
       ".xr-header > ul {\n",
       "  display: inline;\n",
       "  margin-top: 0;\n",
       "  margin-bottom: 0;\n",
       "}\n",
       "\n",
       ".xr-obj-type,\n",
       ".xr-array-name {\n",
       "  margin-left: 2px;\n",
       "  margin-right: 10px;\n",
       "}\n",
       "\n",
       ".xr-obj-type {\n",
       "  color: var(--xr-font-color2);\n",
       "}\n",
       "\n",
       ".xr-sections {\n",
       "  padding-left: 0 !important;\n",
       "  display: grid;\n",
       "  grid-template-columns: 150px auto auto 1fr 20px 20px;\n",
       "}\n",
       "\n",
       ".xr-section-item {\n",
       "  display: contents;\n",
       "}\n",
       "\n",
       ".xr-section-item input {\n",
       "  display: none;\n",
       "}\n",
       "\n",
       ".xr-section-item input + label {\n",
       "  color: var(--xr-disabled-color);\n",
       "}\n",
       "\n",
       ".xr-section-item input:enabled + label {\n",
       "  cursor: pointer;\n",
       "  color: var(--xr-font-color2);\n",
       "}\n",
       "\n",
       ".xr-section-item input:enabled + label:hover {\n",
       "  color: var(--xr-font-color0);\n",
       "}\n",
       "\n",
       ".xr-section-summary {\n",
       "  grid-column: 1;\n",
       "  color: var(--xr-font-color2);\n",
       "  font-weight: 500;\n",
       "}\n",
       "\n",
       ".xr-section-summary > span {\n",
       "  display: inline-block;\n",
       "  padding-left: 0.5em;\n",
       "}\n",
       "\n",
       ".xr-section-summary-in:disabled + label {\n",
       "  color: var(--xr-font-color2);\n",
       "}\n",
       "\n",
       ".xr-section-summary-in + label:before {\n",
       "  display: inline-block;\n",
       "  content: '►';\n",
       "  font-size: 11px;\n",
       "  width: 15px;\n",
       "  text-align: center;\n",
       "}\n",
       "\n",
       ".xr-section-summary-in:disabled + label:before {\n",
       "  color: var(--xr-disabled-color);\n",
       "}\n",
       "\n",
       ".xr-section-summary-in:checked + label:before {\n",
       "  content: '▼';\n",
       "}\n",
       "\n",
       ".xr-section-summary-in:checked + label > span {\n",
       "  display: none;\n",
       "}\n",
       "\n",
       ".xr-section-summary,\n",
       ".xr-section-inline-details {\n",
       "  padding-top: 4px;\n",
       "  padding-bottom: 4px;\n",
       "}\n",
       "\n",
       ".xr-section-inline-details {\n",
       "  grid-column: 2 / -1;\n",
       "}\n",
       "\n",
       ".xr-section-details {\n",
       "  display: none;\n",
       "  grid-column: 1 / -1;\n",
       "  margin-bottom: 5px;\n",
       "}\n",
       "\n",
       ".xr-section-summary-in:checked ~ .xr-section-details {\n",
       "  display: contents;\n",
       "}\n",
       "\n",
       ".xr-array-wrap {\n",
       "  grid-column: 1 / -1;\n",
       "  display: grid;\n",
       "  grid-template-columns: 20px auto;\n",
       "}\n",
       "\n",
       ".xr-array-wrap > label {\n",
       "  grid-column: 1;\n",
       "  vertical-align: top;\n",
       "}\n",
       "\n",
       ".xr-preview {\n",
       "  color: var(--xr-font-color3);\n",
       "}\n",
       "\n",
       ".xr-array-preview,\n",
       ".xr-array-data {\n",
       "  padding: 0 5px !important;\n",
       "  grid-column: 2;\n",
       "}\n",
       "\n",
       ".xr-array-data,\n",
       ".xr-array-in:checked ~ .xr-array-preview {\n",
       "  display: none;\n",
       "}\n",
       "\n",
       ".xr-array-in:checked ~ .xr-array-data,\n",
       ".xr-array-preview {\n",
       "  display: inline-block;\n",
       "}\n",
       "\n",
       ".xr-dim-list {\n",
       "  display: inline-block !important;\n",
       "  list-style: none;\n",
       "  padding: 0 !important;\n",
       "  margin: 0;\n",
       "}\n",
       "\n",
       ".xr-dim-list li {\n",
       "  display: inline-block;\n",
       "  padding: 0;\n",
       "  margin: 0;\n",
       "}\n",
       "\n",
       ".xr-dim-list:before {\n",
       "  content: '(';\n",
       "}\n",
       "\n",
       ".xr-dim-list:after {\n",
       "  content: ')';\n",
       "}\n",
       "\n",
       ".xr-dim-list li:not(:last-child):after {\n",
       "  content: ',';\n",
       "  padding-right: 5px;\n",
       "}\n",
       "\n",
       ".xr-has-index {\n",
       "  font-weight: bold;\n",
       "}\n",
       "\n",
       ".xr-var-list,\n",
       ".xr-var-item {\n",
       "  display: contents;\n",
       "}\n",
       "\n",
       ".xr-var-item > div,\n",
       ".xr-var-item label,\n",
       ".xr-var-item > .xr-var-name span {\n",
       "  background-color: var(--xr-background-color-row-even);\n",
       "  margin-bottom: 0;\n",
       "}\n",
       "\n",
       ".xr-var-item > .xr-var-name:hover span {\n",
       "  padding-right: 5px;\n",
       "}\n",
       "\n",
       ".xr-var-list > li:nth-child(odd) > div,\n",
       ".xr-var-list > li:nth-child(odd) > label,\n",
       ".xr-var-list > li:nth-child(odd) > .xr-var-name span {\n",
       "  background-color: var(--xr-background-color-row-odd);\n",
       "}\n",
       "\n",
       ".xr-var-name {\n",
       "  grid-column: 1;\n",
       "}\n",
       "\n",
       ".xr-var-dims {\n",
       "  grid-column: 2;\n",
       "}\n",
       "\n",
       ".xr-var-dtype {\n",
       "  grid-column: 3;\n",
       "  text-align: right;\n",
       "  color: var(--xr-font-color2);\n",
       "}\n",
       "\n",
       ".xr-var-preview {\n",
       "  grid-column: 4;\n",
       "}\n",
       "\n",
       ".xr-var-name,\n",
       ".xr-var-dims,\n",
       ".xr-var-dtype,\n",
       ".xr-preview,\n",
       ".xr-attrs dt {\n",
       "  white-space: nowrap;\n",
       "  overflow: hidden;\n",
       "  text-overflow: ellipsis;\n",
       "  padding-right: 10px;\n",
       "}\n",
       "\n",
       ".xr-var-name:hover,\n",
       ".xr-var-dims:hover,\n",
       ".xr-var-dtype:hover,\n",
       ".xr-attrs dt:hover {\n",
       "  overflow: visible;\n",
       "  width: auto;\n",
       "  z-index: 1;\n",
       "}\n",
       "\n",
       ".xr-var-attrs,\n",
       ".xr-var-data {\n",
       "  display: none;\n",
       "  background-color: var(--xr-background-color) !important;\n",
       "  padding-bottom: 5px !important;\n",
       "}\n",
       "\n",
       ".xr-var-attrs-in:checked ~ .xr-var-attrs,\n",
       ".xr-var-data-in:checked ~ .xr-var-data {\n",
       "  display: block;\n",
       "}\n",
       "\n",
       ".xr-var-data > table {\n",
       "  float: right;\n",
       "}\n",
       "\n",
       ".xr-var-name span,\n",
       ".xr-var-data,\n",
       ".xr-attrs {\n",
       "  padding-left: 25px !important;\n",
       "}\n",
       "\n",
       ".xr-attrs,\n",
       ".xr-var-attrs,\n",
       ".xr-var-data {\n",
       "  grid-column: 1 / -1;\n",
       "}\n",
       "\n",
       "dl.xr-attrs {\n",
       "  padding: 0;\n",
       "  margin: 0;\n",
       "  display: grid;\n",
       "  grid-template-columns: 125px auto;\n",
       "}\n",
       "\n",
       ".xr-attrs dt,\n",
       ".xr-attrs dd {\n",
       "  padding: 0;\n",
       "  margin: 0;\n",
       "  float: left;\n",
       "  padding-right: 10px;\n",
       "  width: auto;\n",
       "}\n",
       "\n",
       ".xr-attrs dt {\n",
       "  font-weight: normal;\n",
       "  grid-column: 1;\n",
       "}\n",
       "\n",
       ".xr-attrs dt:hover span {\n",
       "  display: inline-block;\n",
       "  background: var(--xr-background-color);\n",
       "  padding-right: 10px;\n",
       "}\n",
       "\n",
       ".xr-attrs dd {\n",
       "  grid-column: 2;\n",
       "  white-space: pre-wrap;\n",
       "  word-break: break-all;\n",
       "}\n",
       "\n",
       ".xr-icon-database,\n",
       ".xr-icon-file-text2 {\n",
       "  display: inline-block;\n",
       "  vertical-align: middle;\n",
       "  width: 1em;\n",
       "  height: 1.5em !important;\n",
       "  stroke-width: 0;\n",
       "  stroke: currentColor;\n",
       "  fill: currentColor;\n",
       "}\n",
       "</style><pre class='xr-text-repr-fallback'>&lt;xarray.Dataset&gt;\n",
       "Dimensions:        (time: 527, zone: 101)\n",
       "Coordinates:\n",
       "  * zone           (zone) object &#x27;01&#x27; &#x27;02&#x27; &#x27;03&#x27; &#x27;04&#x27; ... &#x27;972&#x27; &#x27;973&#x27; &#x27;974&#x27; &#x27;976&#x27;\n",
       "  * time           (time) datetime64[ns] 2020-03-18 2020-03-19 ... 2021-08-26\n",
       "Data variables: (12/22)\n",
       "    reg            (zone, time) int64 84 84 84 84 84 84 84 84 ... 6 6 6 6 6 6 6\n",
       "    lib_dep        (zone, time) object &#x27;Ain&#x27; &#x27;Ain&#x27; &#x27;Ain&#x27; ... &#x27;Mayotte&#x27; &#x27;Mayotte&#x27;\n",
       "    lib_reg        (zone, time) object &#x27;Auvergne et Rhône-Alpes&#x27; ... &#x27;Mayotte&#x27;\n",
       "    tx_pos         (zone, time) float64 nan nan nan nan ... 1.442 nan nan nan\n",
       "    tx_incid       (zone, time) float64 nan nan nan nan ... 27.19 nan nan nan\n",
       "    TO             (zone, time) float64 0.06261 0.1324 0.1556 ... 0.0 0.0 0.0\n",
       "    ...             ...\n",
       "    reg_incid_rea  (zone, time) float64 nan 44.0 16.0 15.0 ... 0.0 0.0 0.0 0.0\n",
       "    pos            (zone, time) float64 nan nan nan nan nan ... 24.0 nan nan nan\n",
       "    pos_7j         (zone, time) float64 nan nan nan nan nan ... 76.0 nan nan nan\n",
       "    cv_dose1       (zone, time) float64 nan nan nan nan nan ... nan nan 34.3 nan\n",
       "    dep            (zone) object &#x27;01&#x27; &#x27;02&#x27; &#x27;03&#x27; &#x27;04&#x27; ... &#x27;972&#x27; &#x27;973&#x27; &#x27;974&#x27; &#x27;976&#x27;\n",
       "    test_var       (zone) object &#x27;01&#x27; &#x27;01&#x27; &#x27;01&#x27; &#x27;01&#x27; ... &#x27;01&#x27; &#x27;01&#x27; &#x27;01&#x27; &#x27;01&#x27;</pre><div class='xr-wrap' hidden><div class='xr-header'><div class='xr-obj-type'>xarray.Dataset</div></div><ul class='xr-sections'><li class='xr-section-item'><input id='section-ed83560f-59d6-40a2-a6e6-d1f59dd0768f' class='xr-section-summary-in' type='checkbox' disabled ><label for='section-ed83560f-59d6-40a2-a6e6-d1f59dd0768f' class='xr-section-summary'  title='Expand/collapse section'>Dimensions:</label><div class='xr-section-inline-details'><ul class='xr-dim-list'><li><span class='xr-has-index'>time</span>: 527</li><li><span class='xr-has-index'>zone</span>: 101</li></ul></div><div class='xr-section-details'></div></li><li class='xr-section-item'><input id='section-b198467c-7d24-4fc8-b780-98fe53ed9595' class='xr-section-summary-in' type='checkbox'  checked><label for='section-b198467c-7d24-4fc8-b780-98fe53ed9595' class='xr-section-summary' >Coordinates: <span>(2)</span></label><div class='xr-section-inline-details'></div><div class='xr-section-details'><ul class='xr-var-list'><li class='xr-var-item'><div class='xr-var-name'><span class='xr-has-index'>zone</span></div><div class='xr-var-dims'>(zone)</div><div class='xr-var-dtype'>object</div><div class='xr-var-preview xr-preview'>&#x27;01&#x27; &#x27;02&#x27; &#x27;03&#x27; ... &#x27;974&#x27; &#x27;976&#x27;</div><input id='attrs-4a11364f-c684-4835-b099-9a264224cf58' class='xr-var-attrs-in' type='checkbox' disabled><label for='attrs-4a11364f-c684-4835-b099-9a264224cf58' title='Show/Hide attributes'><svg class='icon xr-icon-file-text2'><use xlink:href='#icon-file-text2'></use></svg></label><input id='data-94b2ae17-8f72-4f2d-995f-58cbbcf79c2f' class='xr-var-data-in' type='checkbox'><label for='data-94b2ae17-8f72-4f2d-995f-58cbbcf79c2f' title='Show/Hide data repr'><svg class='icon xr-icon-database'><use xlink:href='#icon-database'></use></svg></label><div class='xr-var-attrs'><dl class='xr-attrs'></dl></div><div class='xr-var-data'><pre>array([&#x27;01&#x27;, &#x27;02&#x27;, &#x27;03&#x27;, &#x27;04&#x27;, &#x27;05&#x27;, &#x27;06&#x27;, &#x27;07&#x27;, &#x27;08&#x27;, &#x27;09&#x27;, &#x27;10&#x27;, &#x27;11&#x27;, &#x27;12&#x27;,\n",
       "       &#x27;13&#x27;, &#x27;14&#x27;, &#x27;15&#x27;, &#x27;16&#x27;, &#x27;17&#x27;, &#x27;18&#x27;, &#x27;19&#x27;, &#x27;21&#x27;, &#x27;22&#x27;, &#x27;23&#x27;, &#x27;24&#x27;, &#x27;25&#x27;,\n",
       "       &#x27;26&#x27;, &#x27;27&#x27;, &#x27;28&#x27;, &#x27;29&#x27;, &#x27;2A&#x27;, &#x27;2B&#x27;, &#x27;30&#x27;, &#x27;31&#x27;, &#x27;32&#x27;, &#x27;33&#x27;, &#x27;34&#x27;, &#x27;35&#x27;,\n",
       "       &#x27;36&#x27;, &#x27;37&#x27;, &#x27;38&#x27;, &#x27;39&#x27;, &#x27;40&#x27;, &#x27;41&#x27;, &#x27;42&#x27;, &#x27;43&#x27;, &#x27;44&#x27;, &#x27;45&#x27;, &#x27;46&#x27;, &#x27;47&#x27;,\n",
       "       &#x27;48&#x27;, &#x27;49&#x27;, &#x27;50&#x27;, &#x27;51&#x27;, &#x27;52&#x27;, &#x27;53&#x27;, &#x27;54&#x27;, &#x27;55&#x27;, &#x27;56&#x27;, &#x27;57&#x27;, &#x27;58&#x27;, &#x27;59&#x27;,\n",
       "       &#x27;60&#x27;, &#x27;61&#x27;, &#x27;62&#x27;, &#x27;63&#x27;, &#x27;64&#x27;, &#x27;65&#x27;, &#x27;66&#x27;, &#x27;67&#x27;, &#x27;68&#x27;, &#x27;69&#x27;, &#x27;70&#x27;, &#x27;71&#x27;,\n",
       "       &#x27;72&#x27;, &#x27;73&#x27;, &#x27;74&#x27;, &#x27;75&#x27;, &#x27;76&#x27;, &#x27;77&#x27;, &#x27;78&#x27;, &#x27;79&#x27;, &#x27;80&#x27;, &#x27;81&#x27;, &#x27;82&#x27;, &#x27;83&#x27;,\n",
       "       &#x27;84&#x27;, &#x27;85&#x27;, &#x27;86&#x27;, &#x27;87&#x27;, &#x27;88&#x27;, &#x27;89&#x27;, &#x27;90&#x27;, &#x27;91&#x27;, &#x27;92&#x27;, &#x27;93&#x27;, &#x27;94&#x27;, &#x27;95&#x27;,\n",
       "       &#x27;971&#x27;, &#x27;972&#x27;, &#x27;973&#x27;, &#x27;974&#x27;, &#x27;976&#x27;], dtype=object)</pre></div></li><li class='xr-var-item'><div class='xr-var-name'><span class='xr-has-index'>time</span></div><div class='xr-var-dims'>(time)</div><div class='xr-var-dtype'>datetime64[ns]</div><div class='xr-var-preview xr-preview'>2020-03-18 ... 2021-08-26</div><input id='attrs-c11a54fb-b2e0-440b-a0f5-c15dd8f24226' class='xr-var-attrs-in' type='checkbox' disabled><label for='attrs-c11a54fb-b2e0-440b-a0f5-c15dd8f24226' title='Show/Hide attributes'><svg class='icon xr-icon-file-text2'><use xlink:href='#icon-file-text2'></use></svg></label><input id='data-44acbf78-a5c0-4730-b147-0d9be609412e' class='xr-var-data-in' type='checkbox'><label for='data-44acbf78-a5c0-4730-b147-0d9be609412e' title='Show/Hide data repr'><svg class='icon xr-icon-database'><use xlink:href='#icon-database'></use></svg></label><div class='xr-var-attrs'><dl class='xr-attrs'></dl></div><div class='xr-var-data'><pre>array([&#x27;2020-03-18T00:00:00.000000000&#x27;, &#x27;2020-03-19T00:00:00.000000000&#x27;,\n",
       "       &#x27;2020-03-20T00:00:00.000000000&#x27;, ..., &#x27;2021-08-24T00:00:00.000000000&#x27;,\n",
       "       &#x27;2021-08-25T00:00:00.000000000&#x27;, &#x27;2021-08-26T00:00:00.000000000&#x27;],\n",
       "      dtype=&#x27;datetime64[ns]&#x27;)</pre></div></li></ul></div></li><li class='xr-section-item'><input id='section-308b8931-2c65-4c40-a343-0fcd5ba43f6c' class='xr-section-summary-in' type='checkbox'  ><label for='section-308b8931-2c65-4c40-a343-0fcd5ba43f6c' class='xr-section-summary' >Data variables: <span>(22)</span></label><div class='xr-section-inline-details'></div><div class='xr-section-details'><ul class='xr-var-list'><li class='xr-var-item'><div class='xr-var-name'><span>reg</span></div><div class='xr-var-dims'>(zone, time)</div><div class='xr-var-dtype'>int64</div><div class='xr-var-preview xr-preview'>84 84 84 84 84 84 ... 6 6 6 6 6 6</div><input id='attrs-e4b6eca2-abf6-468f-9665-df054dec0899' class='xr-var-attrs-in' type='checkbox' disabled><label for='attrs-e4b6eca2-abf6-468f-9665-df054dec0899' title='Show/Hide attributes'><svg class='icon xr-icon-file-text2'><use xlink:href='#icon-file-text2'></use></svg></label><input id='data-b4f4b6db-36ee-4763-94c4-4a04ecd1efd4' class='xr-var-data-in' type='checkbox'><label for='data-b4f4b6db-36ee-4763-94c4-4a04ecd1efd4' title='Show/Hide data repr'><svg class='icon xr-icon-database'><use xlink:href='#icon-database'></use></svg></label><div class='xr-var-attrs'><dl class='xr-attrs'></dl></div><div class='xr-var-data'><pre>array([[84, 84, 84, ..., 84, 84, 84],\n",
       "       [32, 32, 32, ..., 32, 32, 32],\n",
       "       [84, 84, 84, ..., 84, 84, 84],\n",
       "       ...,\n",
       "       [ 3,  3,  3, ...,  3,  3,  3],\n",
       "       [ 4,  4,  4, ...,  4,  4,  4],\n",
       "       [ 6,  6,  6, ...,  6,  6,  6]])</pre></div></li><li class='xr-var-item'><div class='xr-var-name'><span>lib_dep</span></div><div class='xr-var-dims'>(zone, time)</div><div class='xr-var-dtype'>object</div><div class='xr-var-preview xr-preview'>&#x27;Ain&#x27; &#x27;Ain&#x27; ... &#x27;Mayotte&#x27; &#x27;Mayotte&#x27;</div><input id='attrs-68ce8490-b886-4657-82a4-d442b1632da7' class='xr-var-attrs-in' type='checkbox' disabled><label for='attrs-68ce8490-b886-4657-82a4-d442b1632da7' title='Show/Hide attributes'><svg class='icon xr-icon-file-text2'><use xlink:href='#icon-file-text2'></use></svg></label><input id='data-97d2fafe-5f5a-45c9-acd8-6272bd98fcbf' class='xr-var-data-in' type='checkbox'><label for='data-97d2fafe-5f5a-45c9-acd8-6272bd98fcbf' title='Show/Hide data repr'><svg class='icon xr-icon-database'><use xlink:href='#icon-database'></use></svg></label><div class='xr-var-attrs'><dl class='xr-attrs'></dl></div><div class='xr-var-data'><pre>array([[&#x27;Ain&#x27;, &#x27;Ain&#x27;, &#x27;Ain&#x27;, ..., &#x27;Ain&#x27;, &#x27;Ain&#x27;, &#x27;Ain&#x27;],\n",
       "       [&#x27;Aisne&#x27;, &#x27;Aisne&#x27;, &#x27;Aisne&#x27;, ..., &#x27;Aisne&#x27;, &#x27;Aisne&#x27;, &#x27;Aisne&#x27;],\n",
       "       [&#x27;Allier&#x27;, &#x27;Allier&#x27;, &#x27;Allier&#x27;, ..., &#x27;Allier&#x27;, &#x27;Allier&#x27;, &#x27;Allier&#x27;],\n",
       "       ...,\n",
       "       [&#x27;Guyane&#x27;, &#x27;Guyane&#x27;, &#x27;Guyane&#x27;, ..., &#x27;Guyane&#x27;, &#x27;Guyane&#x27;, &#x27;Guyane&#x27;],\n",
       "       [&#x27;Réunion&#x27;, &#x27;Réunion&#x27;, &#x27;Réunion&#x27;, ..., &#x27;Réunion&#x27;, &#x27;Réunion&#x27;,\n",
       "        &#x27;Réunion&#x27;],\n",
       "       [&#x27;Mayotte&#x27;, &#x27;Mayotte&#x27;, &#x27;Mayotte&#x27;, ..., &#x27;Mayotte&#x27;, &#x27;Mayotte&#x27;,\n",
       "        &#x27;Mayotte&#x27;]], dtype=object)</pre></div></li><li class='xr-var-item'><div class='xr-var-name'><span>lib_reg</span></div><div class='xr-var-dims'>(zone, time)</div><div class='xr-var-dtype'>object</div><div class='xr-var-preview xr-preview'>&#x27;Auvergne et Rhône-Alpes&#x27; ... &#x27;M...</div><input id='attrs-4d053e76-a17f-4df8-8aef-7edb2897e6dd' class='xr-var-attrs-in' type='checkbox' disabled><label for='attrs-4d053e76-a17f-4df8-8aef-7edb2897e6dd' title='Show/Hide attributes'><svg class='icon xr-icon-file-text2'><use xlink:href='#icon-file-text2'></use></svg></label><input id='data-bb64e104-4202-4419-9a5b-f2f2ab49e7c5' class='xr-var-data-in' type='checkbox'><label for='data-bb64e104-4202-4419-9a5b-f2f2ab49e7c5' title='Show/Hide data repr'><svg class='icon xr-icon-database'><use xlink:href='#icon-database'></use></svg></label><div class='xr-var-attrs'><dl class='xr-attrs'></dl></div><div class='xr-var-data'><pre>array([[&#x27;Auvergne et Rhône-Alpes&#x27;, &#x27;Auvergne et Rhône-Alpes&#x27;,\n",
       "        &#x27;Auvergne et Rhône-Alpes&#x27;, ..., &#x27;Auvergne et Rhône-Alpes&#x27;,\n",
       "        &#x27;Auvergne et Rhône-Alpes&#x27;, &#x27;Auvergne et Rhône-Alpes&#x27;],\n",
       "       [&#x27;Hauts-de-France&#x27;, &#x27;Hauts-de-France&#x27;, &#x27;Hauts-de-France&#x27;, ...,\n",
       "        &#x27;Hauts-de-France&#x27;, &#x27;Hauts-de-France&#x27;, &#x27;Hauts-de-France&#x27;],\n",
       "       [&#x27;Auvergne et Rhône-Alpes&#x27;, &#x27;Auvergne et Rhône-Alpes&#x27;,\n",
       "        &#x27;Auvergne et Rhône-Alpes&#x27;, ..., &#x27;Auvergne et Rhône-Alpes&#x27;,\n",
       "        &#x27;Auvergne et Rhône-Alpes&#x27;, &#x27;Auvergne et Rhône-Alpes&#x27;],\n",
       "       ...,\n",
       "       [&#x27;Guyane&#x27;, &#x27;Guyane&#x27;, &#x27;Guyane&#x27;, ..., &#x27;Guyane&#x27;, &#x27;Guyane&#x27;, &#x27;Guyane&#x27;],\n",
       "       [&#x27;Réunion&#x27;, &#x27;Réunion&#x27;, &#x27;Réunion&#x27;, ..., &#x27;Réunion&#x27;, &#x27;Réunion&#x27;,\n",
       "        &#x27;Réunion&#x27;],\n",
       "       [&#x27;Mayotte&#x27;, &#x27;Mayotte&#x27;, &#x27;Mayotte&#x27;, ..., &#x27;Mayotte&#x27;, &#x27;Mayotte&#x27;,\n",
       "        &#x27;Mayotte&#x27;]], dtype=object)</pre></div></li><li class='xr-var-item'><div class='xr-var-name'><span>tx_pos</span></div><div class='xr-var-dims'>(zone, time)</div><div class='xr-var-dtype'>float64</div><div class='xr-var-preview xr-preview'>nan nan nan nan ... nan nan nan</div><input id='attrs-341fb0ae-3b4c-4aed-8095-b8a9f1104188' class='xr-var-attrs-in' type='checkbox' disabled><label for='attrs-341fb0ae-3b4c-4aed-8095-b8a9f1104188' title='Show/Hide attributes'><svg class='icon xr-icon-file-text2'><use xlink:href='#icon-file-text2'></use></svg></label><input id='data-9c8995d9-1714-4b0a-8360-578a098eea47' class='xr-var-data-in' type='checkbox'><label for='data-9c8995d9-1714-4b0a-8360-578a098eea47' title='Show/Hide data repr'><svg class='icon xr-icon-database'><use xlink:href='#icon-database'></use></svg></label><div class='xr-var-attrs'><dl class='xr-attrs'></dl></div><div class='xr-var-data'><pre>array([[nan, nan, nan, ..., nan, nan, nan],\n",
       "       [nan, nan, nan, ..., nan, nan, nan],\n",
       "       [nan, nan, nan, ..., nan, nan, nan],\n",
       "       ...,\n",
       "       [nan, nan, nan, ..., nan, nan, nan],\n",
       "       [nan, nan, nan, ..., nan, nan, nan],\n",
       "       [nan, nan, nan, ..., nan, nan, nan]])</pre></div></li><li class='xr-var-item'><div class='xr-var-name'><span>tx_incid</span></div><div class='xr-var-dims'>(zone, time)</div><div class='xr-var-dtype'>float64</div><div class='xr-var-preview xr-preview'>nan nan nan nan ... nan nan nan</div><input id='attrs-4b6ac0fd-e12f-492f-a3a4-9d540f8fb93a' class='xr-var-attrs-in' type='checkbox' disabled><label for='attrs-4b6ac0fd-e12f-492f-a3a4-9d540f8fb93a' title='Show/Hide attributes'><svg class='icon xr-icon-file-text2'><use xlink:href='#icon-file-text2'></use></svg></label><input id='data-be28821e-6146-4d1a-a169-6fb8f09161cf' class='xr-var-data-in' type='checkbox'><label for='data-be28821e-6146-4d1a-a169-6fb8f09161cf' title='Show/Hide data repr'><svg class='icon xr-icon-database'><use xlink:href='#icon-database'></use></svg></label><div class='xr-var-attrs'><dl class='xr-attrs'></dl></div><div class='xr-var-data'><pre>array([[nan, nan, nan, ..., nan, nan, nan],\n",
       "       [nan, nan, nan, ..., nan, nan, nan],\n",
       "       [nan, nan, nan, ..., nan, nan, nan],\n",
       "       ...,\n",
       "       [nan, nan, nan, ..., nan, nan, nan],\n",
       "       [nan, nan, nan, ..., nan, nan, nan],\n",
       "       [nan, nan, nan, ..., nan, nan, nan]])</pre></div></li><li class='xr-var-item'><div class='xr-var-name'><span>TO</span></div><div class='xr-var-dims'>(zone, time)</div><div class='xr-var-dtype'>float64</div><div class='xr-var-preview xr-preview'>0.06261 0.1324 0.1556 ... 0.0 0.0</div><input id='attrs-97d7626e-cefd-481b-aaf4-fcc488acc214' class='xr-var-attrs-in' type='checkbox' disabled><label for='attrs-97d7626e-cefd-481b-aaf4-fcc488acc214' title='Show/Hide attributes'><svg class='icon xr-icon-file-text2'><use xlink:href='#icon-file-text2'></use></svg></label><input id='data-5963763b-6f51-41f3-8597-675ce4cb39ef' class='xr-var-data-in' type='checkbox'><label for='data-5963763b-6f51-41f3-8597-675ce4cb39ef' title='Show/Hide data repr'><svg class='icon xr-icon-database'><use xlink:href='#icon-database'></use></svg></label><div class='xr-var-attrs'><dl class='xr-attrs'></dl></div><div class='xr-var-data'><pre>array([[0.06261181, 0.13237925, 0.15563506, ..., 0.37030411, 0.36493739,\n",
       "        0.38461538],\n",
       "       [0.19863014, 0.26484018, 0.31050228, ..., 0.32420091, 0.34474886,\n",
       "        0.35388128],\n",
       "       [0.06261181, 0.13237925, 0.15563506, ..., 0.37030411, 0.36493739,\n",
       "        0.38461538],\n",
       "       ...,\n",
       "       [0.        , 0.        , 0.        , ..., 2.        , 1.84615385,\n",
       "        1.69230769],\n",
       "       [0.03846154, 0.03846154, 0.03846154, ..., 0.84615385, 0.82692308,\n",
       "        0.84615385],\n",
       "       [0.        , 0.        , 0.        , ..., 0.        , 0.        ,\n",
       "        0.        ]])</pre></div></li><li class='xr-var-item'><div class='xr-var-name'><span>R</span></div><div class='xr-var-dims'>(zone, time)</div><div class='xr-var-dtype'>float64</div><div class='xr-var-preview xr-preview'>nan nan nan nan ... nan nan nan nan</div><input id='attrs-13fcf99c-76fb-4463-807e-44f97c70e6b7' class='xr-var-attrs-in' type='checkbox' disabled><label for='attrs-13fcf99c-76fb-4463-807e-44f97c70e6b7' title='Show/Hide attributes'><svg class='icon xr-icon-file-text2'><use xlink:href='#icon-file-text2'></use></svg></label><input id='data-5b19dfde-f6e5-4dc9-8d79-7ec73167c7f0' class='xr-var-data-in' type='checkbox'><label for='data-5b19dfde-f6e5-4dc9-8d79-7ec73167c7f0' title='Show/Hide data repr'><svg class='icon xr-icon-database'><use xlink:href='#icon-database'></use></svg></label><div class='xr-var-attrs'><dl class='xr-attrs'></dl></div><div class='xr-var-data'><pre>array([[nan, nan, nan, ..., nan, nan, nan],\n",
       "       [nan, nan, nan, ..., nan, nan, nan],\n",
       "       [nan, nan, nan, ..., nan, nan, nan],\n",
       "       ...,\n",
       "       [nan, nan, nan, ..., nan, nan, nan],\n",
       "       [nan, nan, nan, ..., nan, nan, nan],\n",
       "       [nan, nan, nan, ..., nan, nan, nan]])</pre></div></li><li class='xr-var-item'><div class='xr-var-name'><span>hosp</span></div><div class='xr-var-dims'>(zone, time)</div><div class='xr-var-dtype'>int64</div><div class='xr-var-preview xr-preview'>2 2 2 4 8 17 22 ... 1 1 1 1 1 1 1</div><input id='attrs-c1bd327a-d6ef-49ae-9d66-374eb0b06be5' class='xr-var-attrs-in' type='checkbox' disabled><label for='attrs-c1bd327a-d6ef-49ae-9d66-374eb0b06be5' title='Show/Hide attributes'><svg class='icon xr-icon-file-text2'><use xlink:href='#icon-file-text2'></use></svg></label><input id='data-32667c1f-9e0a-4c9b-b448-171d1e387260' class='xr-var-data-in' type='checkbox'><label for='data-32667c1f-9e0a-4c9b-b448-171d1e387260' title='Show/Hide data repr'><svg class='icon xr-icon-database'><use xlink:href='#icon-database'></use></svg></label><div class='xr-var-attrs'><dl class='xr-attrs'></dl></div><div class='xr-var-data'><pre>array([[  2,   2,   2, ...,  75,  77,  79],\n",
       "       [ 41,  43,  52, ...,  48,  48,  45],\n",
       "       [  4,   0,   1, ...,  24,  26,  26],\n",
       "       ...,\n",
       "       [  0,   0,   0, ...,  88,  89,  87],\n",
       "       [  2,   2,   2, ..., 187, 185, 185],\n",
       "       [  0,   0,   0, ...,   1,   1,   1]])</pre></div></li><li class='xr-var-item'><div class='xr-var-name'><span>rea</span></div><div class='xr-var-dims'>(zone, time)</div><div class='xr-var-dtype'>int64</div><div class='xr-var-preview xr-preview'>0 0 0 0 1 3 3 6 ... 0 0 0 0 0 0 0 0</div><input id='attrs-536bbc3a-ef50-4f2b-9926-8f5bb36a80fc' class='xr-var-attrs-in' type='checkbox' disabled><label for='attrs-536bbc3a-ef50-4f2b-9926-8f5bb36a80fc' title='Show/Hide attributes'><svg class='icon xr-icon-file-text2'><use xlink:href='#icon-file-text2'></use></svg></label><input id='data-306b24dd-46f7-44cf-82bc-36b5474df821' class='xr-var-data-in' type='checkbox'><label for='data-306b24dd-46f7-44cf-82bc-36b5474df821' title='Show/Hide data repr'><svg class='icon xr-icon-database'><use xlink:href='#icon-database'></use></svg></label><div class='xr-var-attrs'><dl class='xr-attrs'></dl></div><div class='xr-var-data'><pre>array([[ 0,  0,  0, ...,  9,  9,  9],\n",
       "       [10, 15, 19, ..., 10, 12, 11],\n",
       "       [ 0,  0,  0, ...,  2,  2,  2],\n",
       "       ...,\n",
       "       [ 0,  0,  0, ..., 26, 24, 22],\n",
       "       [ 2,  2,  2, ..., 44, 43, 44],\n",
       "       [ 0,  0,  0, ...,  0,  0,  0]])</pre></div></li><li class='xr-var-item'><div class='xr-var-name'><span>rad</span></div><div class='xr-var-dims'>(zone, time)</div><div class='xr-var-dtype'>int64</div><div class='xr-var-preview xr-preview'>1 1 1 1 2 ... 1275 1275 1275 1276</div><input id='attrs-ca7256e7-c68e-4642-b106-aedce24940bb' class='xr-var-attrs-in' type='checkbox' disabled><label for='attrs-ca7256e7-c68e-4642-b106-aedce24940bb' title='Show/Hide attributes'><svg class='icon xr-icon-file-text2'><use xlink:href='#icon-file-text2'></use></svg></label><input id='data-2cf1f9aa-d6d5-45a5-bd0a-492dd6ea2eb4' class='xr-var-data-in' type='checkbox'><label for='data-2cf1f9aa-d6d5-45a5-bd0a-492dd6ea2eb4' title='Show/Hide data repr'><svg class='icon xr-icon-database'><use xlink:href='#icon-database'></use></svg></label><div class='xr-var-attrs'><dl class='xr-attrs'></dl></div><div class='xr-var-data'><pre>array([[   1,    1,    1, ..., 2957, 2961, 2961],\n",
       "       [  18,   33,   40, ..., 4416, 4418, 4421],\n",
       "       [   1,    7,   10, ..., 2233, 2237, 2238],\n",
       "       ...,\n",
       "       [   0,    0,    0, ..., 3478, 3485, 3494],\n",
       "       [   0,    0,    0, ..., 2645, 2659, 2672],\n",
       "       [   0,    0,    0, ..., 1275, 1275, 1276]])</pre></div></li><li class='xr-var-item'><div class='xr-var-name'><span>dchosp</span></div><div class='xr-var-dims'>(zone, time)</div><div class='xr-var-dtype'>int64</div><div class='xr-var-preview xr-preview'>0 0 0 0 0 0 ... 132 132 132 132 132</div><input id='attrs-13d993f7-f940-4cd1-9bb5-705847eee11c' class='xr-var-attrs-in' type='checkbox' disabled><label for='attrs-13d993f7-f940-4cd1-9bb5-705847eee11c' title='Show/Hide attributes'><svg class='icon xr-icon-file-text2'><use xlink:href='#icon-file-text2'></use></svg></label><input id='data-dcd0affd-c3e8-45ad-ab7d-ebdf6a278b61' class='xr-var-data-in' type='checkbox'><label for='data-dcd0affd-c3e8-45ad-ab7d-ebdf6a278b61' title='Show/Hide data repr'><svg class='icon xr-icon-database'><use xlink:href='#icon-database'></use></svg></label><div class='xr-var-attrs'><dl class='xr-attrs'></dl></div><div class='xr-var-data'><pre>array([[   0,    0,    0, ...,  628,  628,  628],\n",
       "       [  11,   19,   24, ..., 1123, 1123, 1124],\n",
       "       [   0,    0,    0, ...,  594,  594,  595],\n",
       "       ...,\n",
       "       [   0,    0,    0, ...,  201,  202,  206],\n",
       "       [   0,    0,    0, ...,  338,  339,  340],\n",
       "       [   0,    0,    0, ...,  132,  132,  132]])</pre></div></li><li class='xr-var-item'><div class='xr-var-name'><span>reg_rea</span></div><div class='xr-var-dims'>(zone, time)</div><div class='xr-var-dtype'>int64</div><div class='xr-var-preview xr-preview'>35 79 87 88 106 157 ... 0 0 0 0 0 0</div><input id='attrs-4c14eafd-58a2-4fe3-adf5-29d680936faa' class='xr-var-attrs-in' type='checkbox' disabled><label for='attrs-4c14eafd-58a2-4fe3-adf5-29d680936faa' title='Show/Hide attributes'><svg class='icon xr-icon-file-text2'><use xlink:href='#icon-file-text2'></use></svg></label><input id='data-416ebfa8-0228-4914-8cbc-b5cf22e2f131' class='xr-var-data-in' type='checkbox'><label for='data-416ebfa8-0228-4914-8cbc-b5cf22e2f131' title='Show/Hide data repr'><svg class='icon xr-icon-database'><use xlink:href='#icon-database'></use></svg></label><div class='xr-var-attrs'><dl class='xr-attrs'></dl></div><div class='xr-var-data'><pre>array([[ 35,  79,  87, ..., 207, 204, 215],\n",
       "       [ 87, 105, 136, ..., 142, 151, 155],\n",
       "       [ 35,  79,  87, ..., 207, 204, 215],\n",
       "       ...,\n",
       "       [  0,   0,   0, ...,  26,  24,  22],\n",
       "       [  2,   2,   2, ...,  44,  43,  44],\n",
       "       [  0,   0,   0, ...,   0,   0,   0]])</pre></div></li><li class='xr-var-item'><div class='xr-var-name'><span>incid_hosp</span></div><div class='xr-var-dims'>(zone, time)</div><div class='xr-var-dtype'>float64</div><div class='xr-var-preview xr-preview'>nan 1.0 0.0 3.0 ... 0.0 0.0 0.0 1.0</div><input id='attrs-d6559f34-25bc-4ec4-bc85-14678d555384' class='xr-var-attrs-in' type='checkbox' disabled><label for='attrs-d6559f34-25bc-4ec4-bc85-14678d555384' title='Show/Hide attributes'><svg class='icon xr-icon-file-text2'><use xlink:href='#icon-file-text2'></use></svg></label><input id='data-2bd43f64-0573-495a-a5ec-9c119e78af9a' class='xr-var-data-in' type='checkbox'><label for='data-2bd43f64-0573-495a-a5ec-9c119e78af9a' title='Show/Hide data repr'><svg class='icon xr-icon-database'><use xlink:href='#icon-database'></use></svg></label><div class='xr-var-attrs'><dl class='xr-attrs'></dl></div><div class='xr-var-data'><pre>array([[nan,  1.,  0., ...,  7.,  7.,  2.],\n",
       "       [nan, 38., 10., ..., 14.,  2.,  1.],\n",
       "       [nan,  2.,  4., ..., 11.,  0.,  2.],\n",
       "       ...,\n",
       "       [nan,  0.,  0., ...,  8.,  9., 12.],\n",
       "       [nan,  0.,  0., ..., 16., 12., 14.],\n",
       "       [nan,  0.,  0., ...,  0.,  0.,  1.]])</pre></div></li><li class='xr-var-item'><div class='xr-var-name'><span>incid_rea</span></div><div class='xr-var-dims'>(zone, time)</div><div class='xr-var-dtype'>float64</div><div class='xr-var-preview xr-preview'>nan 0.0 0.0 0.0 ... 0.0 0.0 0.0 0.0</div><input id='attrs-a15f3755-d0e3-4a89-90a7-f266c1d667d7' class='xr-var-attrs-in' type='checkbox' disabled><label for='attrs-a15f3755-d0e3-4a89-90a7-f266c1d667d7' title='Show/Hide attributes'><svg class='icon xr-icon-file-text2'><use xlink:href='#icon-file-text2'></use></svg></label><input id='data-432afc8e-ab68-42f2-9786-6ed96ca869a2' class='xr-var-data-in' type='checkbox'><label for='data-432afc8e-ab68-42f2-9786-6ed96ca869a2' title='Show/Hide data repr'><svg class='icon xr-icon-database'><use xlink:href='#icon-database'></use></svg></label><div class='xr-var-attrs'><dl class='xr-attrs'></dl></div><div class='xr-var-data'><pre>array([[nan,  0.,  0., ...,  1.,  0.,  1.],\n",
       "       [nan,  8.,  3., ...,  3.,  2.,  1.],\n",
       "       [nan,  0.,  0., ...,  0.,  0.,  0.],\n",
       "       ...,\n",
       "       [nan,  0.,  0., ...,  3.,  1.,  1.],\n",
       "       [nan,  0.,  0., ...,  4.,  2.,  1.],\n",
       "       [nan,  0.,  0., ...,  0.,  0.,  0.]])</pre></div></li><li class='xr-var-item'><div class='xr-var-name'><span>incid_rad</span></div><div class='xr-var-dims'>(zone, time)</div><div class='xr-var-dtype'>float64</div><div class='xr-var-preview xr-preview'>nan 0.0 1.0 0.0 ... 0.0 0.0 0.0 1.0</div><input id='attrs-fedd8a12-33f9-41bf-a13d-7f24e1b79f0d' class='xr-var-attrs-in' type='checkbox' disabled><label for='attrs-fedd8a12-33f9-41bf-a13d-7f24e1b79f0d' title='Show/Hide attributes'><svg class='icon xr-icon-file-text2'><use xlink:href='#icon-file-text2'></use></svg></label><input id='data-a66b4d7a-08a4-4b1e-a8fa-ff1615f7cd91' class='xr-var-data-in' type='checkbox'><label for='data-a66b4d7a-08a4-4b1e-a8fa-ff1615f7cd91' title='Show/Hide data repr'><svg class='icon xr-icon-database'><use xlink:href='#icon-database'></use></svg></label><div class='xr-var-attrs'><dl class='xr-attrs'></dl></div><div class='xr-var-data'><pre>array([[nan,  0.,  1., ...,  8.,  5.,  1.],\n",
       "       [nan, 15.,  9., ...,  1.,  2.,  3.],\n",
       "       [nan,  6.,  3., ...,  9.,  4.,  1.],\n",
       "       ...,\n",
       "       [nan,  0.,  0., ...,  8.,  8., 10.],\n",
       "       [nan,  0.,  0., ..., 17., 13., 14.],\n",
       "       [nan,  0.,  0., ...,  0.,  0.,  1.]])</pre></div></li><li class='xr-var-item'><div class='xr-var-name'><span>incid_dchosp</span></div><div class='xr-var-dims'>(zone, time)</div><div class='xr-var-dtype'>float64</div><div class='xr-var-preview xr-preview'>nan 0.0 0.0 0.0 ... 0.0 0.0 0.0 0.0</div><input id='attrs-538883b2-7e54-48a5-82cb-0eca4eb5e3b6' class='xr-var-attrs-in' type='checkbox' disabled><label for='attrs-538883b2-7e54-48a5-82cb-0eca4eb5e3b6' title='Show/Hide attributes'><svg class='icon xr-icon-file-text2'><use xlink:href='#icon-file-text2'></use></svg></label><input id='data-9f1f2ae0-6b23-48b5-bc09-765e04284170' class='xr-var-data-in' type='checkbox'><label for='data-9f1f2ae0-6b23-48b5-bc09-765e04284170' title='Show/Hide data repr'><svg class='icon xr-icon-database'><use xlink:href='#icon-database'></use></svg></label><div class='xr-var-attrs'><dl class='xr-attrs'></dl></div><div class='xr-var-data'><pre>array([[nan,  0.,  0., ...,  0.,  0.,  0.],\n",
       "       [nan, 10.,  3., ...,  2.,  0.,  1.],\n",
       "       [nan,  0.,  0., ...,  0.,  0.,  1.],\n",
       "       ...,\n",
       "       [nan,  0.,  0., ...,  2.,  1.,  4.],\n",
       "       [nan,  0.,  0., ...,  2.,  1.,  1.],\n",
       "       [nan,  0.,  0., ...,  0.,  0.,  0.]])</pre></div></li><li class='xr-var-item'><div class='xr-var-name'><span>reg_incid_rea</span></div><div class='xr-var-dims'>(zone, time)</div><div class='xr-var-dtype'>float64</div><div class='xr-var-preview xr-preview'>nan 44.0 16.0 15.0 ... 0.0 0.0 0.0</div><input id='attrs-83a927f8-fbf5-4b81-9489-18717840a275' class='xr-var-attrs-in' type='checkbox' disabled><label for='attrs-83a927f8-fbf5-4b81-9489-18717840a275' title='Show/Hide attributes'><svg class='icon xr-icon-file-text2'><use xlink:href='#icon-file-text2'></use></svg></label><input id='data-d0b36002-679b-4b34-be15-b9158c9268fe' class='xr-var-data-in' type='checkbox'><label for='data-d0b36002-679b-4b34-be15-b9158c9268fe' title='Show/Hide data repr'><svg class='icon xr-icon-database'><use xlink:href='#icon-database'></use></svg></label><div class='xr-var-attrs'><dl class='xr-attrs'></dl></div><div class='xr-var-data'><pre>array([[nan, 44., 16., ..., 27., 18., 28.],\n",
       "       [nan, 37., 35., ..., 20., 21., 11.],\n",
       "       [nan, 44., 16., ..., 27., 18., 28.],\n",
       "       ...,\n",
       "       [nan,  0.,  0., ...,  3.,  1.,  1.],\n",
       "       [nan,  0.,  0., ...,  4.,  2.,  1.],\n",
       "       [nan,  0.,  0., ...,  0.,  0.,  0.]])</pre></div></li><li class='xr-var-item'><div class='xr-var-name'><span>pos</span></div><div class='xr-var-dims'>(zone, time)</div><div class='xr-var-dtype'>float64</div><div class='xr-var-preview xr-preview'>nan nan nan nan ... nan nan nan</div><input id='attrs-cf4b8baa-4331-431c-b5c7-a28d84aaea40' class='xr-var-attrs-in' type='checkbox' disabled><label for='attrs-cf4b8baa-4331-431c-b5c7-a28d84aaea40' title='Show/Hide attributes'><svg class='icon xr-icon-file-text2'><use xlink:href='#icon-file-text2'></use></svg></label><input id='data-e8ef514a-372f-44a8-88e3-daf3fdcfcadc' class='xr-var-data-in' type='checkbox'><label for='data-e8ef514a-372f-44a8-88e3-daf3fdcfcadc' title='Show/Hide data repr'><svg class='icon xr-icon-database'><use xlink:href='#icon-database'></use></svg></label><div class='xr-var-attrs'><dl class='xr-attrs'></dl></div><div class='xr-var-data'><pre>array([[nan, nan, nan, ..., nan, nan, nan],\n",
       "       [nan, nan, nan, ..., nan, nan, nan],\n",
       "       [nan, nan, nan, ..., nan, nan, nan],\n",
       "       ...,\n",
       "       [nan, nan, nan, ..., nan, nan, nan],\n",
       "       [nan, nan, nan, ..., nan, nan, nan],\n",
       "       [nan, nan, nan, ..., nan, nan, nan]])</pre></div></li><li class='xr-var-item'><div class='xr-var-name'><span>pos_7j</span></div><div class='xr-var-dims'>(zone, time)</div><div class='xr-var-dtype'>float64</div><div class='xr-var-preview xr-preview'>nan nan nan nan ... nan nan nan</div><input id='attrs-c520b097-f7e9-442a-b161-d9f4a5ee9642' class='xr-var-attrs-in' type='checkbox' disabled><label for='attrs-c520b097-f7e9-442a-b161-d9f4a5ee9642' title='Show/Hide attributes'><svg class='icon xr-icon-file-text2'><use xlink:href='#icon-file-text2'></use></svg></label><input id='data-c05ddd2c-f72d-416b-aa6b-0e54c2058483' class='xr-var-data-in' type='checkbox'><label for='data-c05ddd2c-f72d-416b-aa6b-0e54c2058483' title='Show/Hide data repr'><svg class='icon xr-icon-database'><use xlink:href='#icon-database'></use></svg></label><div class='xr-var-attrs'><dl class='xr-attrs'></dl></div><div class='xr-var-data'><pre>array([[nan, nan, nan, ..., nan, nan, nan],\n",
       "       [nan, nan, nan, ..., nan, nan, nan],\n",
       "       [nan, nan, nan, ..., nan, nan, nan],\n",
       "       ...,\n",
       "       [nan, nan, nan, ..., nan, nan, nan],\n",
       "       [nan, nan, nan, ..., nan, nan, nan],\n",
       "       [nan, nan, nan, ..., nan, nan, nan]])</pre></div></li><li class='xr-var-item'><div class='xr-var-name'><span>cv_dose1</span></div><div class='xr-var-dims'>(zone, time)</div><div class='xr-var-dtype'>float64</div><div class='xr-var-preview xr-preview'>nan nan nan nan ... nan 34.3 nan</div><input id='attrs-dfab4a9e-7398-4591-8734-1ac0f43681fe' class='xr-var-attrs-in' type='checkbox' disabled><label for='attrs-dfab4a9e-7398-4591-8734-1ac0f43681fe' title='Show/Hide attributes'><svg class='icon xr-icon-file-text2'><use xlink:href='#icon-file-text2'></use></svg></label><input id='data-5d761b55-a003-4301-9152-2ca4681c6efd' class='xr-var-data-in' type='checkbox'><label for='data-5d761b55-a003-4301-9152-2ca4681c6efd' title='Show/Hide data repr'><svg class='icon xr-icon-database'><use xlink:href='#icon-database'></use></svg></label><div class='xr-var-attrs'><dl class='xr-attrs'></dl></div><div class='xr-var-data'><pre>array([[ nan,  nan,  nan, ...,  nan, 59.2,  nan],\n",
       "       [ nan,  nan,  nan, ...,  nan, 69.2,  nan],\n",
       "       [ nan,  nan,  nan, ...,  nan, 81.3,  nan],\n",
       "       ...,\n",
       "       [ nan,  nan,  nan, ...,  nan, 24.4,  nan],\n",
       "       [ nan,  nan,  nan, ...,  nan, 50.7,  nan],\n",
       "       [ nan,  nan,  nan, ...,  nan, 34.3,  nan]])</pre></div></li><li class='xr-var-item'><div class='xr-var-name'><span>dep</span></div><div class='xr-var-dims'>(zone)</div><div class='xr-var-dtype'>object</div><div class='xr-var-preview xr-preview'>&#x27;01&#x27; &#x27;02&#x27; &#x27;03&#x27; ... &#x27;974&#x27; &#x27;976&#x27;</div><input id='attrs-1166aad3-c36a-458b-8c47-d8ad240e740a' class='xr-var-attrs-in' type='checkbox' disabled><label for='attrs-1166aad3-c36a-458b-8c47-d8ad240e740a' title='Show/Hide attributes'><svg class='icon xr-icon-file-text2'><use xlink:href='#icon-file-text2'></use></svg></label><input id='data-d21f7367-d9a9-4f3f-af25-e1a106edc469' class='xr-var-data-in' type='checkbox'><label for='data-d21f7367-d9a9-4f3f-af25-e1a106edc469' title='Show/Hide data repr'><svg class='icon xr-icon-database'><use xlink:href='#icon-database'></use></svg></label><div class='xr-var-attrs'><dl class='xr-attrs'></dl></div><div class='xr-var-data'><pre>array([&#x27;01&#x27;, &#x27;02&#x27;, &#x27;03&#x27;, &#x27;04&#x27;, &#x27;05&#x27;, &#x27;06&#x27;, &#x27;07&#x27;, &#x27;08&#x27;, &#x27;09&#x27;, &#x27;10&#x27;, &#x27;11&#x27;,\n",
       "       &#x27;12&#x27;, &#x27;13&#x27;, &#x27;14&#x27;, &#x27;15&#x27;, &#x27;16&#x27;, &#x27;17&#x27;, &#x27;18&#x27;, &#x27;19&#x27;, &#x27;21&#x27;, &#x27;22&#x27;, &#x27;23&#x27;,\n",
       "       &#x27;24&#x27;, &#x27;25&#x27;, &#x27;26&#x27;, &#x27;27&#x27;, &#x27;28&#x27;, &#x27;29&#x27;, &#x27;2A&#x27;, &#x27;2B&#x27;, &#x27;30&#x27;, &#x27;31&#x27;, &#x27;32&#x27;,\n",
       "       &#x27;33&#x27;, &#x27;34&#x27;, &#x27;35&#x27;, &#x27;36&#x27;, &#x27;37&#x27;, &#x27;38&#x27;, &#x27;39&#x27;, &#x27;40&#x27;, &#x27;41&#x27;, &#x27;42&#x27;, &#x27;43&#x27;,\n",
       "       &#x27;44&#x27;, &#x27;45&#x27;, &#x27;46&#x27;, &#x27;47&#x27;, &#x27;48&#x27;, &#x27;49&#x27;, &#x27;50&#x27;, &#x27;51&#x27;, &#x27;52&#x27;, &#x27;53&#x27;, &#x27;54&#x27;,\n",
       "       &#x27;55&#x27;, &#x27;56&#x27;, &#x27;57&#x27;, &#x27;58&#x27;, &#x27;59&#x27;, &#x27;60&#x27;, &#x27;61&#x27;, &#x27;62&#x27;, &#x27;63&#x27;, &#x27;64&#x27;, &#x27;65&#x27;,\n",
       "       &#x27;66&#x27;, &#x27;67&#x27;, &#x27;68&#x27;, &#x27;69&#x27;, &#x27;70&#x27;, &#x27;71&#x27;, &#x27;72&#x27;, &#x27;73&#x27;, &#x27;74&#x27;, &#x27;75&#x27;, &#x27;76&#x27;,\n",
       "       &#x27;77&#x27;, &#x27;78&#x27;, &#x27;79&#x27;, &#x27;80&#x27;, &#x27;81&#x27;, &#x27;82&#x27;, &#x27;83&#x27;, &#x27;84&#x27;, &#x27;85&#x27;, &#x27;86&#x27;, &#x27;87&#x27;,\n",
       "       &#x27;88&#x27;, &#x27;89&#x27;, &#x27;90&#x27;, &#x27;91&#x27;, &#x27;92&#x27;, &#x27;93&#x27;, &#x27;94&#x27;, &#x27;95&#x27;, &#x27;971&#x27;, &#x27;972&#x27;,\n",
       "       &#x27;973&#x27;, &#x27;974&#x27;, &#x27;976&#x27;], dtype=object)</pre></div></li><li class='xr-var-item'><div class='xr-var-name'><span>test_var</span></div><div class='xr-var-dims'>(zone)</div><div class='xr-var-dtype'>object</div><div class='xr-var-preview xr-preview'>&#x27;01&#x27; &#x27;01&#x27; &#x27;01&#x27; ... &#x27;01&#x27; &#x27;01&#x27; &#x27;01&#x27;</div><input id='attrs-b69ae5cc-77c4-4b48-8ff7-96b7d80031b8' class='xr-var-attrs-in' type='checkbox' disabled><label for='attrs-b69ae5cc-77c4-4b48-8ff7-96b7d80031b8' title='Show/Hide attributes'><svg class='icon xr-icon-file-text2'><use xlink:href='#icon-file-text2'></use></svg></label><input id='data-884038d2-0c20-45ba-8d52-920e770e583a' class='xr-var-data-in' type='checkbox'><label for='data-884038d2-0c20-45ba-8d52-920e770e583a' title='Show/Hide data repr'><svg class='icon xr-icon-database'><use xlink:href='#icon-database'></use></svg></label><div class='xr-var-attrs'><dl class='xr-attrs'></dl></div><div class='xr-var-data'><pre>array([&#x27;01&#x27;, &#x27;01&#x27;, &#x27;01&#x27;, &#x27;01&#x27;, &#x27;01&#x27;, &#x27;01&#x27;, &#x27;01&#x27;, &#x27;01&#x27;, &#x27;01&#x27;, &#x27;01&#x27;, &#x27;01&#x27;,\n",
       "       &#x27;01&#x27;, &#x27;01&#x27;, &#x27;01&#x27;, &#x27;01&#x27;, &#x27;01&#x27;, &#x27;01&#x27;, &#x27;01&#x27;, &#x27;01&#x27;, &#x27;01&#x27;, &#x27;01&#x27;, &#x27;01&#x27;,\n",
       "       &#x27;01&#x27;, &#x27;01&#x27;, &#x27;01&#x27;, &#x27;01&#x27;, &#x27;01&#x27;, &#x27;01&#x27;, &#x27;01&#x27;, &#x27;01&#x27;, &#x27;01&#x27;, &#x27;01&#x27;, &#x27;01&#x27;,\n",
       "       &#x27;01&#x27;, &#x27;01&#x27;, &#x27;01&#x27;, &#x27;01&#x27;, &#x27;01&#x27;, &#x27;01&#x27;, &#x27;01&#x27;, &#x27;01&#x27;, &#x27;01&#x27;, &#x27;01&#x27;, &#x27;01&#x27;,\n",
       "       &#x27;01&#x27;, &#x27;01&#x27;, &#x27;01&#x27;, &#x27;01&#x27;, &#x27;01&#x27;, &#x27;01&#x27;, &#x27;01&#x27;, &#x27;01&#x27;, &#x27;01&#x27;, &#x27;01&#x27;, &#x27;01&#x27;,\n",
       "       &#x27;01&#x27;, &#x27;01&#x27;, &#x27;01&#x27;, &#x27;01&#x27;, &#x27;01&#x27;, &#x27;01&#x27;, &#x27;01&#x27;, &#x27;01&#x27;, &#x27;01&#x27;, &#x27;01&#x27;, &#x27;01&#x27;,\n",
       "       &#x27;01&#x27;, &#x27;01&#x27;, &#x27;01&#x27;, &#x27;01&#x27;, &#x27;01&#x27;, &#x27;01&#x27;, &#x27;01&#x27;, &#x27;01&#x27;, &#x27;01&#x27;, &#x27;01&#x27;, &#x27;01&#x27;,\n",
       "       &#x27;01&#x27;, &#x27;01&#x27;, &#x27;01&#x27;, &#x27;01&#x27;, &#x27;01&#x27;, &#x27;01&#x27;, &#x27;01&#x27;, &#x27;01&#x27;, &#x27;01&#x27;, &#x27;01&#x27;, &#x27;01&#x27;,\n",
       "       &#x27;01&#x27;, &#x27;01&#x27;, &#x27;01&#x27;, &#x27;01&#x27;, &#x27;01&#x27;, &#x27;01&#x27;, &#x27;01&#x27;, &#x27;01&#x27;, &#x27;01&#x27;, &#x27;01&#x27;, &#x27;01&#x27;,\n",
       "       &#x27;01&#x27;, &#x27;01&#x27;], dtype=object)</pre></div></li></ul></div></li><li class='xr-section-item'><input id='section-62df688f-71e8-4818-bb80-dcbd9e6d5a72' class='xr-section-summary-in' type='checkbox' disabled ><label for='section-62df688f-71e8-4818-bb80-dcbd9e6d5a72' class='xr-section-summary'  title='Expand/collapse section'>Attributes: <span>(0)</span></label><div class='xr-section-inline-details'></div><div class='xr-section-details'><dl class='xr-attrs'></dl></div></li></ul></div></div>"
      ],
      "text/plain": [
       "<xarray.Dataset>\n",
       "Dimensions:        (time: 527, zone: 101)\n",
       "Coordinates:\n",
       "  * zone           (zone) object '01' '02' '03' '04' ... '972' '973' '974' '976'\n",
       "  * time           (time) datetime64[ns] 2020-03-18 2020-03-19 ... 2021-08-26\n",
       "Data variables: (12/22)\n",
       "    reg            (zone, time) int64 84 84 84 84 84 84 84 84 ... 6 6 6 6 6 6 6\n",
       "    lib_dep        (zone, time) object 'Ain' 'Ain' 'Ain' ... 'Mayotte' 'Mayotte'\n",
       "    lib_reg        (zone, time) object 'Auvergne et Rhône-Alpes' ... 'Mayotte'\n",
       "    tx_pos         (zone, time) float64 nan nan nan nan ... 1.442 nan nan nan\n",
       "    tx_incid       (zone, time) float64 nan nan nan nan ... 27.19 nan nan nan\n",
       "    TO             (zone, time) float64 0.06261 0.1324 0.1556 ... 0.0 0.0 0.0\n",
       "    ...             ...\n",
       "    reg_incid_rea  (zone, time) float64 nan 44.0 16.0 15.0 ... 0.0 0.0 0.0 0.0\n",
       "    pos            (zone, time) float64 nan nan nan nan nan ... 24.0 nan nan nan\n",
       "    pos_7j         (zone, time) float64 nan nan nan nan nan ... 76.0 nan nan nan\n",
       "    cv_dose1       (zone, time) float64 nan nan nan nan nan ... nan nan 34.3 nan\n",
       "    dep            (zone) object '01' '02' '03' '04' ... '972' '973' '974' '976'\n",
       "    test_var       (zone) object '01' '01' '01' '01' ... '01' '01' '01' '01'"
      ]
     },
     "execution_count": 101,
     "metadata": {},
     "output_type": "execute_result"
    }
   ],
   "source": [
    "test"
   ]
  },
  {
   "cell_type": "markdown",
   "metadata": {},
   "source": [
    "Cross-validation strategy\n",
    "----------"
   ]
  },
  {
   "cell_type": "markdown",
   "metadata": {},
   "source": [
    "Stratégie de validation croisée spatio-temporelle avec, prévision de *n* data_leakage=*l*, avec *k* fold temporels et fenêtre temporelle = (*start*, *end*) "
   ]
  },
  {
   "cell_type": "markdown",
   "metadata": {},
   "source": [
    "   - Pour chaque zone=*département* (100-fold)\n",
    "   - Pour chaque moment=*timestamp* (k-fold)\n"
   ]
  },
  {
   "cell_type": "markdown",
   "metadata": {
    "ExecuteTime": {
     "end_time": "2021-08-27T09:04:34.873014Z",
     "start_time": "2021-08-27T09:04:34.852494Z"
    }
   },
   "source": [
    "   X = dataset[\\\n",
    "       zone = *zone*-département,\\\n",
    "       time = *start* -> min(*timestamp*+l+n, *end*)\\\n",
    "   ] + dataset[\\\n",
    "       zone = *département\\\n",
    "       time = start* -> *timestamp*"
   ]
  },
  {
   "cell_type": "markdown",
   "metadata": {},
   "source": [
    "y = dataset[\n",
    "    zone = département\n",
    "    time = timestamp+1 -> timestamp + n"
   ]
  },
  {
   "cell_type": "markdown",
   "metadata": {},
   "source": [
    "Prenons un exemple de fold avec une prévision n=7, data_leakage l=2, et une fenêtre temporelle de '2020-03-18' -> '2021-03-18', et 5-fold temporal cv"
   ]
  },
  {
   "cell_type": "code",
   "execution_count": 113,
   "metadata": {
    "ExecuteTime": {
     "end_time": "2021-08-27T14:10:08.780738Z",
     "start_time": "2021-08-27T14:10:08.776641Z"
    }
   },
   "outputs": [
    {
     "data": {
      "application/javascript": [
       "\n",
       "        if (window._pyforest_update_imports_cell) { window._pyforest_update_imports_cell('import numpy as np\\nimport pandas as pd'); }\n",
       "    "
      ],
      "text/plain": [
       "<IPython.core.display.Javascript object>"
      ]
     },
     "metadata": {},
     "output_type": "display_data"
    }
   ],
   "source": [
    "random_deps = np.random.choice(dataset.zone, size=5, replace=False)\n",
    "start = '2020-03-18'\n",
    "end = '2021-03-18'"
   ]
  },
  {
   "cell_type": "code",
   "execution_count": 119,
   "metadata": {
    "ExecuteTime": {
     "end_time": "2021-08-27T15:35:09.227879Z",
     "start_time": "2021-08-27T15:35:07.363563Z"
    }
   },
   "outputs": [
    {
     "data": {
      "application/javascript": [
       "\n",
       "        if (window._pyforest_update_imports_cell) { window._pyforest_update_imports_cell('from tensorflow.keras import Sequential\\nimport numpy as np\\nimport optuna\\nimport pandas as pd'); }\n",
       "    "
      ],
      "text/plain": [
       "<IPython.core.display.Javascript object>"
      ]
     },
     "metadata": {},
     "output_type": "display_data"
    },
    {
     "name": "stderr",
     "output_type": "stream",
     "text": [
      "\u001b[32m[I 2021-08-27 17:35:09,223]\u001b[0m A new study created in memory with name: no-name-5297bf93-77cc-44bb-a96f-622cfa8b02ef\u001b[0m\n"
     ]
    }
   ],
   "source": [
    "study = optuna.create_study()"
   ]
  },
  {
   "cell_type": "code",
   "execution_count": 118,
   "metadata": {
    "ExecuteTime": {
     "end_time": "2021-08-27T15:34:24.667234Z",
     "start_time": "2021-08-27T15:34:24.657220Z"
    }
   },
   "outputs": [
    {
     "ename": "SyntaxError",
     "evalue": "unexpected EOF while parsing (849666168.py, line 3)",
     "output_type": "error",
     "traceback": [
      "\u001b[0;36m  File \u001b[0;32m\"/tmp/ipykernel_46553/849666168.py\"\u001b[0;36m, line \u001b[0;32m3\u001b[0m\n\u001b[0;31m    ]\u001b[0m\n\u001b[0m     ^\u001b[0m\n\u001b[0;31mSyntaxError\u001b[0m\u001b[0;31m:\u001b[0m unexpected EOF while parsing\n"
     ]
    }
   ],
   "source": [
    "model = Sequential([\n",
    "    Dense(2, activation='Relu'),\n",
    "]"
   ]
  },
  {
   "cell_type": "code",
   "execution_count": 61,
   "metadata": {
    "ExecuteTime": {
     "end_time": "2021-08-27T09:33:15.297701Z",
     "start_time": "2021-08-27T09:33:15.003867Z"
    }
   },
   "outputs": [
    {
     "data": {
      "image/png": "[encoded data removed]",
      "text/plain": [
       "<Figure size 432x288 with 1 Axes>"
      ]
     },
     "metadata": {
      "needs_background": "light"
     },
     "output_type": "display_data"
    }
   ],
   "source": [
    "dataset['hosp'].sel(dep=random_deps).plot.line(x='date');"
   ]
  },
  {
   "cell_type": "code",
   "execution_count": 116,
   "metadata": {
    "ExecuteTime": {
     "end_time": "2021-08-27T14:10:42.083650Z",
     "start_time": "2021-08-27T14:10:41.950720Z"
    }
   },
   "outputs": [
    {
     "ename": "ValueError",
     "evalue": "x must be one of None, 'time', 'zone'",
     "output_type": "error",
     "traceback": [
      "\u001b[0;31m---------------------------------------------------------------------------\u001b[0m",
      "\u001b[0;31mValueError\u001b[0m                                Traceback (most recent call last)",
      "\u001b[0;32m/tmp/ipykernel_46553/3404136625.py\u001b[0m in \u001b[0;36m<module>\u001b[0;34m\u001b[0m\n\u001b[1;32m      1\u001b[0m (\n\u001b[0;32m----> 2\u001b[0;31m \u001b[0mdataset\u001b[0m\u001b[0;34m[\u001b[0m\u001b[0;34m'hosp'\u001b[0m\u001b[0;34m]\u001b[0m\u001b[0;34m\u001b[0m\u001b[0;34m\u001b[0m\u001b[0m\n\u001b[0m\u001b[1;32m      3\u001b[0m      \u001b[0;34m.\u001b[0m\u001b[0msel\u001b[0m\u001b[0;34m(\u001b[0m\u001b[0mzone\u001b[0m\u001b[0;34m=\u001b[0m\u001b[0mrandom_deps\u001b[0m\u001b[0;34m,\u001b[0m \u001b[0mtime\u001b[0m\u001b[0;34m=\u001b[0m\u001b[0mpd\u001b[0m\u001b[0;34m.\u001b[0m\u001b[0mdate_range\u001b[0m\u001b[0;34m(\u001b[0m\u001b[0;34m'2020-03-20'\u001b[0m\u001b[0;34m,\u001b[0m \u001b[0;34m'2021-03-20'\u001b[0m\u001b[0;34m)\u001b[0m\u001b[0;34m)\u001b[0m\u001b[0;34m\u001b[0m\u001b[0;34m\u001b[0m\u001b[0m\n\u001b[1;32m      4\u001b[0m      \u001b[0;34m.\u001b[0m\u001b[0mplot\u001b[0m\u001b[0;34m.\u001b[0m\u001b[0mline\u001b[0m\u001b[0;34m(\u001b[0m\u001b[0mx\u001b[0m\u001b[0;34m=\u001b[0m\u001b[0;34m'date'\u001b[0m\u001b[0;34m)\u001b[0m\u001b[0;34m\u001b[0m\u001b[0;34m\u001b[0m\u001b[0m\n\u001b[1;32m      5\u001b[0m );\n",
      "\u001b[0;32m~/.local/lib/python3.9/site-packages/xarray/plot/plot.py\u001b[0m in \u001b[0;36mline\u001b[0;34m(self, *args, **kwargs)\u001b[0m\n\u001b[1;32m    463\u001b[0m     \u001b[0;34m@\u001b[0m\u001b[0mfunctools\u001b[0m\u001b[0;34m.\u001b[0m\u001b[0mwraps\u001b[0m\u001b[0;34m(\u001b[0m\u001b[0mline\u001b[0m\u001b[0;34m)\u001b[0m\u001b[0;34m\u001b[0m\u001b[0;34m\u001b[0m\u001b[0m\n\u001b[1;32m    464\u001b[0m     \u001b[0;32mdef\u001b[0m \u001b[0mline\u001b[0m\u001b[0;34m(\u001b[0m\u001b[0mself\u001b[0m\u001b[0;34m,\u001b[0m \u001b[0;34m*\u001b[0m\u001b[0margs\u001b[0m\u001b[0;34m,\u001b[0m \u001b[0;34m**\u001b[0m\u001b[0mkwargs\u001b[0m\u001b[0;34m)\u001b[0m\u001b[0;34m:\u001b[0m\u001b[0;34m\u001b[0m\u001b[0;34m\u001b[0m\u001b[0m\n\u001b[0;32m--> 465\u001b[0;31m         \u001b[0;32mreturn\u001b[0m \u001b[0mline\u001b[0m\u001b[0;34m(\u001b[0m\u001b[0mself\u001b[0m\u001b[0;34m.\u001b[0m\u001b[0m_da\u001b[0m\u001b[0;34m,\u001b[0m \u001b[0;34m*\u001b[0m\u001b[0margs\u001b[0m\u001b[0;34m,\u001b[0m \u001b[0;34m**\u001b[0m\u001b[0mkwargs\u001b[0m\u001b[0;34m)\u001b[0m\u001b[0;34m\u001b[0m\u001b[0;34m\u001b[0m\u001b[0m\n\u001b[0m\u001b[1;32m    466\u001b[0m \u001b[0;34m\u001b[0m\u001b[0m\n\u001b[1;32m    467\u001b[0m     \u001b[0;34m@\u001b[0m\u001b[0mfunctools\u001b[0m\u001b[0;34m.\u001b[0m\u001b[0mwraps\u001b[0m\u001b[0;34m(\u001b[0m\u001b[0mstep\u001b[0m\u001b[0;34m)\u001b[0m\u001b[0;34m\u001b[0m\u001b[0;34m\u001b[0m\u001b[0m\n",
      "\u001b[0;32m~/.local/lib/python3.9/site-packages/xarray/plot/plot.py\u001b[0m in \u001b[0;36mline\u001b[0;34m(darray, row, col, figsize, aspect, size, ax, hue, x, y, xincrease, yincrease, xscale, yscale, xticks, yticks, xlim, ylim, add_legend, _labels, *args, **kwargs)\u001b[0m\n\u001b[1;32m    298\u001b[0m \u001b[0;34m\u001b[0m\u001b[0m\n\u001b[1;32m    299\u001b[0m     \u001b[0max\u001b[0m \u001b[0;34m=\u001b[0m \u001b[0mget_axis\u001b[0m\u001b[0;34m(\u001b[0m\u001b[0mfigsize\u001b[0m\u001b[0;34m,\u001b[0m \u001b[0msize\u001b[0m\u001b[0;34m,\u001b[0m \u001b[0maspect\u001b[0m\u001b[0;34m,\u001b[0m \u001b[0max\u001b[0m\u001b[0;34m)\u001b[0m\u001b[0;34m\u001b[0m\u001b[0;34m\u001b[0m\u001b[0m\n\u001b[0;32m--> 300\u001b[0;31m     \u001b[0mxplt\u001b[0m\u001b[0;34m,\u001b[0m \u001b[0myplt\u001b[0m\u001b[0;34m,\u001b[0m \u001b[0mhueplt\u001b[0m\u001b[0;34m,\u001b[0m \u001b[0mhue_label\u001b[0m \u001b[0;34m=\u001b[0m \u001b[0m_infer_line_data\u001b[0m\u001b[0;34m(\u001b[0m\u001b[0mdarray\u001b[0m\u001b[0;34m,\u001b[0m \u001b[0mx\u001b[0m\u001b[0;34m,\u001b[0m \u001b[0my\u001b[0m\u001b[0;34m,\u001b[0m \u001b[0mhue\u001b[0m\u001b[0;34m)\u001b[0m\u001b[0;34m\u001b[0m\u001b[0;34m\u001b[0m\u001b[0m\n\u001b[0m\u001b[1;32m    301\u001b[0m \u001b[0;34m\u001b[0m\u001b[0m\n\u001b[1;32m    302\u001b[0m     \u001b[0;31m# Remove pd.Intervals if contained in xplt.values and/or yplt.values.\u001b[0m\u001b[0;34m\u001b[0m\u001b[0;34m\u001b[0m\u001b[0;34m\u001b[0m\u001b[0m\n",
      "\u001b[0;32m~/.local/lib/python3.9/site-packages/xarray/plot/plot.py\u001b[0m in \u001b[0;36m_infer_line_data\u001b[0;34m(darray, x, y, hue)\u001b[0m\n\u001b[1;32m     38\u001b[0m \u001b[0;34m\u001b[0m\u001b[0m\n\u001b[1;32m     39\u001b[0m     \u001b[0;32mif\u001b[0m \u001b[0mx\u001b[0m \u001b[0;32mis\u001b[0m \u001b[0;32mnot\u001b[0m \u001b[0;32mNone\u001b[0m\u001b[0;34m:\u001b[0m\u001b[0;34m\u001b[0m\u001b[0;34m\u001b[0m\u001b[0m\n\u001b[0;32m---> 40\u001b[0;31m         \u001b[0m_assert_valid_xy\u001b[0m\u001b[0;34m(\u001b[0m\u001b[0mdarray\u001b[0m\u001b[0;34m,\u001b[0m \u001b[0mx\u001b[0m\u001b[0;34m,\u001b[0m \u001b[0;34m\"x\"\u001b[0m\u001b[0;34m)\u001b[0m\u001b[0;34m\u001b[0m\u001b[0;34m\u001b[0m\u001b[0m\n\u001b[0m\u001b[1;32m     41\u001b[0m \u001b[0;34m\u001b[0m\u001b[0m\n\u001b[1;32m     42\u001b[0m     \u001b[0;32mif\u001b[0m \u001b[0my\u001b[0m \u001b[0;32mis\u001b[0m \u001b[0;32mnot\u001b[0m \u001b[0;32mNone\u001b[0m\u001b[0;34m:\u001b[0m\u001b[0;34m\u001b[0m\u001b[0;34m\u001b[0m\u001b[0m\n",
      "\u001b[0;32m~/.local/lib/python3.9/site-packages/xarray/plot/utils.py\u001b[0m in \u001b[0;36m_assert_valid_xy\u001b[0;34m(darray, xy, name)\u001b[0m\n\u001b[1;32m    411\u001b[0m     \u001b[0;32mif\u001b[0m \u001b[0mxy\u001b[0m \u001b[0;32mnot\u001b[0m \u001b[0;32min\u001b[0m \u001b[0mvalid_xy\u001b[0m\u001b[0;34m:\u001b[0m\u001b[0;34m\u001b[0m\u001b[0;34m\u001b[0m\u001b[0m\n\u001b[1;32m    412\u001b[0m         \u001b[0mvalid_xy_str\u001b[0m \u001b[0;34m=\u001b[0m \u001b[0;34m\"', '\"\u001b[0m\u001b[0;34m.\u001b[0m\u001b[0mjoin\u001b[0m\u001b[0;34m(\u001b[0m\u001b[0msorted\u001b[0m\u001b[0;34m(\u001b[0m\u001b[0mvalid_xy\u001b[0m\u001b[0;34m)\u001b[0m\u001b[0;34m)\u001b[0m\u001b[0;34m\u001b[0m\u001b[0;34m\u001b[0m\u001b[0m\n\u001b[0;32m--> 413\u001b[0;31m         \u001b[0;32mraise\u001b[0m \u001b[0mValueError\u001b[0m\u001b[0;34m(\u001b[0m\u001b[0;34mf\"{name} must be one of None, '{valid_xy_str}'\"\u001b[0m\u001b[0;34m)\u001b[0m\u001b[0;34m\u001b[0m\u001b[0;34m\u001b[0m\u001b[0m\n\u001b[0m\u001b[1;32m    414\u001b[0m \u001b[0;34m\u001b[0m\u001b[0m\n\u001b[1;32m    415\u001b[0m \u001b[0;34m\u001b[0m\u001b[0m\n",
      "\u001b[0;31mValueError\u001b[0m: x must be one of None, 'time', 'zone'"
     ]
    },
    {
     "data": {
      "image/png": "[encoded data removed]",
      "text/plain": [
       "<Figure size 432x288 with 1 Axes>"
      ]
     },
     "metadata": {
      "needs_background": "light"
     },
     "output_type": "display_data"
    }
   ],
   "source": [
    "(\n",
    "dataset['hosp']\n",
    "     .sel(zone=random_deps, time=pd.date_range('2020-03-20', '2021-03-20'))\n",
    "     .plot.line(x='date')\n",
    ");"
   ]
  },
  {
   "cell_type": "code",
   "execution_count": null,
   "metadata": {},
   "outputs": [],
   "source": []
  },
  {
   "cell_type": "markdown",
   "metadata": {
    "heading_collapsed": true
   },
   "source": [
    "## Garbage"
   ]
  },
  {
   "cell_type": "code",
   "execution_count": null,
   "metadata": {
    "ExecuteTime": {
     "end_time": "2021-08-26T12:45:28.155213Z",
     "start_time": "2021-08-26T12:45:28.155180Z"
    },
    "hidden": true
   },
   "outputs": [],
   "source": [
    "ts['hosp_dep'].plot()"
   ]
  },
  {
   "cell_type": "code",
   "execution_count": null,
   "metadata": {
    "ExecuteTime": {
     "end_time": "2021-08-26T12:45:28.158347Z",
     "start_time": "2021-08-26T12:45:28.158293Z"
    },
    "hidden": true
   },
   "outputs": [],
   "source": [
    "ts = from_csv(link, cat_cols=['dep'], time_col='date', value_cols='hosp')\n",
    "ts"
   ]
  },
  {
   "cell_type": "code",
   "execution_count": null,
   "metadata": {
    "ExecuteTime": {
     "end_time": "2021-08-26T12:45:28.161303Z",
     "start_time": "2021-08-26T12:45:28.161256Z"
    },
    "hidden": true
   },
   "outputs": [],
   "source": [
    "ts"
   ]
  },
  {
   "cell_type": "code",
   "execution_count": null,
   "metadata": {
    "ExecuteTime": {
     "end_time": "2021-08-26T12:45:28.164894Z",
     "start_time": "2021-08-26T12:45:28.164839Z"
    },
    "hidden": true
   },
   "outputs": [],
   "source": [
    "ts"
   ]
  },
  {
   "cell_type": "code",
   "execution_count": null,
   "metadata": {
    "ExecuteTime": {
     "end_time": "2021-08-26T12:45:28.168541Z",
     "start_time": "2021-08-26T12:45:28.168489Z"
    },
    "hidden": true
   },
   "outputs": [],
   "source": [
    "covid_df.query(' & '.join([f'{cat}==\"{value}\"' for cat, value in zip(['dep', 'lib_dep'], ['01', 'Ain'])]))"
   ]
  },
  {
   "cell_type": "code",
   "execution_count": null,
   "metadata": {
    "ExecuteTime": {
     "end_time": "2021-08-26T12:45:28.171447Z",
     "start_time": "2021-08-26T12:45:28.171414Z"
    },
    "hidden": true
   },
   "outputs": [],
   "source": [
    "time_col='date'\n",
    "if time_col:\n",
    "    datetime_series = pd.to_datetime(df[time_col])\n",
    "    datetime_index = pd.DatetimeIndex(datetime_series.values)\n",
    "    df = df.set_index(datetime_index)\n",
    "    df.drop(time_col, axis=1, inplace=True)"
   ]
  },
  {
   "cell_type": "code",
   "execution_count": null,
   "metadata": {
    "ExecuteTime": {
     "end_time": "2021-08-26T12:45:28.173724Z",
     "start_time": "2021-08-26T12:45:28.173691Z"
    },
    "hidden": true
   },
   "outputs": [],
   "source": [
    "categories = itertools.product(*['dep', 'lib_dep'])\n",
    "for x in categories:\n",
    "    print(str(x))"
   ]
  },
  {
   "cell_type": "code",
   "execution_count": null,
   "metadata": {
    "ExecuteTime": {
     "end_time": "2021-08-26T12:45:28.176594Z",
     "start_time": "2021-08-26T12:45:28.176533Z"
    },
    "hidden": true
   },
   "outputs": [],
   "source": [
    "cat_cols = ['lib_dep']\n",
    "value_cols = ['hosp']\n",
    "categories = itertools.product(*[df[cat].unique() for cat in cat_cols])\n",
    "d = {f'{col}_{\"_\".join([x for x in cat])}': \n",
    "     df.query(' & '.join([f'{cat_name}==\"{cat_value}\"'\n",
    "                            for cat_name, cat_value in zip(cat_cols, [x for x in cat])\n",
    "                            ])\n",
    "     )[col]\n",
    "    for cat in categories\n",
    "    for col in value_cols\n",
    "}\n",
    "pd.DataFrame(d)"
   ]
  },
  {
   "cell_type": "code",
   "execution_count": null,
   "metadata": {
    "ExecuteTime": {
     "end_time": "2021-08-26T12:45:28.180351Z",
     "start_time": "2021-08-26T12:45:28.180286Z"
    },
    "hidden": true
   },
   "outputs": [],
   "source": [
    "from egbz.utils import *"
   ]
  },
  {
   "cell_type": "code",
   "execution_count": null,
   "metadata": {
    "ExecuteTime": {
     "end_time": "2021-08-26T12:45:28.183407Z",
     "start_time": "2021-08-26T12:45:28.183319Z"
    },
    "hidden": true
   },
   "outputs": [],
   "source": [
    "plt.plot([1, 2 ,3]);"
   ]
  },
  {
   "cell_type": "code",
   "execution_count": null,
   "metadata": {
    "ExecuteTime": {
     "end_time": "2021-08-26T12:45:28.186960Z",
     "start_time": "2021-08-26T12:45:28.186904Z"
    },
    "hidden": true
   },
   "outputs": [],
   "source": [
    "df = df.query('dep==\"01\" | dep==\"02\"')"
   ]
  },
  {
   "cell_type": "code",
   "execution_count": null,
   "metadata": {
    "ExecuteTime": {
     "end_time": "2021-08-26T12:45:28.189314Z",
     "start_time": "2021-08-26T12:45:28.189276Z"
    },
    "hidden": true
   },
   "outputs": [],
   "source": [
    "ts = from_df(df, cat_cols=['dep', 'lib_dep'], time_col='date', value_cols=['hosp', 'rea'])"
   ]
  },
  {
   "cell_type": "code",
   "execution_count": null,
   "metadata": {
    "ExecuteTime": {
     "end_time": "2021-08-26T12:45:28.191668Z",
     "start_time": "2021-08-26T12:45:28.191616Z"
    },
    "hidden": true
   },
   "outputs": [],
   "source": [
    "ts.plot()"
   ]
  },
  {
   "cell_type": "code",
   "execution_count": null,
   "metadata": {
    "ExecuteTime": {
     "end_time": "2021-08-26T12:45:28.194928Z",
     "start_time": "2021-08-26T12:45:28.194891Z"
    },
    "hidden": true
   },
   "outputs": [],
   "source": [
    "import itertools\n",
    "\n",
    "for x in itertools.product(*[df[cat].unique() for cat in ['dep', 'lib_dep']]):\n",
    "    '_'.join([str(y) for y in x])"
   ]
  },
  {
   "cell_type": "code",
   "execution_count": null,
   "metadata": {
    "ExecuteTime": {
     "end_time": "2021-08-26T12:45:28.197111Z",
     "start_time": "2021-08-26T12:45:28.197078Z"
    },
    "hidden": true
   },
   "outputs": [],
   "source": [
    "'test'\n",
    "'trolol'"
   ]
  },
  {
   "cell_type": "code",
   "execution_count": null,
   "metadata": {
    "ExecuteTime": {
     "end_time": "2021-08-26T12:45:28.199290Z",
     "start_time": "2021-08-26T12:45:28.199258Z"
    },
    "hidden": true
   },
   "outputs": [],
   "source": [
    "covid_df.query(' & '.join([f'{cat}==\"{value}\"' for cat, value in zip(['dep', 'lib_dep'], ['01', 'Ain'])]))"
   ]
  },
  {
   "cell_type": "code",
   "execution_count": null,
   "metadata": {
    "ExecuteTime": {
     "end_time": "2021-08-26T12:45:28.201554Z",
     "start_time": "2021-08-26T12:45:28.201511Z"
    },
    "hidden": true
   },
   "outputs": [],
   "source": [
    "covid_df.query('dep==\"01\"')"
   ]
  },
  {
   "cell_type": "code",
   "execution_count": null,
   "metadata": {
    "ExecuteTime": {
     "end_time": "2021-08-26T12:45:28.204337Z",
     "start_time": "2021-08-26T12:45:28.204285Z"
    },
    "hidden": true
   },
   "outputs": [],
   "source": [
    "df = covid_df\n",
    "df"
   ]
  },
  {
   "cell_type": "code",
   "execution_count": null,
   "metadata": {
    "ExecuteTime": {
     "end_time": "2021-08-26T12:45:28.206574Z",
     "start_time": "2021-08-26T12:45:28.206544Z"
    },
    "hidden": true
   },
   "outputs": [],
   "source": [
    "ts.pd_dataframe()"
   ]
  },
  {
   "cell_type": "code",
   "execution_count": null,
   "metadata": {
    "ExecuteTime": {
     "end_time": "2021-08-26T12:45:28.208665Z",
     "start_time": "2021-08-26T12:45:28.208636Z"
    },
    "hidden": true
   },
   "outputs": [],
   "source": [
    "covid_df = pd.read_csv(link)"
   ]
  },
  {
   "cell_type": "code",
   "execution_count": null,
   "metadata": {
    "ExecuteTime": {
     "end_time": "2021-08-26T12:45:28.210416Z",
     "start_time": "2021-08-26T12:45:28.210389Z"
    },
    "hidden": true
   },
   "outputs": [],
   "source": [
    "covid_df"
   ]
  },
  {
   "cell_type": "code",
   "execution_count": null,
   "metadata": {
    "ExecuteTime": {
     "end_time": "2021-08-26T12:45:28.212893Z",
     "start_time": "2021-08-26T12:45:28.212847Z"
    },
    "hidden": true
   },
   "outputs": [],
   "source": [
    "d = {f'{cat}_{col}': cat for cat in covid_df['dep'].unique() for col in ['hosp']}\n",
    "d"
   ]
  },
  {
   "cell_type": "code",
   "execution_count": null,
   "metadata": {
    "ExecuteTime": {
     "end_time": "2021-08-26T12:45:28.215290Z",
     "start_time": "2021-08-26T12:45:28.215261Z"
    },
    "hidden": true
   },
   "outputs": [],
   "source": [
    "TimeSeries.from_dataframe(covid_df[['dep','hosp']].query('dep==\"01\"'))"
   ]
  },
  {
   "cell_type": "code",
   "execution_count": null,
   "metadata": {
    "ExecuteTime": {
     "end_time": "2021-08-26T12:45:28.217421Z",
     "start_time": "2021-08-26T12:45:28.217387Z"
    },
    "hidden": true
   },
   "outputs": [],
   "source": [
    "from darts import TimeSeries"
   ]
  },
  {
   "cell_type": "code",
   "execution_count": null,
   "metadata": {
    "hidden": true
   },
   "outputs": [],
   "source": []
  },
  {
   "cell_type": "code",
   "execution_count": null,
   "metadata": {
    "ExecuteTime": {
     "end_time": "2021-08-26T12:45:28.219613Z",
     "start_time": "2021-08-26T12:45:28.219579Z"
    },
    "hidden": true
   },
   "outputs": [],
   "source": [
    "TimeSeries.from_dataframe(covid_df[covid_df['dep']=='01'],\n",
    "                         time_col='date',\n",
    "                         value_cols='hosp')"
   ]
  },
  {
   "cell_type": "code",
   "execution_count": null,
   "metadata": {
    "ExecuteTime": {
     "end_time": "2021-08-26T12:45:28.222147Z",
     "start_time": "2021-08-26T12:45:28.222099Z"
    },
    "hidden": true
   },
   "outputs": [],
   "source": [
    "covid_df.keys()"
   ]
  },
  {
   "cell_type": "code",
   "execution_count": null,
   "metadata": {
    "ExecuteTime": {
     "end_time": "2021-08-26T12:45:28.224579Z",
     "start_time": "2021-08-26T12:45:28.224540Z"
    },
    "hidden": true
   },
   "outputs": [],
   "source": [
    "covid_df.groupby('dep')."
   ]
  },
  {
   "cell_type": "code",
   "execution_count": null,
   "metadata": {
    "ExecuteTime": {
     "end_time": "2021-08-26T12:45:28.227347Z",
     "start_time": "2021-08-26T12:45:28.227309Z"
    },
    "hidden": true
   },
   "outputs": [],
   "source": [
    "paris_df = covid_df.query('dep==75')"
   ]
  },
  {
   "cell_type": "code",
   "execution_count": null,
   "metadata": {
    "ExecuteTime": {
     "end_time": "2021-08-26T12:45:28.229096Z",
     "start_time": "2021-08-26T12:45:28.229066Z"
    },
    "hidden": true
   },
   "outputs": [],
   "source": [
    "df = covid_df[['date', 'dep', 'dchosp', 'hosp', 'rea']]\n",
    "datetime_series = pd.to_datetime(df['date'])\n",
    "datetime_index = pd.DatetimeIndex(datetime_series.values)\n",
    "df=df.set_index(datetime_index)\n",
    "df.drop('date',axis=1,inplace=True)\n",
    "df"
   ]
  },
  {
   "cell_type": "code",
   "execution_count": null,
   "metadata": {
    "ExecuteTime": {
     "end_time": "2021-08-26T12:45:28.230772Z",
     "start_time": "2021-08-26T12:45:28.230747Z"
    },
    "hidden": true
   },
   "outputs": [],
   "source": [
    "def series_train_test(\n",
    "    data=covid_df, features=['hosp'],\n",
    "    timestamp=pd.Timestamp('2021-01-01'), departement=75\n",
    "):\n",
    "    # Convert the index into a datetime index\n",
    "    df = covid_df.query(f'dep=={departement}')[['date'] + features]\n",
    "    datetime_series = pd.to_datetime(df['date'])\n",
    "    datetime_index = pd.DatetimeIndex(datetime_series.values)\n",
    "    df=df.set_index(datetime_index)\n",
    "    df.drop('date',axis=1,inplace=True)\n",
    "    \n",
    "    #\n",
    "    time_series = {}\n",
    "    train = {}\n",
    "    test = {}\n",
    "    for feature in features:\n",
    "      series[feature] = TimeSeries.from_dataframe(df[[feature]]) \n",
    "      train[feature], test[feature] = time_series[feature].split_before(\n",
    "          pd.Timestamp(timestamp)\n",
    "      )\n",
    "        \n",
    "    return series, train, test"
   ]
  },
  {
   "cell_type": "code",
   "execution_count": null,
   "metadata": {
    "ExecuteTime": {
     "end_time": "2021-08-26T12:45:28.241177Z",
     "start_time": "2021-08-26T12:45:28.241107Z"
    },
    "hidden": true
   },
   "outputs": [],
   "source": [
    "time_series, train, test = time_series_train_test(data=paris_df, features['rea'])"
   ]
  },
  {
   "cell_type": "code",
   "execution_count": null,
   "metadata": {
    "ExecuteTime": {
     "end_time": "2021-08-26T12:45:28.244512Z",
     "start_time": "2021-08-26T12:45:28.244456Z"
    },
    "hidden": true
   },
   "outputs": [],
   "source": [
    "covid_df"
   ]
  },
  {
   "cell_type": "code",
   "execution_count": null,
   "metadata": {
    "ExecuteTime": {
     "end_time": "2021-08-26T12:45:28.247360Z",
     "start_time": "2021-08-26T12:45:28.247311Z"
    },
    "hidden": true
   },
   "outputs": [],
   "source": [
    "time_series['dchosp']"
   ]
  },
  {
   "cell_type": "code",
   "execution_count": null,
   "metadata": {
    "ExecuteTime": {
     "end_time": "2021-08-26T12:45:28.250692Z",
     "start_time": "2021-08-26T12:45:28.250649Z"
    },
    "hidden": true
   },
   "outputs": [],
   "source": [
    "train['hosp'].plot(label='train')\n",
    "test['hosp'].plot(label='test')"
   ]
  },
  {
   "cell_type": "code",
   "execution_count": null,
   "metadata": {
    "ExecuteTime": {
     "end_time": "2021-08-26T12:45:28.253694Z",
     "start_time": "2021-08-26T12:45:28.253626Z"
    },
    "hidden": true,
    "id": "gHpxVvaZlR7D"
   },
   "outputs": [],
   "source": [
    "paris_df = covid_df.query('dep==75')[['date', 'TO', 'hosp', 'rea', 'dchosp']]"
   ]
  },
  {
   "cell_type": "code",
   "execution_count": null,
   "metadata": {
    "ExecuteTime": {
     "end_time": "2021-08-26T12:45:28.257601Z",
     "start_time": "2021-08-26T12:45:28.257550Z"
    },
    "hidden": true
   },
   "outputs": [],
   "source": [
    "paris_df.plot();"
   ]
  },
  {
   "cell_type": "code",
   "execution_count": null,
   "metadata": {
    "ExecuteTime": {
     "end_time": "2021-08-26T12:45:28.260818Z",
     "start_time": "2021-08-26T12:45:28.260769Z"
    },
    "colab": {
     "base_uri": "https://localhost:8080/"
    },
    "hidden": true,
    "id": "SGZh5Xg_paiN",
    "outputId": "ac32bd18-996e-46d0-e481-1021192d935c"
   },
   "outputs": [],
   "source": [
    "paris_df.info()"
   ]
  },
  {
   "cell_type": "code",
   "execution_count": null,
   "metadata": {
    "ExecuteTime": {
     "end_time": "2021-08-26T12:45:28.263882Z",
     "start_time": "2021-08-26T12:45:28.263835Z"
    },
    "colab": {
     "base_uri": "https://localhost:8080/",
     "height": 625
    },
    "hidden": true,
    "id": "yjl1lRhkpsaA",
    "outputId": "5eeea048-55ce-46d5-aac3-b7f364c22855"
   },
   "outputs": [],
   "source": [
    "datetime_series = pd.to_datetime(paris_df['date'])\n",
    "datetime_index = pd.DatetimeIndex(datetime_series.values)\n",
    "df=paris_df.set_index(datetime_index)\n",
    "df.drop('date',axis=1,inplace=True)\n",
    "df"
   ]
  },
  {
   "cell_type": "code",
   "execution_count": null,
   "metadata": {
    "ExecuteTime": {
     "end_time": "2021-08-26T12:45:28.267394Z",
     "start_time": "2021-08-26T12:45:28.267334Z"
    },
    "colab": {
     "base_uri": "https://localhost:8080/",
     "height": 289
    },
    "hidden": true,
    "id": "0WCzKPWXogzW",
    "outputId": "04966c3d-859b-441a-b7a7-30a9b5161e02"
   },
   "outputs": [],
   "source": [
    "\n",
    "df.plot();"
   ]
  },
  {
   "cell_type": "code",
   "execution_count": null,
   "metadata": {
    "ExecuteTime": {
     "end_time": "2021-08-26T12:45:28.270369Z",
     "start_time": "2021-08-26T12:45:28.270330Z"
    },
    "colab": {
     "base_uri": "https://localhost:8080/",
     "height": 294
    },
    "hidden": true,
    "id": "m7tSLH1Vq07_",
    "outputId": "663ea539-e150-4cd9-939c-5ef0ddb699e6"
   },
   "outputs": [],
   "source": [
    "train, val = series.split_before(pd.Timestamp('2021-01-01'))\n",
    "train.plot(label='training')\n",
    "val.plot(label='validation')\n",
    "plt.legend();"
   ]
  },
  {
   "cell_type": "code",
   "execution_count": null,
   "metadata": {
    "ExecuteTime": {
     "end_time": "2021-08-26T12:45:28.273430Z",
     "start_time": "2021-08-26T12:45:28.273350Z"
    },
    "colab": {
     "base_uri": "https://localhost:8080/",
     "height": 294
    },
    "hidden": true,
    "id": "mH26GB4FrjbG",
    "outputId": "06508130-c6ea-46aa-c7e5-2737e593b869"
   },
   "outputs": [],
   "source": [
    "naive_model = NaiveSeasonal(K=158)\n",
    "naive_model.fit(train)\n",
    "naive_forecast = naive_model.predict(300)\n",
    "\n",
    "series.plot(label='actual')\n",
    "naive_forecast.plot(label='naive forecast (K=158)')\n",
    "plt.legend();"
   ]
  },
  {
   "cell_type": "code",
   "execution_count": null,
   "metadata": {
    "ExecuteTime": {
     "end_time": "2021-08-26T12:45:28.276592Z",
     "start_time": "2021-08-26T12:45:28.276531Z"
    },
    "colab": {
     "base_uri": "https://localhost:8080/"
    },
    "hidden": true,
    "id": "8-aopaDw4RlZ",
    "outputId": "709b69f0-ed80-4d5c-fddf-ac4242cc2d58"
   },
   "outputs": [],
   "source": [
    "mae(naive_model.predict(220), val)"
   ]
  },
  {
   "cell_type": "code",
   "execution_count": null,
   "metadata": {
    "ExecuteTime": {
     "end_time": "2021-08-26T12:45:28.280250Z",
     "start_time": "2021-08-26T12:45:28.280199Z"
    },
    "colab": {
     "base_uri": "https://localhost:8080/"
    },
    "hidden": true,
    "id": "oW6hhpkS5YfZ",
    "outputId": "e9b417ae-e8e0-46b0-b034-9f48d3401ece"
   },
   "outputs": [],
   "source": [
    "!pip install optuna"
   ]
  },
  {
   "cell_type": "code",
   "execution_count": null,
   "metadata": {
    "ExecuteTime": {
     "end_time": "2021-08-26T12:45:28.283603Z",
     "start_time": "2021-08-26T12:45:28.283538Z"
    },
    "hidden": true,
    "id": "Mzqg6Cab5daz"
   },
   "outputs": [],
   "source": [
    "import optuna"
   ]
  },
  {
   "cell_type": "code",
   "execution_count": null,
   "metadata": {
    "ExecuteTime": {
     "end_time": "2021-08-26T12:45:28.286380Z",
     "start_time": "2021-08-26T12:45:28.286331Z"
    },
    "hidden": true,
    "id": "Tf0TZoOx36Tm"
   },
   "outputs": [],
   "source": [
    "def objective(trial):\n",
    "  naive_model = NaiveSeasonal(K=trial.suggest_int('K', 1, 289))\n",
    "  naive_model.fit(train)\n",
    "  return mae(naive_model.predict(220), val)\n",
    "\n",
    "study = optuna.create_study(direction='minimize')\n",
    "study.optimize(objective, n_trials=289, n_jobs=-1)\n"
   ]
  },
  {
   "cell_type": "code",
   "execution_count": null,
   "metadata": {
    "ExecuteTime": {
     "end_time": "2021-08-26T12:45:28.293953Z",
     "start_time": "2021-08-26T12:45:28.293858Z"
    },
    "colab": {
     "base_uri": "https://localhost:8080/"
    },
    "hidden": true,
    "id": "kOI-5pE97Ije",
    "outputId": "beda1c63-88bc-43b1-a8ec-39f4fd40b4e7"
   },
   "outputs": [],
   "source": [
    "study.best_trial"
   ]
  },
  {
   "cell_type": "code",
   "execution_count": null,
   "metadata": {
    "ExecuteTime": {
     "end_time": "2021-08-26T12:45:28.297177Z",
     "start_time": "2021-08-26T12:45:28.297145Z"
    },
    "colab": {
     "base_uri": "https://localhost:8080/",
     "height": 319
    },
    "hidden": true,
    "id": "V3jAgdSR7XAL",
    "outputId": "ba07ae43-056b-496a-bdcd-bfd8efe9813b"
   },
   "outputs": [],
   "source": [
    "plot_acf(train, m = 30, alpha = .05)"
   ]
  },
  {
   "cell_type": "code",
   "execution_count": null,
   "metadata": {
    "ExecuteTime": {
     "end_time": "2021-08-26T12:45:28.299744Z",
     "start_time": "2021-08-26T12:45:28.299710Z"
    },
    "colab": {
     "base_uri": "https://localhost:8080/"
    },
    "hidden": true,
    "id": "rISQ7h398e57",
    "outputId": "35cde443-bdbc-4217-9f81-9ad70790b3c3"
   },
   "outputs": [],
   "source": [
    "def eval_model(model):\n",
    "    model.fit(train)\n",
    "    forecast = model.predict(len(val))\n",
    "    print('model {} obtains MAE: {:.2f}%'.format(model, mae(val, forecast)))\n",
    "\n",
    "eval_model(NaiveSeasonal(K=158))\n",
    "eval_model(ExponentialSmoothing())\n",
    "eval_model(Prophet())\n",
    "eval_model(AutoARIMA())\n",
    "eval_model(Theta())"
   ]
  },
  {
   "cell_type": "code",
   "execution_count": null,
   "metadata": {
    "ExecuteTime": {
     "end_time": "2021-08-26T12:45:28.302614Z",
     "start_time": "2021-08-26T12:45:28.302578Z"
    },
    "colab": {
     "base_uri": "https://localhost:8080/",
     "height": 311
    },
    "hidden": true,
    "id": "GDnEtgIl_B8k",
    "outputId": "d5e10770-e547-45ff-813c-3a6fbcc1ce42"
   },
   "outputs": [],
   "source": [
    "expo_model = ExponentialSmoothing()\n",
    "expo_model.fit(train)\n",
    "expo_forecast = expo_model.predict(len(val))\n",
    "series.plot(label='Ground truth')\n",
    "expo_forecast.plot(label='Prediction')\n",
    "mae(y_pred, val)"
   ]
  },
  {
   "cell_type": "code",
   "execution_count": null,
   "metadata": {
    "ExecuteTime": {
     "end_time": "2021-08-26T12:45:28.305490Z",
     "start_time": "2021-08-26T12:45:28.305461Z"
    },
    "hidden": true,
    "id": "Rif620zIBGcI"
   },
   "outputs": [],
   "source": [
    "def objective(trial):\n",
    "  theta_model = Theta(theta=trial.suggest_float('theta', -10, 10))\n",
    "  theta_model.fit(train)\n",
    "  theta_forecast = theta_model.predict(len(val))\n",
    "  return mae(theta_forecast, val)\n",
    "\n",
    "theta_study = optuna.create_study(direction='minimize')\n",
    "theta_study.optimize(objective, n_trials=500, n_jobs=-1)"
   ]
  },
  {
   "cell_type": "code",
   "execution_count": null,
   "metadata": {
    "ExecuteTime": {
     "end_time": "2021-08-26T12:45:28.307713Z",
     "start_time": "2021-08-26T12:45:28.307670Z"
    },
    "colab": {
     "base_uri": "https://localhost:8080/",
     "height": 424
    },
    "hidden": true,
    "id": "HjKORodzB1Zv",
    "outputId": "a34266c5-67bd-48c7-cb61-0ed708f0182d"
   },
   "outputs": [],
   "source": [
    "theta_study.trials_dataframe().sort_values('value')"
   ]
  },
  {
   "cell_type": "code",
   "execution_count": null,
   "metadata": {
    "ExecuteTime": {
     "end_time": "2021-08-26T12:45:28.311217Z",
     "start_time": "2021-08-26T12:45:28.311176Z"
    },
    "colab": {
     "base_uri": "https://localhost:8080/",
     "height": 311
    },
    "hidden": true,
    "id": "sfEXe1kECGC9",
    "outputId": "dc3c263d-fcd0-4a3c-f662-da7251eb9c4d"
   },
   "outputs": [],
   "source": [
    "theta_model = Theta(theta=1.422738)\n",
    "theta_model.fit(train)\n",
    "theta_forecast = theta_model.predict(len(val))\n",
    "theta_forecast = theta_model.predict(len(val))\n",
    "series.plot(label='Ground truth')\n",
    "theta_forecast.plot(label='Prediction')\n",
    "mae(y_pred, val)"
   ]
  },
  {
   "cell_type": "code",
   "execution_count": null,
   "metadata": {
    "hidden": true,
    "id": "3UFLz6w8Dw4M"
   },
   "outputs": [],
   "source": []
  },
  {
   "cell_type": "code",
   "execution_count": null,
   "metadata": {
    "ExecuteTime": {
     "end_time": "2021-08-26T12:45:28.313620Z",
     "start_time": "2021-08-26T12:45:28.313586Z"
    },
    "hidden": true,
    "id": "2k6fwgjiEOa1"
   },
   "outputs": [],
   "source": [
    "df.keys()"
   ]
  },
  {
   "cell_type": "code",
   "execution_count": null,
   "metadata": {
    "ExecuteTime": {
     "end_time": "2021-08-26T12:45:28.316233Z",
     "start_time": "2021-08-26T12:45:28.316202Z"
    },
    "hidden": true,
    "id": "0kZFZcHBELi0"
   },
   "outputs": [],
   "source": [
    "time_series = {}\n",
    "train_val = {}\n",
    "for feature in df.keys():\n",
    "  time_series[feature] = Scaler().fit_transform(TimeSeries.from_dataframe(df[[feature]]))\n",
    "  train_val[feature] = time_series[feature].split_before(pd.Timestamp('2021-01-01'))"
   ]
  },
  {
   "cell_type": "code",
   "execution_count": null,
   "metadata": {
    "ExecuteTime": {
     "end_time": "2021-08-26T12:45:28.318700Z",
     "start_time": "2021-08-26T12:45:28.318640Z"
    },
    "colab": {
     "base_uri": "https://localhost:8080/",
     "height": 294
    },
    "hidden": true,
    "id": "6vBvCV4sEh2A",
    "outputId": "1648e621-b227-408c-dee4-5d4baa5ea85f"
   },
   "outputs": [],
   "source": [
    "time_series, train, test = time_series_train_val(timestamp='2021-04-01', features=['hosp', 'rea'])"
   ]
  },
  {
   "cell_type": "code",
   "execution_count": null,
   "metadata": {
    "ExecuteTime": {
     "end_time": "2021-08-26T12:45:28.322692Z",
     "start_time": "2021-08-26T12:45:28.322645Z"
    },
    "hidden": true,
    "id": "KNo5vom9hCiQ"
   },
   "outputs": [],
   "source": [
    "model_air = NBEATSModel(input_chunk_length=24, output_chunk_length=12, n_epochs=12)"
   ]
  },
  {
   "cell_type": "code",
   "execution_count": null,
   "metadata": {
    "ExecuteTime": {
     "end_time": "2021-08-26T12:45:28.326516Z",
     "start_time": "2021-08-26T12:45:28.326485Z"
    },
    "colab": {
     "base_uri": "https://localhost:8080/",
     "height": 167
    },
    "hidden": true,
    "id": "tRiH8mIHhFOc",
    "outputId": "6035a49c-b980-424e-8d04-eb9929de0d32"
   },
   "outputs": [],
   "source": [
    "model_air.fit(train['hosp'], verbose=True)"
   ]
  },
  {
   "cell_type": "code",
   "execution_count": null,
   "metadata": {
    "ExecuteTime": {
     "end_time": "2021-08-26T12:45:28.328696Z",
     "start_time": "2021-08-26T12:45:28.328664Z"
    },
    "colab": {
     "base_uri": "https://localhost:8080/",
     "height": 294
    },
    "hidden": true,
    "id": "nNFIZs46j4RH",
    "outputId": "33eb9bc8-3965-4424-be6c-4c813ecdf038"
   },
   "outputs": [],
   "source": [
    "air_forecast = model_air.predict(12)\n",
    "plt.figure(figsize=(24,16))\n",
    "time_series['hosp'].plot(label='Ground truth')\n",
    "air_forecast.plot(label='Prediction')\n",
    "mape(air_forecast, time_series['hosp'])"
   ]
  },
  {
   "cell_type": "code",
   "execution_count": null,
   "metadata": {
    "ExecuteTime": {
     "end_time": "2021-08-26T12:45:28.333068Z",
     "start_time": "2021-08-26T12:45:28.333018Z"
    },
    "hidden": true
   },
   "outputs": [],
   "source": [
    "series, train, test = time_series_train_val(\n",
    "    timestamp=pd.Timestamp('2021-07-01'),\n",
    "    features=['hosp', 'rea', 'dchosp']\n",
    ")"
   ]
  },
  {
   "cell_type": "code",
   "execution_count": null,
   "metadata": {
    "ExecuteTime": {
     "end_time": "2021-08-26T12:45:28.335551Z",
     "start_time": "2021-08-26T12:45:28.335522Z"
    },
    "hidden": true
   },
   "outputs": [],
   "source": [
    "train_series, train, val = time_series_train_val(\n",
    "    data=train,\n",
    "    timestamp=pd.Timestamp('2021-01-01'),\n",
    "    features=['hosp', 'rea', 'dchosp']\n",
    ")"
   ]
  },
  {
   "cell_type": "code",
   "execution_count": null,
   "metadata": {
    "ExecuteTime": {
     "end_time": "2021-08-26T12:45:28.338129Z",
     "start_time": "2021-08-26T12:45:28.338085Z"
    },
    "hidden": true
   },
   "outputs": [],
   "source": [
    "test['hosp'].plot()"
   ]
  },
  {
   "cell_type": "code",
   "execution_count": null,
   "metadata": {
    "ExecuteTime": {
     "end_time": "2021-08-26T12:45:28.341282Z",
     "start_time": "2021-08-26T12:45:28.341246Z"
    },
    "hidden": true
   },
   "outputs": [],
   "source": [
    "my_model = TransformerModel(\n",
    "    input_chunk_length = 20,\n",
    "    output_chunk_length = 10,\n",
    "    batch_size = 16,\n",
    "    n_epochs = 50,\n",
    "    model_name = 'air_transformer',\n",
    "    log_tensorboard=True,\n",
    "    nr_epochs_val_period = 10,\n",
    "    d_model = 32,\n",
    "    nhead = 16,\n",
    "    num_encoder_layers = 3,\n",
    "    num_decoder_layers = 3,\n",
    "    dim_feedforward = 512,\n",
    "    dropout = 0.1,\n",
    "    activation = \"relu\",\n",
    "    force_reset=True\n",
    ")"
   ]
  },
  {
   "cell_type": "code",
   "execution_count": null,
   "metadata": {
    "ExecuteTime": {
     "end_time": "2021-08-26T12:45:28.343654Z",
     "start_time": "2021-08-26T12:45:28.343606Z"
    },
    "hidden": true
   },
   "outputs": [],
   "source": [
    "my_model.fit(series=train['hosp'], val_series=val['hosp'], verbose=True)"
   ]
  },
  {
   "cell_type": "code",
   "execution_count": null,
   "metadata": {
    "ExecuteTime": {
     "end_time": "2021-08-26T12:45:28.346017Z",
     "start_time": "2021-08-26T12:45:28.345978Z"
    },
    "hidden": true
   },
   "outputs": [],
   "source": [
    "pred = my_model.predict(n=10, series=train['hosp'])\n",
    "series['hosp'].plot('label')\n",
    "pred.plot(label='prediction')"
   ]
  },
  {
   "cell_type": "code",
   "execution_count": null,
   "metadata": {
    "ExecuteTime": {
     "end_time": "2021-08-26T12:45:28.348304Z",
     "start_time": "2021-08-26T12:45:28.348273Z"
    },
    "hidden": true
   },
   "outputs": [],
   "source": [
    "backtest = model_cov.historical_forecasts(series_air_scaled,\n",
    "                                              past_covariates=air_covariates,\n",
    "                                              start=0.6,\n",
    "                                              forecast_horizon=12,\n",
    "                                              stride=1,\n",
    "                                              retrain=False,\n",
    "                                              verbose=True)\n",
    "\n",
    "series_air_scaled.plot(label='actual')\n",
    "backtest_cov.plot(label='forecast')\n",
    "plt.legend();\n",
    "print('MAPE (using covariates) = {:.2f}%'.format(mape(series_air_scaled, backtest_cov)))"
   ]
  },
  {
   "cell_type": "code",
   "execution_count": null,
   "metadata": {
    "ExecuteTime": {
     "end_time": "2021-08-26T12:45:28.353758Z",
     "start_time": "2021-08-26T12:45:28.353717Z"
    },
    "hidden": true
   },
   "outputs": [],
   "source": [
    "#this function evaluates a model on a given validation set for n time-steps\n",
    "def eval_model(model, n, series, val_series):\n",
    "    pred_series = model.predict(n=n)\n",
    "    plt.figure(figsize=(8,5))\n",
    "    series.plot(label='actual')\n",
    "    pred_series.plot(label='forecast')\n",
    "    plt.title('MAPE: {:.2f}%'.format(mape(pred_series, val_series)))\n",
    "    plt.legend();\n",
    "\n",
    "eval_model(my_model, 2, series['hosp'], test['hosp'])\n"
   ]
  }
 ],
 "metadata": {
  "accelerator": "GPU",
  "colab": {
   "collapsed_sections": [],
   "name": "darts.ipynb",
   "provenance": []
  },
  "kernelspec": {
   "display_name": "Python 3 (ipykernel)",
   "language": "python",
   "name": "python3"
  },
  "language_info": {
   "codemirror_mode": {
    "name": "ipython",
    "version": 3
   },
   "file_extension": ".py",
   "mimetype": "text/x-python",
   "name": "python",
   "nbconvert_exporter": "python",
   "pygments_lexer": "ipython3",
   "version": "3.9.6"
  },
  "toc": {
   "base_numbering": 1,
   "nav_menu": {},
   "number_sections": true,
   "sideBar": true,
   "skip_h1_title": false,
   "title_cell": "Table of Contents",
   "title_sidebar": "Contents",
   "toc_cell": false,
   "toc_position": {},
   "toc_section_display": true,
   "toc_window_display": false
  }
 },
 "nbformat": 4,
 "nbformat_minor": 1
}
