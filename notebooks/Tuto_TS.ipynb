{
 "cells": [
  {
   "cell_type": "code",
   "execution_count": 3,
   "id": "f0cb1cd6",
   "metadata": {
    "ExecuteTime": {
     "end_time": "2021-09-01T11:39:46.445705Z",
     "start_time": "2021-09-01T11:39:46.373255Z"
    }
   },
   "outputs": [],
   "source": [
    "import os\n",
    "import datetime\n",
    "import joblib\n",
    "\n",
    "import IPython\n",
    "import IPython.display\n",
    "import matplotlib as mpl\n",
    "import matplotlib.pyplot as plt\n",
    "import numpy as np\n",
    "import pandas as pd\n",
    "import seaborn as sns\n",
    "import tensorflow as tf\n",
    "\n",
    "mpl.rcParams['figure.figsize'] = (8, 6)\n",
    "mpl.rcParams['axes.grid'] = False"
   ]
  },
  {
   "cell_type": "code",
   "execution_count": 4,
   "id": "e1d91eeb",
   "metadata": {
    "ExecuteTime": {
     "end_time": "2021-09-01T11:39:57.634657Z",
     "start_time": "2021-09-01T11:39:57.493752Z"
    }
   },
   "outputs": [
    {
     "name": "stdout",
     "output_type": "stream",
     "text": [
      "/Users/raphaelmenguy/code/projet_wagon/elaine_and_the_gentle_boyz/notebooks\r\n"
     ]
    }
   ],
   "source": [
    "!pwd"
   ]
  },
  {
   "cell_type": "code",
   "execution_count": 5,
   "id": "0b75c230",
   "metadata": {
    "ExecuteTime": {
     "end_time": "2021-09-01T11:40:02.452736Z",
     "start_time": "2021-09-01T11:40:02.442251Z"
    }
   },
   "outputs": [
    {
     "name": "stdout",
     "output_type": "stream",
     "text": [
      "/Users/raphaelmenguy/code/projet_wagon/elaine_and_the_gentle_boyz\n"
     ]
    }
   ],
   "source": [
    "cd .."
   ]
  },
  {
   "cell_type": "code",
   "execution_count": 6,
   "id": "fd8aac38",
   "metadata": {
    "ExecuteTime": {
     "end_time": "2021-09-01T11:40:20.349870Z",
     "start_time": "2021-09-01T11:40:20.330469Z"
    }
   },
   "outputs": [],
   "source": [
    "data = joblib.load('data/tensor_final.pkl')"
   ]
  },
  {
   "cell_type": "code",
   "execution_count": 13,
   "id": "1a4f8728",
   "metadata": {
    "ExecuteTime": {
     "end_time": "2021-09-01T12:26:04.146123Z",
     "start_time": "2021-09-01T12:26:04.126666Z"
    }
   },
   "outputs": [
    {
     "data": {
      "text/plain": [
       "array([[0.15221743, 0.30443485, 0.45665228, ..., 3.19656597, 2.28326141,\n",
       "        2.13104398],\n",
       "       [3.65321826, 1.52217427, 0.45665228, ..., 0.        , 0.60886971,\n",
       "        0.        ],\n",
       "       [0.15221743, 0.30443485, 0.30443485, ..., 2.47124798, 3.80191997,\n",
       "        1.33067199],\n",
       "       ...,\n",
       "       [0.56897345, 0.14224336, 0.07112168, ..., 1.92253159, 1.44189869,\n",
       "        0.80105483],\n",
       "       [1.36179321, 1.68221514, 1.44189869, ..., 1.20158224, 1.84242611,\n",
       "        1.20158224],\n",
       "       [1.92253159, 1.20158224, 1.52200418, ..., 0.40052741, 1.12147676,\n",
       "        0.64084386]])"
      ]
     },
     "execution_count": 13,
     "metadata": {},
     "output_type": "execute_result"
    }
   ],
   "source": [
    "y = data[:,:,-1] ### Target \n",
    "[:,0,:,0]"
   ]
  },
  {
   "cell_type": "code",
   "execution_count": null,
   "id": "503b6116",
   "metadata": {},
   "outputs": [],
   "source": [
    "example_window = \n"
   ]
  },
  {
   "cell_type": "code",
   "execution_count": 17,
   "id": "c9d43875",
   "metadata": {
    "ExecuteTime": {
     "end_time": "2021-09-01T12:32:50.215707Z",
     "start_time": "2021-09-01T12:32:50.202213Z"
    }
   },
   "outputs": [
    {
     "data": {
      "text/plain": [
       "array([[[1.00000000e+00, 1.07000000e+01, 2.30000000e+00, ...,\n",
       "         1.14315288e+02, 0.00000000e+00, 1.52217427e-01],\n",
       "        [1.00000000e+00, 1.07000000e+01, 2.30000000e+00, ...,\n",
       "         1.14315288e+02, 0.00000000e+00, 3.04434855e-01],\n",
       "        [1.00000000e+00, 1.07000000e+01, 2.30000000e+00, ...,\n",
       "         1.14619723e+02, 1.00000000e+00, 4.56652282e-01],\n",
       "        ...,\n",
       "        [1.00000000e+00, 1.07000000e+01, 2.30000000e+00, ...,\n",
       "         1.73984519e+02, 0.00000000e+00, 3.19656597e+00],\n",
       "        [1.00000000e+00, 1.07000000e+01, 2.30000000e+00, ...,\n",
       "         1.74593389e+02, 2.00000000e+00, 2.28326141e+00],\n",
       "        [1.00000000e+00, 1.07000000e+01, 2.30000000e+00, ...,\n",
       "         1.74593389e+02, 0.00000000e+00, 2.13104398e+00]],\n",
       "\n",
       "       [[1.00000000e+00, 1.07000000e+01, 2.30000000e+00, ...,\n",
       "         1.74593389e+02, 0.00000000e+00, 3.65321826e+00],\n",
       "        [1.00000000e+00, 1.07000000e+01, 2.30000000e+00, ...,\n",
       "         1.74593389e+02, 0.00000000e+00, 1.52217427e+00],\n",
       "        [1.00000000e+00, 1.07000000e+01, 2.30000000e+00, ...,\n",
       "         1.74897824e+02, 1.00000000e+00, 4.56652282e-01],\n",
       "        ...,\n",
       "        [1.00000000e+00, 1.07000000e+01, 2.30000000e+00, ...,\n",
       "         1.89510697e+02, 0.00000000e+00, 0.00000000e+00],\n",
       "        [1.00000000e+00, 1.07000000e+01, 2.30000000e+00, ...,\n",
       "         1.89510697e+02, 0.00000000e+00, 6.08869709e-01],\n",
       "        [1.00000000e+00, 1.07000000e+01, 2.30000000e+00, ...,\n",
       "         1.89510697e+02, 0.00000000e+00, 0.00000000e+00]],\n",
       "\n",
       "       [[1.00000000e+00, 1.07000000e+01, 2.30000000e+00, ...,\n",
       "         1.89510697e+02, 0.00000000e+00, 1.52217427e-01],\n",
       "        [1.00000000e+00, 1.07000000e+01, 2.30000000e+00, ...,\n",
       "         1.89510697e+02, 0.00000000e+00, 3.04434855e-01],\n",
       "        [1.00000000e+00, 1.07000000e+01, 2.30000000e+00, ...,\n",
       "         1.89815132e+02, 1.00000000e+00, 3.04434855e-01],\n",
       "        ...,\n",
       "        [2.00000000e+00, 1.89000000e+01, 7.50000000e+00, ...,\n",
       "         3.09856478e+02, 1.00000000e+00, 2.47124798e+00],\n",
       "        [2.00000000e+00, 1.89000000e+01, 7.50000000e+00, ...,\n",
       "         3.12517821e+02, 7.00000000e+00, 3.80191997e+00],\n",
       "        [2.00000000e+00, 1.89000000e+01, 7.50000000e+00, ...,\n",
       "         3.12517821e+02, 0.00000000e+00, 1.33067199e+00]],\n",
       "\n",
       "       ...,\n",
       "\n",
       "       [[7.90000000e+01, 1.24000000e+01, 3.90000000e+00, ...,\n",
       "         1.18885642e+02, 0.00000000e+00, 1.07345952e+00],\n",
       "        [7.90000000e+01, 1.24000000e+01, 3.90000000e+00, ...,\n",
       "         1.19959101e+02, 2.00000000e+00, 2.68364880e-01],\n",
       "        [7.90000000e+01, 1.24000000e+01, 3.90000000e+00, ...,\n",
       "         1.19959101e+02, 0.00000000e+00, 1.34182440e+00],\n",
       "        ...,\n",
       "        [7.90000000e+01, 1.24000000e+01, 3.90000000e+00, ...,\n",
       "         1.37671183e+02, 0.00000000e+00, 0.00000000e+00],\n",
       "        [7.90000000e+01, 1.24000000e+01, 3.90000000e+00, ...,\n",
       "         1.37671183e+02, 0.00000000e+00, 0.00000000e+00],\n",
       "        [7.90000000e+01, 1.24000000e+01, 3.90000000e+00, ...,\n",
       "         1.37671183e+02, 0.00000000e+00, 0.00000000e+00]],\n",
       "\n",
       "       [[7.90000000e+01, 1.24000000e+01, 3.90000000e+00, ...,\n",
       "         1.37671183e+02, 0.00000000e+00, 2.68364880e-01],\n",
       "        [7.90000000e+01, 1.24000000e+01, 3.90000000e+00, ...,\n",
       "         1.37671183e+02, 0.00000000e+00, 0.00000000e+00],\n",
       "        [7.90000000e+01, 1.24000000e+01, 3.90000000e+00, ...,\n",
       "         1.37671183e+02, 0.00000000e+00, 0.00000000e+00],\n",
       "        ...,\n",
       "        [8.00000000e+00,            nan,            nan, ...,\n",
       "                    nan,            nan,            nan],\n",
       "        [8.00000000e+00,            nan,            nan, ...,\n",
       "                    nan,            nan,            nan],\n",
       "        [8.00000000e+00,            nan,            nan, ...,\n",
       "                    nan,            nan,            nan]],\n",
       "\n",
       "       [[8.00000000e+00,            nan,            nan, ...,\n",
       "                    nan,            nan,            nan],\n",
       "        [8.00000000e+00,            nan,            nan, ...,\n",
       "                    nan,            nan,            nan],\n",
       "        [8.00000000e+00,            nan,            nan, ...,\n",
       "                    nan,            nan,            nan],\n",
       "        ...,\n",
       "        [8.00000000e+00,            nan,            nan, ...,\n",
       "                    nan,            nan,            nan],\n",
       "        [8.00000000e+00,            nan,            nan, ...,\n",
       "                    nan,            nan,            nan],\n",
       "        [8.00000000e+00,            nan,            nan, ...,\n",
       "                    nan,            nan,            nan]]])"
      ]
     },
     "execution_count": 17,
     "metadata": {},
     "output_type": "execute_result"
    }
   ],
   "source": [
    "data[:200,:,:]"
   ]
  },
  {
   "cell_type": "code",
   "execution_count": 15,
   "id": "bf20952c",
   "metadata": {
    "ExecuteTime": {
     "end_time": "2021-09-01T12:30:57.848189Z",
     "start_time": "2021-09-01T12:30:57.841969Z"
    }
   },
   "outputs": [
    {
     "data": {
      "text/plain": [
       "(104, 61)"
      ]
     },
     "execution_count": 15,
     "metadata": {},
     "output_type": "execute_result"
    }
   ],
   "source": [
    "data[0].shape"
   ]
  },
  {
   "cell_type": "code",
   "execution_count": 16,
   "id": "3413eff7",
   "metadata": {
    "ExecuteTime": {
     "end_time": "2021-09-01T12:31:31.980079Z",
     "start_time": "2021-09-01T12:31:31.974312Z"
    }
   },
   "outputs": [
    {
     "data": {
      "text/plain": [
       "(240, 104)"
      ]
     },
     "execution_count": 16,
     "metadata": {},
     "output_type": "execute_result"
    }
   ],
   "source": [
    "y.shape"
   ]
  },
  {
   "cell_type": "code",
   "execution_count": null,
   "id": "80a9467a",
   "metadata": {},
   "outputs": [],
   "source": []
  }
 ],
 "metadata": {
  "kernelspec": {
   "display_name": "Python 3 (ipykernel)",
   "language": "python",
   "name": "python3"
  },
  "language_info": {
   "codemirror_mode": {
    "name": "ipython",
    "version": 3
   },
   "file_extension": ".py",
   "mimetype": "text/x-python",
   "name": "python",
   "nbconvert_exporter": "python",
   "pygments_lexer": "ipython3",
   "version": "3.8.6"
  },
  "toc": {
   "base_numbering": 1,
   "nav_menu": {},
   "number_sections": true,
   "sideBar": true,
   "skip_h1_title": false,
   "title_cell": "Table of Contents",
   "title_sidebar": "Contents",
   "toc_cell": false,
   "toc_position": {},
   "toc_section_display": true,
   "toc_window_display": false
  }
 },
 "nbformat": 4,
 "nbformat_minor": 5
}
