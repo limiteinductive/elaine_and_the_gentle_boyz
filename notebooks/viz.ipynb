{
 "cells": [
  {
   "cell_type": "code",
   "execution_count": 6,
   "id": "40cd33d0",
   "metadata": {
    "ExecuteTime": {
     "end_time": "2021-08-30T14:05:38.189961Z",
     "start_time": "2021-08-30T14:05:36.968895Z"
    }
   },
   "outputs": [],
   "source": [
    "import joblib\n",
    "# ^^^ pyforest auto-imports - don't write above this line\n",
    "import joblib\n",
    "import matplotlib.pyplot as plt\n",
    "import numpy as np\n",
    "import optuna\n",
    "from sktime.forecasting.model_selection import SlidingWindowSplitter\n",
    "from sktime.forecasting.model_selection import ExpandingWindowSplitter\n",
    "from sktime.forecasting.trend import PolynomialTrendForecaster\n",
    "from egbz.utils import *\n",
    "\n",
    "import warnings\n",
    "warnings.filterwarnings(\"ignore\")\n",
    "import logging\n",
    "logging.disable(logging.CRITICAL)"
   ]
  },
  {
   "cell_type": "code",
   "execution_count": 16,
   "id": "262f6d3a",
   "metadata": {
    "ExecuteTime": {
     "end_time": "2021-08-30T14:09:43.709848Z",
     "start_time": "2021-08-30T14:09:43.694323Z"
    }
   },
   "outputs": [],
   "source": [
    "data = joblib.load('../training_data/data.dataset')\n",
    "y = data['hosp']"
   ]
  },
  {
   "cell_type": "code",
   "execution_count": 97,
   "id": "8a5817a8",
   "metadata": {
    "ExecuteTime": {
     "end_time": "2021-08-30T14:29:57.474289Z",
     "start_time": "2021-08-30T14:29:57.299270Z"
    }
   },
   "outputs": [
    {
     "data": {
      "image/png": "[encoded data removed]",
      "text/plain": [
       "<Figure size 432x288 with 1 Axes>"
      ]
     },
     "metadata": {
      "needs_background": "light"
     },
     "output_type": "display_data"
    }
   ],
   "source": [
    "y_75 = y.sel(zone='75').to_pandas()\n",
    "y_train = y_75[-14:-7]\n",
    "y_test = y_75[-7:-6]\n",
    "forecaster = PolynomialTrendForecaster(degree=1)\n",
    "forecaster.fit(y_train, fh=i)\n",
    "y_pred = forecaster.predict()\n",
    "plot_prediction(\n",
    "    y_train,\n",
    "    y_test,\n",
    "    y_pred,\n",
    "    historic_size=5\n",
    ")\n"
   ]
  },
  {
   "cell_type": "code",
   "execution_count": null,
   "id": "f4367e48",
   "metadata": {},
   "outputs": [],
   "source": []
  },
  {
   "cell_type": "code",
   "execution_count": 47,
   "id": "e359348d",
   "metadata": {
    "ExecuteTime": {
     "end_time": "2021-08-30T14:22:36.612983Z",
     "start_time": "2021-08-30T14:22:36.609905Z"
    }
   },
   "outputs": [],
   "source": [
    "def plot_prediction(\n",
    "    y_train,\n",
    "    y_test,\n",
    "    y_pred,\n",
    "    historic_size=20\n",
    "):\n",
    "    plt.plot(y_train[-20:]);\n",
    "    plt.plot(y_test, c='blue', marker='o')\n",
    "    plt.plot(y_pred, c='red', marker='X')"
   ]
  }
 ],
 "metadata": {
  "kernelspec": {
   "display_name": "Python 3 (ipykernel)",
   "language": "python",
   "name": "python3"
  },
  "language_info": {
   "codemirror_mode": {
    "name": "ipython",
    "version": 3
   },
   "file_extension": ".py",
   "mimetype": "text/x-python",
   "name": "python",
   "nbconvert_exporter": "python",
   "pygments_lexer": "ipython3",
   "version": "3.9.6"
  },
  "toc": {
   "base_numbering": 1,
   "nav_menu": {},
   "number_sections": true,
   "sideBar": true,
   "skip_h1_title": false,
   "title_cell": "Table of Contents",
   "title_sidebar": "Contents",
   "toc_cell": false,
   "toc_position": {},
   "toc_section_display": true,
   "toc_window_display": false
  }
 },
 "nbformat": 4,
 "nbformat_minor": 5
}
