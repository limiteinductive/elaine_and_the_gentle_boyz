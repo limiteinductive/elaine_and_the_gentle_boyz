{
 "cells": [
  {
   "cell_type": "code",
   "execution_count": 1,
   "metadata": {
    "ExecuteTime": {
     "end_time": "2021-08-27T09:15:12.403801Z",
     "start_time": "2021-08-27T09:15:11.857664Z"
    },
    "id": "OXdePhqshiPF"
   },
   "outputs": [],
   "source": [
    "from tensorflow.keras import Sequential\n",
    "import numpy as np\n",
    "import optuna\n",
    "import pandas as pd\n",
    "# ^^^ pyforest auto-imports - don't write above this line\n",
    "import sys\n",
    "import time\n",
    "import pandas as pd\n",
    "import numpy as np\n",
    "import matplotlib.pyplot as plt\n",
    "from datetime import datetime\n",
    "import xarray as xr\n",
    "\n",
    "\n",
    "import warnings\n",
    "warnings.filterwarnings(\"ignore\")\n",
    "import logging\n",
    "logging.disable(logging.CRITICAL)"
   ]
  },
  {
   "cell_type": "code",
   "execution_count": 56,
   "metadata": {
    "ExecuteTime": {
     "end_time": "2021-08-27T09:14:49.708354Z",
     "start_time": "2021-08-27T09:14:49.695955Z"
    }
   },
   "outputs": [
    {
     "name": "stdout",
     "output_type": "stream",
     "text": [
      "The autoreload extension is already loaded. To reload it, use:\n",
      "  %reload_ext autoreload\n"
     ]
    }
   ],
   "source": [
    "%load_ext autoreload\n",
    "%autoreload 2"
   ]
  },
  {
   "cell_type": "code",
   "execution_count": 4,
   "metadata": {
    "ExecuteTime": {
     "end_time": "2021-08-27T13:26:45.341184Z",
     "start_time": "2021-08-27T13:26:45.053769Z"
    }
   },
   "outputs": [],
   "source": [
    "from egbz.utils import *"
   ]
  },
  {
   "cell_type": "markdown",
   "metadata": {},
   "source": [
    "Cross-validation strategy\n",
    "----------"
   ]
  },
  {
   "cell_type": "markdown",
   "metadata": {},
   "source": [
    "Stratégie de validation croisée spatio-temporelle avec, prévision de *n* data_leakage=*l*, avec *k* fold temporels et fenêtre temporelle = (*start*, *end*) "
   ]
  },
  {
   "cell_type": "markdown",
   "metadata": {},
   "source": [
    "   - Pour chaque zone=*département* (100-fold)\n",
    "   - Pour chaque moment=*timestamp* (k-fold)\n"
   ]
  },
  {
   "cell_type": "markdown",
   "metadata": {
    "ExecuteTime": {
     "end_time": "2021-08-27T09:04:34.873014Z",
     "start_time": "2021-08-27T09:04:34.852494Z"
    }
   },
   "source": [
    "   X = dataset[\\\n",
    "       zone = *zone*-département,\\\n",
    "       time = *start* -> min(*timestamp*+l+n, *end*)\\\n",
    "   ] + dataset[\\\n",
    "       zone = *département\\\n",
    "       time = start* -> *timestamp*"
   ]
  },
  {
   "cell_type": "markdown",
   "metadata": {},
   "source": [
    "y = dataset[\n",
    "    zone = département\n",
    "    time = timestamp+1 -> timestamp + n"
   ]
  },
  {
   "cell_type": "markdown",
   "metadata": {},
   "source": [
    "Prenons un exemple de fold avec une prévision n=7, data_leakage l=2, et une fenêtre temporelle de '2020-03-18' -> '2021-03-18', et 5-fold temporal cv"
   ]
  },
  {
   "cell_type": "code",
   "execution_count": 113,
   "metadata": {
    "ExecuteTime": {
     "end_time": "2021-08-27T14:10:08.780738Z",
     "start_time": "2021-08-27T14:10:08.776641Z"
    }
   },
   "outputs": [
    {
     "data": {
      "application/javascript": [
       "\n",
       "        if (window._pyforest_update_imports_cell) { window._pyforest_update_imports_cell('import numpy as np\\nimport pandas as pd'); }\n",
       "    "
      ],
      "text/plain": [
       "<IPython.core.display.Javascript object>"
      ]
     },
     "metadata": {},
     "output_type": "display_data"
    }
   ],
   "source": [
    "random_deps = np.random.choice(dataset.zone, size=5, replace=False)\n",
    "start = '2020-03-18'\n",
    "end = '2021-03-18'"
   ]
  }
 ],
 "metadata": {
  "accelerator": "GPU",
  "colab": {
   "collapsed_sections": [],
   "name": "darts.ipynb",
   "provenance": []
  },
  "kernelspec": {
   "display_name": "Python 3 (ipykernel)",
   "language": "python",
   "name": "python3"
  },
  "language_info": {
   "codemirror_mode": {
    "name": "ipython",
    "version": 3
   },
   "file_extension": ".py",
   "mimetype": "text/x-python",
   "name": "python",
   "nbconvert_exporter": "python",
   "pygments_lexer": "ipython3",
   "version": "3.9.6"
  },
  "toc": {
   "base_numbering": 1,
   "nav_menu": {},
   "number_sections": true,
   "sideBar": true,
   "skip_h1_title": false,
   "title_cell": "Table of Contents",
   "title_sidebar": "Contents",
   "toc_cell": false,
   "toc_position": {},
   "toc_section_display": true,
   "toc_window_display": false
  }
 },
 "nbformat": 4,
 "nbformat_minor": 1
}
